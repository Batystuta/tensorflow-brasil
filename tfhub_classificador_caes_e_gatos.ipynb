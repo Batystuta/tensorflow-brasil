{
  "nbformat": 4,
  "nbformat_minor": 0,
  "metadata": {
    "colab": {
      "name": "tfhub-classificador-caes-e-gatos.ipynb",
      "version": "0.3.2",
      "provenance": [],
      "collapsed_sections": [],
      "toc_visible": true
    },
    "kernelspec": {
      "name": "python2",
      "display_name": "Python 2"
    },
    "accelerator": "GPU"
  },
  "cells": [
    {
      "cell_type": "markdown",
      "metadata": {
        "id": "view-in-github",
        "colab_type": "text"
      },
      "source": [
        "[View in Colaboratory](https://colab.research.google.com/github/mari-linhares/tensorflow-brasil/blob/eager-hub/tfhub_classificador_caes_e_gatos.ipynb)"
      ]
    },
    {
      "metadata": {
        "id": "9QxT_e9it28-",
        "colab_type": "text"
      },
      "cell_type": "markdown",
      "source": [
        "## Transfer learning com TFhub para um classificador de imagens\n",
        "\n",
        "\n",
        "[Jupyter notebook no Github]()\n",
        "\n",
        "[TensorFlow Hub](https://www.tensorflow.org/hub/) é uma biblioteca armazenamento e compartilhamento de modelos (ou parte de modelos) implementados com TensorFlow.\n",
        "\n",
        "Essa biblioteca permite facilmente:\n",
        "1. Reusar parte de modelos já treinados (Transfer learning)\n",
        "2. Retreinar modelos (Fine tunning)\n",
        "3. Compartilhar resultados\n",
        "\n",
        "Nesse tutorial vamos focar em como usar TensorFlow hub para fazer [Transfer learning](http://cs231n.github.io/transfer-learning/) que consiste em utilizar camadas iniciais de um modelo já treinadas e reaproveitar esse conhecimento (sem retreinar essas camadas!). Para aprender algo sobre nosso próprio problema adicionamos novas camadas e essas sim nós treinamos nos nossos dados.  Se essa explicação não ajudou o diagrama abaixo talvez ajude :).\n",
        "\n",
        "![Transfer learning](https://indico.io/blog/wp-content/uploads/2016/02/transfer_learning_nathan.jpg)"
      ]
    },
    {
      "metadata": {
        "id": "DTfpY-IoylwQ",
        "colab_type": "text"
      },
      "cell_type": "markdown",
      "source": [
        "## Dependências"
      ]
    },
    {
      "metadata": {
        "id": "ZQnBClS2yNQI",
        "colab_type": "code",
        "colab": {
          "base_uri": "https://localhost:8080/",
          "height": 288
        },
        "outputId": "d9109b3e-26b9-4176-ff80-49bd8d5442ca"
      },
      "cell_type": "code",
      "source": [
        "!pip install tensorflow --upgrade tensorflow==1.7.0\n",
        "!pip install tensorflow-hub\n",
        "!pip install matplotlib"
      ],
      "execution_count": 1,
      "outputs": [
        {
          "output_type": "stream",
          "text": [
            "\u001b[31mDouble requirement given: tensorflow==1.7.0 (already in tensorflow, name='tensorflow')\u001b[0m\n",
            "Requirement already satisfied: tensorflow-hub in /usr/local/lib/python2.7/dist-packages (0.1.0)\n",
            "Requirement already satisfied: protobuf>=3.4.0 in /usr/local/lib/python2.7/dist-packages (from tensorflow-hub) (3.5.2.post1)\n",
            "Requirement already satisfied: numpy>=1.12.0 in /usr/local/lib/python2.7/dist-packages (from tensorflow-hub) (1.14.3)\n",
            "Requirement already satisfied: six>=1.10.0 in /usr/local/lib/python2.7/dist-packages (from tensorflow-hub) (1.11.0)\n",
            "Requirement already satisfied: setuptools in /usr/local/lib/python2.7/dist-packages (from protobuf>=3.4.0->tensorflow-hub) (39.1.0)\n",
            "Requirement already satisfied: matplotlib in /usr/local/lib/python2.7/dist-packages (2.1.2)\n",
            "Requirement already satisfied: cycler>=0.10 in /usr/local/lib/python2.7/dist-packages (from matplotlib) (0.10.0)\n",
            "Requirement already satisfied: numpy>=1.7.1 in /usr/local/lib/python2.7/dist-packages (from matplotlib) (1.14.3)\n",
            "Requirement already satisfied: backports.functools-lru-cache in /usr/local/lib/python2.7/dist-packages (from matplotlib) (1.5)\n",
            "Requirement already satisfied: subprocess32 in /usr/local/lib/python2.7/dist-packages (from matplotlib) (3.5.0)\n",
            "Requirement already satisfied: pytz in /usr/local/lib/python2.7/dist-packages (from matplotlib) (2018.4)\n",
            "Requirement already satisfied: six>=1.10 in /usr/local/lib/python2.7/dist-packages (from matplotlib) (1.11.0)\n",
            "Requirement already satisfied: python-dateutil>=2.1 in /usr/local/lib/python2.7/dist-packages (from matplotlib) (2.5.3)\n",
            "Requirement already satisfied: pyparsing!=2.0.4,!=2.1.2,!=2.1.6,>=2.0.1 in /usr/local/lib/python2.7/dist-packages (from matplotlib) (2.2.0)\n"
          ],
          "name": "stdout"
        }
      ]
    },
    {
      "metadata": {
        "id": "h81BMJtPy3Ny",
        "colab_type": "text"
      },
      "cell_type": "markdown",
      "source": [
        "#### Importando dependências"
      ]
    },
    {
      "metadata": {
        "id": "0MN6jNr8yxf7",
        "colab_type": "code",
        "colab": {
          "base_uri": "https://localhost:8080/",
          "height": 67
        },
        "outputId": "5694a471-60c3-4192-e453-e2775c680f9c"
      },
      "cell_type": "code",
      "source": [
        "# Compatibilidade entre Python 2 e Python 3\n",
        "from __future__ import absolute_import\n",
        "from __future__ import division\n",
        "from __future__ import print_function\n",
        "\n",
        "import sys\n",
        "import os\n",
        "try:\n",
        "  import urllib.request as urrlib_request # Python 3\n",
        "except:\n",
        "  import urllib as urllib_request  # Python 2\n",
        "import tarfile\n",
        "import zipfile\n",
        "\n",
        "\n",
        "# TensorFlow\n",
        "import tensorflow as tf\n",
        "import tensorflow_hub as hub\n",
        "tf.logging.set_verbosity(tf.logging.INFO)  # Permitindo visualização de logs\n",
        "\n",
        "# Bibliotecas auxiliares\n",
        "try:\n",
        "  import cPickle  # maior eficiência ao processar as imagens\n",
        "except:\n",
        "  import _pickle as cPickle\n",
        "\n",
        "import numpy as np  # manipular vetores\n",
        "from PIL import Image  # lidar com imagens\n",
        "import matplotlib.pyplot as plt  # plotar imagens\n",
        "%matplotlib inline\n",
        "\n",
        "import glob  # lidar com arquivos\n",
        "\n",
        "tf.logging.info('Recomenda-se para esta atividade uma versão >= 1.7.0')\n",
        "tf.logging.info('Sua versão do TensorFlow {}'.format(tf.__version__))\n",
        "tf.logging.info('GPU disponível? {}'.format('Sim' if tf.test.is_gpu_available() else 'Não'))\n",
        "\n",
        "%matplotlib inline"
      ],
      "execution_count": 1,
      "outputs": [
        {
          "output_type": "stream",
          "text": [
            "INFO:tensorflow:Recomenda-se para esta atividade uma versão >= 1.7.0\n",
            "INFO:tensorflow:Sua versão do TensorFlow 1.7.0\n",
            "INFO:tensorflow:GPU disponível? Sim\n"
          ],
          "name": "stdout"
        }
      ]
    },
    {
      "metadata": {
        "id": "J9F0h7UOxTAw",
        "colab_type": "text"
      },
      "cell_type": "markdown",
      "source": [
        "## Buscando e tratando os dados\n",
        "\n",
        "Pode ignorar essa parte do código caso seu foco seja apenas aprender mais sobre TensorFlow especificamente. Aqui o que é feito é:\n",
        "* Os dados são baixados caso necessário.\n",
        "* As imagens são tratadas: shapes corrigidas, valores normalizados...\n",
        "\n",
        "\n",
        "### Baixando os dados\n",
        "\n",
        "O código abaixo foi basicamente copiado diretamente de: https://github.com/Hvass-Labs/TensorFlow-Tutorials/blob/master/download.py pois esse não é o foco desse tutorial."
      ]
    },
    {
      "metadata": {
        "id": "Z5gRVUBRxT9Q",
        "colab_type": "code",
        "colab": {}
      },
      "cell_type": "code",
      "source": [
        "def _print_download_progress(count, block_size, total_size):\n",
        "  \"\"\"\n",
        "  Function used for printing the download progress.\n",
        "  Used as a call-back function in maybe_download_and_extract().\n",
        "  \"\"\"\n",
        "\n",
        "  # Percentage completion.\n",
        "  pct_complete = float(count * block_size) / total_size\n",
        "\n",
        "  # Status-message. Note the \\r which means the line should overwrite itself.\n",
        "  msg = \"\\r- Download progress: {0:.1%}\".format(pct_complete)\n",
        "\n",
        "  # Print it.\n",
        "  sys.stdout.write(msg)\n",
        "  sys.stdout.flush()\n",
        "\n",
        "\n",
        "def maybe_download_and_extract(url=\"https://www.cs.toronto.edu/~kriz/cifar-10-python.tar.gz\",\n",
        "                               download_dir=\".\"):\n",
        "  \"\"\"\n",
        "  Download and extract the data if it doesn't already exist.\n",
        "  Assumes the url is a tar-ball file.\n",
        "  :param url:\n",
        "      Internet URL for the tar-file to download.\n",
        "      Example: \"https://www.cs.toronto.edu/~kriz/cifar-10-python.tar.gz\"\n",
        "  :param download_dir:\n",
        "      Directory where the downloaded file is saved.\n",
        "      Example: \"data/CIFAR-10/\"\n",
        "  :return:\n",
        "      Nothing.\n",
        "  \"\"\"\n",
        "\n",
        "  # Filename for saving the file downloaded from the internet.\n",
        "  # Use the filename from the URL and add it to the download_dir.\n",
        "  filename = url.split('/')[-1]\n",
        "  file_path = os.path.join(download_dir, filename)\n",
        "\n",
        "  # Check if the file already exists.\n",
        "  # If it exists then we assume it has also been extracted,\n",
        "  # otherwise we need to download and extract it now.\n",
        "  if not os.path.exists(file_path):\n",
        "      # Check if the download directory exists, otherwise create it.\n",
        "      if not os.path.exists(download_dir):\n",
        "          os.makedirs(download_dir)\n",
        "\n",
        "      # Download the file from the internet.\n",
        "      file_path, _ = urllib_request.urlretrieve(url=url,\n",
        "                                                filename=file_path,\n",
        "                                                reporthook=_print_download_progress)\n",
        "\n",
        "      print()\n",
        "      print(\"Download finished. Extracting files.\")\n",
        "\n",
        "      if file_path.endswith(\".zip\"):\n",
        "          # Unpack the zip-file.\n",
        "          zipfile.ZipFile(file=file_path, mode=\"r\").extractall(download_dir)\n",
        "      elif file_path.endswith((\".tar.gz\", \".tgz\")):\n",
        "          # Unpack the tar-ball.\n",
        "          tarfile.open(name=file_path, mode=\"r:gz\").extractall(download_dir)\n",
        "\n",
        "      print(\"Done.\")\n",
        "  else:\n",
        "      print(\"Data has apparently already been downloaded and unpacked.\")"
      ],
      "execution_count": 0,
      "outputs": []
    },
    {
      "metadata": {
        "id": "raegblQmxYdi",
        "colab_type": "code",
        "colab": {
          "base_uri": "https://localhost:8080/",
          "height": 33
        },
        "outputId": "8b44dbbd-e36d-42c2-90c8-93d038890499"
      },
      "cell_type": "code",
      "source": [
        "maybe_download_and_extract(url='http://files.fast.ai/data/dogscats.zip')"
      ],
      "execution_count": 4,
      "outputs": [
        {
          "output_type": "stream",
          "text": [
            "Data has apparently already been downloaded and unpacked.\n"
          ],
          "name": "stdout"
        }
      ]
    },
    {
      "metadata": {
        "id": "-dDmSHIUzTFF",
        "colab_type": "code",
        "colab": {
          "base_uri": "https://localhost:8080/",
          "height": 50
        },
        "outputId": "e1558523-9d4e-40c2-d278-c7128fed6e8d"
      },
      "cell_type": "code",
      "source": [
        "!ls  # checando se a nova pasta foi criada\n",
        "!ls 'dogscats/'  # checando o que tem dentro dela\n",
        "DATA_DIR = 'dogscats/'  # \"apontando\" para nova pasta"
      ],
      "execution_count": 5,
      "outputs": [
        {
          "output_type": "stream",
          "text": [
            "datalab  dogscats  dogscats.zip\n",
            "models\tsample\ttest1  train  valid\n"
          ],
          "name": "stdout"
        }
      ]
    },
    {
      "metadata": {
        "id": "A3N3mSjLx3nw",
        "colab_type": "text"
      },
      "cell_type": "markdown",
      "source": [
        "#### Visualizando algumas imagens do dataset e seus labels"
      ]
    },
    {
      "metadata": {
        "id": "xTDwaL6cx3Zh",
        "colab_type": "code",
        "colab": {
          "base_uri": "https://localhost:8080/",
          "height": 100
        },
        "outputId": "dd5ee11c-900c-4fdb-b56d-33bf9437d82c"
      },
      "cell_type": "code",
      "source": [
        "# Temos cada imagem individualmente\n",
        "gatos = glob.glob(os.path.join(DATA_DIR, 'train', 'cats', '*'))[:5]\n",
        "gatos"
      ],
      "execution_count": 6,
      "outputs": [
        {
          "output_type": "execute_result",
          "data": {
            "text/plain": [
              "['dogscats/train/cats/cat.5107.jpg',\n",
              " 'dogscats/train/cats/cat.6903.jpg',\n",
              " 'dogscats/train/cats/cat.808.jpg',\n",
              " 'dogscats/train/cats/cat.8896.jpg',\n",
              " 'dogscats/train/cats/cat.9613.jpg']"
            ]
          },
          "metadata": {
            "tags": []
          },
          "execution_count": 6
        }
      ]
    },
    {
      "metadata": {
        "id": "u5K14VgYx7TY",
        "colab_type": "code",
        "colab": {
          "base_uri": "https://localhost:8080/",
          "height": 143
        },
        "outputId": "d60ed5d9-11cf-47ba-cb95-3efa88d7ea74"
      },
      "cell_type": "code",
      "source": [
        "def visualizar_dados_treino(num_imgs_por_classe, data_dir):\n",
        "    '''Essa função apresenta alguns dados de treino (imagens, labels) escolhidos aleatoriamente.\n",
        "       Parâmetros:\n",
        "           num_imgs_por_classe (int): número de imagens apresentadas por classe.\n",
        "           data_dir (string): onde os arquivos foram baixados.\n",
        "    '''\n",
        "\n",
        "    print('Exemplo de %d imagens da base de treino' % (num_imgs_por_classe * 2))\n",
        "    \n",
        "    # Obtemos as imagens\n",
        "    treino_path = os.path.join(data_dir, 'train')\n",
        "    gatos = os.listdir(os.path.join(treino_path, 'cats'))\n",
        "    caes = os.listdir(os.path.join(treino_path, 'dogs'))\n",
        "    \n",
        "    # Escolhemos índices aleatórios\n",
        "    print(len(gatos), len(caes))\n",
        "    random_ind_gato = np.random.choice(len(gatos), num_imgs_por_classe, replace=False)\n",
        "    random_ind_cao = np.random.choice(len(caes), num_imgs_por_classe, replace=False)\n",
        "    \n",
        "    # Buscando imagens e labels\n",
        "    imagens = [gatos[r] for r in random_ind_gato] + [caes[r] for r in random_ind_cao]\n",
        "    labels = [0] * num_imgs_por_classe + [1] * num_imgs_por_classe\n",
        "    \n",
        "    # Plottando imagens\n",
        "    for index, (img, label) in enumerate(zip(imagens, labels)):\n",
        "        if 'cat' in img:\n",
        "          path = os.path.join(treino_path, 'cats')\n",
        "        else:\n",
        "          path = os.path.join(treino_path, 'dogs')\n",
        "        \n",
        "        img = plt.imread(os.path.join(path, img))\n",
        "        \n",
        "        plt.subplot(4, num_imgs_por_classe * 2, index + 1)\n",
        "        plt.axis('off')\n",
        "        plt.imshow(img, cmap=plt.cm.gray_r)\n",
        "        plt.title('%i' % label)\n",
        "    plt.show()\n",
        "\n",
        "visualizar_dados_treino(3, DATA_DIR)"
      ],
      "execution_count": 7,
      "outputs": [
        {
          "output_type": "stream",
          "text": [
            "Exemplo de 6 imagens da base de treino\n",
            "11500 11500\n"
          ],
          "name": "stdout"
        },
        {
          "output_type": "display_data",
          "data": {
            "image/png": "[encoded data removed]",
            "text/plain": [
              "<matplotlib.figure.Figure at 0x7ff572ec8dd0>"
            ]
          },
          "metadata": {
            "tags": []
          }
        }
      ]
    },
    {
      "metadata": {
        "id": "qnPM6i1wyMtZ",
        "colab_type": "text"
      },
      "cell_type": "markdown",
      "source": [
        "### Usando Tf.data para lidar com os dados!\n",
        "\n",
        "Tf.data é uma api fléxivel e rápida que permite manipular desde uma pequena quantidade de dados até dados que não cabem na memória. "
      ]
    },
    {
      "metadata": {
        "id": "OZbrqx98zcEC",
        "colab_type": "code",
        "colab": {}
      },
      "cell_type": "code",
      "source": [
        "def _img_string_to_tensor(image_string, image_size=(299, 299)):\n",
        "    image_decoded = tf.image.decode_jpeg(image_string, channels=3)\n",
        "    # Convert from full range of uint8 to range [0,1] of float32.\n",
        "    image_decoded_as_float = tf.image.convert_image_dtype(image_decoded, dtype=tf.float32)\n",
        "    # Resize to expected\n",
        "    image_resized = tf.image.resize_images(image_decoded_as_float, size=image_size)\n",
        "    \n",
        "    return image_resized\n",
        "\n",
        "def get_dataset(file_pattern, image_size=(224, 224), shuffle=False,\n",
        "                batch_size=64, num_epochs=None, buffer_size=4096):\n",
        "    def _path_to_img(path):\n",
        "        # Get the parent folder of this file to get it's class name\n",
        "        label = tf.string_split([path], delimiter='/').values[-2]\n",
        "        # Read in the image from disk\n",
        "        image_string = tf.read_file(path)\n",
        "        image_resized = _img_string_to_tensor(image_string, image_size)\n",
        "        \n",
        "        return image_resized, label\n",
        "\n",
        "    dataset = tf.data.Dataset.list_files(file_pattern).repeat(num_epochs)\n",
        "\n",
        "    if shuffle:\n",
        "        dataset = dataset.shuffle(buffer_size)\n",
        " \n",
        "    dataset = dataset.map(_path_to_img)\n",
        "    dataset = dataset.batch(batch_size).prefetch(buffer_size)\n",
        "\n",
        "    return dataset"
      ],
      "execution_count": 0,
      "outputs": []
    },
    {
      "metadata": {
        "id": "dDkhpfgczxAC",
        "colab_type": "text"
      },
      "cell_type": "markdown",
      "source": [
        "### Importando modelo com TensorFlow Hub\n",
        "\n",
        "Basicamente o que você precisa pra importar um modelo é uma URL. As URLs oficiais do TensorFlow tem o seguinte formato:\n",
        "\n",
        "![](https://lh3.googleusercontent.com/j37Bi4iiDtIemo_a2tQ1gIxYVRzTi8qsHxZkAOl-eaGGhBldDICP3lvwC2elQ6h2cchuM3TQ698Mpg=w1920-h948-rw)\n"
      ]
    },
    {
      "metadata": {
        "id": "JVtX-WQbzdrG",
        "colab_type": "code",
        "colab": {
          "base_uri": "https://localhost:8080/",
          "height": 13703
        },
        "outputId": "acc5356b-05b8-4df0-9124-02cd7daca0e9"
      },
      "cell_type": "code",
      "source": [
        "BATCH_SIZE = 32\n",
        "nasnet = hub.Module(\"https://tfhub.dev/google/imagenet/resnet_v2_152/feature_vector/1\")\n",
        "height, width = hub.get_expected_image_size(nasnet)"
      ],
      "execution_count": 7,
      "outputs": [
        {
          "output_type": "stream",
          "text": [
            "INFO:tensorflow:Using /tmp/tfhub_modules to cache modules.\n",
            "INFO:tensorflow:Downloading TF-Hub Module 'https://tfhub.dev/google/imagenet/resnet_v2_152/feature_vector/1'.\n",
            "INFO:tensorflow:Downloaded TF-Hub Module 'https://tfhub.dev/google/imagenet/resnet_v2_152/feature_vector/1'.\n",
            "INFO:tensorflow:Initialize variable module/resnet_v2_152/block1/unit_1/bottleneck_v2/conv1/BatchNorm/beta:0 from checkpoint /tmp/tfhub_modules/8d0633058d241900a3e5895be9e610592a5e1fac/variables/variables with resnet_v2_152/block1/unit_1/bottleneck_v2/conv1/BatchNorm/beta\n",
            "INFO:tensorflow:Initialize variable module/resnet_v2_152/block1/unit_1/bottleneck_v2/conv1/BatchNorm/gamma:0 from checkpoint /tmp/tfhub_modules/8d0633058d241900a3e5895be9e610592a5e1fac/variables/variables with resnet_v2_152/block1/unit_1/bottleneck_v2/conv1/BatchNorm/gamma\n",
            "INFO:tensorflow:Initialize variable module/resnet_v2_152/block1/unit_1/bottleneck_v2/conv1/BatchNorm/moving_mean:0 from checkpoint /tmp/tfhub_modules/8d0633058d241900a3e5895be9e610592a5e1fac/variables/variables with resnet_v2_152/block1/unit_1/bottleneck_v2/conv1/BatchNorm/moving_mean\n",
            "INFO:tensorflow:Initialize variable module/resnet_v2_152/block1/unit_1/bottleneck_v2/conv1/BatchNorm/moving_variance:0 from checkpoint /tmp/tfhub_modules/8d0633058d241900a3e5895be9e610592a5e1fac/variables/variables with resnet_v2_152/block1/unit_1/bottleneck_v2/conv1/BatchNorm/moving_variance\n",
            "INFO:tensorflow:Initialize variable module/resnet_v2_152/block1/unit_1/bottleneck_v2/conv1/weights:0 from checkpoint /tmp/tfhub_modules/8d0633058d241900a3e5895be9e610592a5e1fac/variables/variables with resnet_v2_152/block1/unit_1/bottleneck_v2/conv1/weights\n",
            "INFO:tensorflow:Initialize variable module/resnet_v2_152/block1/unit_1/bottleneck_v2/conv2/BatchNorm/beta:0 from checkpoint /tmp/tfhub_modules/8d0633058d241900a3e5895be9e610592a5e1fac/variables/variables with resnet_v2_152/block1/unit_1/bottleneck_v2/conv2/BatchNorm/beta\n",
            "INFO:tensorflow:Initialize variable module/resnet_v2_152/block1/unit_1/bottleneck_v2/conv2/BatchNorm/gamma:0 from checkpoint /tmp/tfhub_modules/8d0633058d241900a3e5895be9e610592a5e1fac/variables/variables with resnet_v2_152/block1/unit_1/bottleneck_v2/conv2/BatchNorm/gamma\n",
            "INFO:tensorflow:Initialize variable module/resnet_v2_152/block1/unit_1/bottleneck_v2/conv2/BatchNorm/moving_mean:0 from checkpoint /tmp/tfhub_modules/8d0633058d241900a3e5895be9e610592a5e1fac/variables/variables with resnet_v2_152/block1/unit_1/bottleneck_v2/conv2/BatchNorm/moving_mean\n",
            "INFO:tensorflow:Initialize variable module/resnet_v2_152/block1/unit_1/bottleneck_v2/conv2/BatchNorm/moving_variance:0 from checkpoint /tmp/tfhub_modules/8d0633058d241900a3e5895be9e610592a5e1fac/variables/variables with resnet_v2_152/block1/unit_1/bottleneck_v2/conv2/BatchNorm/moving_variance\n",
            "INFO:tensorflow:Initialize variable module/resnet_v2_152/block1/unit_1/bottleneck_v2/conv2/weights:0 from checkpoint /tmp/tfhub_modules/8d0633058d241900a3e5895be9e610592a5e1fac/variables/variables with resnet_v2_152/block1/unit_1/bottleneck_v2/conv2/weights\n",
            "INFO:tensorflow:Initialize variable module/resnet_v2_152/block1/unit_1/bottleneck_v2/conv3/biases:0 from checkpoint /tmp/tfhub_modules/8d0633058d241900a3e5895be9e610592a5e1fac/variables/variables with resnet_v2_152/block1/unit_1/bottleneck_v2/conv3/biases\n",
            "INFO:tensorflow:Initialize variable module/resnet_v2_152/block1/unit_1/bottleneck_v2/conv3/weights:0 from checkpoint /tmp/tfhub_modules/8d0633058d241900a3e5895be9e610592a5e1fac/variables/variables with resnet_v2_152/block1/unit_1/bottleneck_v2/conv3/weights\n",
            "INFO:tensorflow:Initialize variable module/resnet_v2_152/block1/unit_1/bottleneck_v2/preact/beta:0 from checkpoint /tmp/tfhub_modules/8d0633058d241900a3e5895be9e610592a5e1fac/variables/variables with resnet_v2_152/block1/unit_1/bottleneck_v2/preact/beta\n",
            "INFO:tensorflow:Initialize variable module/resnet_v2_152/block1/unit_1/bottleneck_v2/preact/gamma:0 from checkpoint /tmp/tfhub_modules/8d0633058d241900a3e5895be9e610592a5e1fac/variables/variables with resnet_v2_152/block1/unit_1/bottleneck_v2/preact/gamma\n",
            "INFO:tensorflow:Initialize variable module/resnet_v2_152/block1/unit_1/bottleneck_v2/preact/moving_mean:0 from checkpoint /tmp/tfhub_modules/8d0633058d241900a3e5895be9e610592a5e1fac/variables/variables with resnet_v2_152/block1/unit_1/bottleneck_v2/preact/moving_mean\n",
            "INFO:tensorflow:Initialize variable module/resnet_v2_152/block1/unit_1/bottleneck_v2/preact/moving_variance:0 from checkpoint /tmp/tfhub_modules/8d0633058d241900a3e5895be9e610592a5e1fac/variables/variables with resnet_v2_152/block1/unit_1/bottleneck_v2/preact/moving_variance\n",
            "INFO:tensorflow:Initialize variable module/resnet_v2_152/block1/unit_1/bottleneck_v2/shortcut/biases:0 from checkpoint /tmp/tfhub_modules/8d0633058d241900a3e5895be9e610592a5e1fac/variables/variables with resnet_v2_152/block1/unit_1/bottleneck_v2/shortcut/biases\n",
            "INFO:tensorflow:Initialize variable module/resnet_v2_152/block1/unit_1/bottleneck_v2/shortcut/weights:0 from checkpoint /tmp/tfhub_modules/8d0633058d241900a3e5895be9e610592a5e1fac/variables/variables with resnet_v2_152/block1/unit_1/bottleneck_v2/shortcut/weights\n",
            "INFO:tensorflow:Initialize variable module/resnet_v2_152/block1/unit_2/bottleneck_v2/conv1/BatchNorm/beta:0 from checkpoint /tmp/tfhub_modules/8d0633058d241900a3e5895be9e610592a5e1fac/variables/variables with resnet_v2_152/block1/unit_2/bottleneck_v2/conv1/BatchNorm/beta\n",
            "INFO:tensorflow:Initialize variable module/resnet_v2_152/block1/unit_2/bottleneck_v2/conv1/BatchNorm/gamma:0 from checkpoint /tmp/tfhub_modules/8d0633058d241900a3e5895be9e610592a5e1fac/variables/variables with resnet_v2_152/block1/unit_2/bottleneck_v2/conv1/BatchNorm/gamma\n",
            "INFO:tensorflow:Initialize variable module/resnet_v2_152/block1/unit_2/bottleneck_v2/conv1/BatchNorm/moving_mean:0 from checkpoint /tmp/tfhub_modules/8d0633058d241900a3e5895be9e610592a5e1fac/variables/variables with resnet_v2_152/block1/unit_2/bottleneck_v2/conv1/BatchNorm/moving_mean\n",
            "INFO:tensorflow:Initialize variable module/resnet_v2_152/block1/unit_2/bottleneck_v2/conv1/BatchNorm/moving_variance:0 from checkpoint /tmp/tfhub_modules/8d0633058d241900a3e5895be9e610592a5e1fac/variables/variables with resnet_v2_152/block1/unit_2/bottleneck_v2/conv1/BatchNorm/moving_variance\n",
            "INFO:tensorflow:Initialize variable module/resnet_v2_152/block1/unit_2/bottleneck_v2/conv1/weights:0 from checkpoint /tmp/tfhub_modules/8d0633058d241900a3e5895be9e610592a5e1fac/variables/variables with resnet_v2_152/block1/unit_2/bottleneck_v2/conv1/weights\n",
            "INFO:tensorflow:Initialize variable module/resnet_v2_152/block1/unit_2/bottleneck_v2/conv2/BatchNorm/beta:0 from checkpoint /tmp/tfhub_modules/8d0633058d241900a3e5895be9e610592a5e1fac/variables/variables with resnet_v2_152/block1/unit_2/bottleneck_v2/conv2/BatchNorm/beta\n",
            "INFO:tensorflow:Initialize variable module/resnet_v2_152/block1/unit_2/bottleneck_v2/conv2/BatchNorm/gamma:0 from checkpoint /tmp/tfhub_modules/8d0633058d241900a3e5895be9e610592a5e1fac/variables/variables with resnet_v2_152/block1/unit_2/bottleneck_v2/conv2/BatchNorm/gamma\n"
          ],
          "name": "stdout"
        },
        {
          "output_type": "stream",
          "text": [
            "INFO:tensorflow:Initialize variable module/resnet_v2_152/block1/unit_2/bottleneck_v2/conv2/BatchNorm/moving_mean:0 from checkpoint /tmp/tfhub_modules/8d0633058d241900a3e5895be9e610592a5e1fac/variables/variables with resnet_v2_152/block1/unit_2/bottleneck_v2/conv2/BatchNorm/moving_mean\n",
            "INFO:tensorflow:Initialize variable module/resnet_v2_152/block1/unit_2/bottleneck_v2/conv2/BatchNorm/moving_variance:0 from checkpoint /tmp/tfhub_modules/8d0633058d241900a3e5895be9e610592a5e1fac/variables/variables with resnet_v2_152/block1/unit_2/bottleneck_v2/conv2/BatchNorm/moving_variance\n",
            "INFO:tensorflow:Initialize variable module/resnet_v2_152/block1/unit_2/bottleneck_v2/conv2/weights:0 from checkpoint /tmp/tfhub_modules/8d0633058d241900a3e5895be9e610592a5e1fac/variables/variables with resnet_v2_152/block1/unit_2/bottleneck_v2/conv2/weights\n",
            "INFO:tensorflow:Initialize variable module/resnet_v2_152/block1/unit_2/bottleneck_v2/conv3/biases:0 from checkpoint /tmp/tfhub_modules/8d0633058d241900a3e5895be9e610592a5e1fac/variables/variables with resnet_v2_152/block1/unit_2/bottleneck_v2/conv3/biases\n",
            "INFO:tensorflow:Initialize variable module/resnet_v2_152/block1/unit_2/bottleneck_v2/conv3/weights:0 from checkpoint /tmp/tfhub_modules/8d0633058d241900a3e5895be9e610592a5e1fac/variables/variables with resnet_v2_152/block1/unit_2/bottleneck_v2/conv3/weights\n",
            "INFO:tensorflow:Initialize variable module/resnet_v2_152/block1/unit_2/bottleneck_v2/preact/beta:0 from checkpoint /tmp/tfhub_modules/8d0633058d241900a3e5895be9e610592a5e1fac/variables/variables with resnet_v2_152/block1/unit_2/bottleneck_v2/preact/beta\n",
            "INFO:tensorflow:Initialize variable module/resnet_v2_152/block1/unit_2/bottleneck_v2/preact/gamma:0 from checkpoint /tmp/tfhub_modules/8d0633058d241900a3e5895be9e610592a5e1fac/variables/variables with resnet_v2_152/block1/unit_2/bottleneck_v2/preact/gamma\n",
            "INFO:tensorflow:Initialize variable module/resnet_v2_152/block1/unit_2/bottleneck_v2/preact/moving_mean:0 from checkpoint /tmp/tfhub_modules/8d0633058d241900a3e5895be9e610592a5e1fac/variables/variables with resnet_v2_152/block1/unit_2/bottleneck_v2/preact/moving_mean\n",
            "INFO:tensorflow:Initialize variable module/resnet_v2_152/block1/unit_2/bottleneck_v2/preact/moving_variance:0 from checkpoint /tmp/tfhub_modules/8d0633058d241900a3e5895be9e610592a5e1fac/variables/variables with resnet_v2_152/block1/unit_2/bottleneck_v2/preact/moving_variance\n",
            "INFO:tensorflow:Initialize variable module/resnet_v2_152/block1/unit_3/bottleneck_v2/conv1/BatchNorm/beta:0 from checkpoint /tmp/tfhub_modules/8d0633058d241900a3e5895be9e610592a5e1fac/variables/variables with resnet_v2_152/block1/unit_3/bottleneck_v2/conv1/BatchNorm/beta\n",
            "INFO:tensorflow:Initialize variable module/resnet_v2_152/block1/unit_3/bottleneck_v2/conv1/BatchNorm/gamma:0 from checkpoint /tmp/tfhub_modules/8d0633058d241900a3e5895be9e610592a5e1fac/variables/variables with resnet_v2_152/block1/unit_3/bottleneck_v2/conv1/BatchNorm/gamma\n",
            "INFO:tensorflow:Initialize variable module/resnet_v2_152/block1/unit_3/bottleneck_v2/conv1/BatchNorm/moving_mean:0 from checkpoint /tmp/tfhub_modules/8d0633058d241900a3e5895be9e610592a5e1fac/variables/variables with resnet_v2_152/block1/unit_3/bottleneck_v2/conv1/BatchNorm/moving_mean\n",
            "INFO:tensorflow:Initialize variable module/resnet_v2_152/block1/unit_3/bottleneck_v2/conv1/BatchNorm/moving_variance:0 from checkpoint /tmp/tfhub_modules/8d0633058d241900a3e5895be9e610592a5e1fac/variables/variables with resnet_v2_152/block1/unit_3/bottleneck_v2/conv1/BatchNorm/moving_variance\n",
            "INFO:tensorflow:Initialize variable module/resnet_v2_152/block1/unit_3/bottleneck_v2/conv1/weights:0 from checkpoint /tmp/tfhub_modules/8d0633058d241900a3e5895be9e610592a5e1fac/variables/variables with resnet_v2_152/block1/unit_3/bottleneck_v2/conv1/weights\n",
            "INFO:tensorflow:Initialize variable module/resnet_v2_152/block1/unit_3/bottleneck_v2/conv2/BatchNorm/beta:0 from checkpoint /tmp/tfhub_modules/8d0633058d241900a3e5895be9e610592a5e1fac/variables/variables with resnet_v2_152/block1/unit_3/bottleneck_v2/conv2/BatchNorm/beta\n",
            "INFO:tensorflow:Initialize variable module/resnet_v2_152/block1/unit_3/bottleneck_v2/conv2/BatchNorm/gamma:0 from checkpoint /tmp/tfhub_modules/8d0633058d241900a3e5895be9e610592a5e1fac/variables/variables with resnet_v2_152/block1/unit_3/bottleneck_v2/conv2/BatchNorm/gamma\n",
            "INFO:tensorflow:Initialize variable module/resnet_v2_152/block1/unit_3/bottleneck_v2/conv2/BatchNorm/moving_mean:0 from checkpoint /tmp/tfhub_modules/8d0633058d241900a3e5895be9e610592a5e1fac/variables/variables with resnet_v2_152/block1/unit_3/bottleneck_v2/conv2/BatchNorm/moving_mean\n",
            "INFO:tensorflow:Initialize variable module/resnet_v2_152/block1/unit_3/bottleneck_v2/conv2/BatchNorm/moving_variance:0 from checkpoint /tmp/tfhub_modules/8d0633058d241900a3e5895be9e610592a5e1fac/variables/variables with resnet_v2_152/block1/unit_3/bottleneck_v2/conv2/BatchNorm/moving_variance\n",
            "INFO:tensorflow:Initialize variable module/resnet_v2_152/block1/unit_3/bottleneck_v2/conv2/weights:0 from checkpoint /tmp/tfhub_modules/8d0633058d241900a3e5895be9e610592a5e1fac/variables/variables with resnet_v2_152/block1/unit_3/bottleneck_v2/conv2/weights\n",
            "INFO:tensorflow:Initialize variable module/resnet_v2_152/block1/unit_3/bottleneck_v2/conv3/biases:0 from checkpoint /tmp/tfhub_modules/8d0633058d241900a3e5895be9e610592a5e1fac/variables/variables with resnet_v2_152/block1/unit_3/bottleneck_v2/conv3/biases\n",
            "INFO:tensorflow:Initialize variable module/resnet_v2_152/block1/unit_3/bottleneck_v2/conv3/weights:0 from checkpoint /tmp/tfhub_modules/8d0633058d241900a3e5895be9e610592a5e1fac/variables/variables with resnet_v2_152/block1/unit_3/bottleneck_v2/conv3/weights\n",
            "INFO:tensorflow:Initialize variable module/resnet_v2_152/block1/unit_3/bottleneck_v2/preact/beta:0 from checkpoint /tmp/tfhub_modules/8d0633058d241900a3e5895be9e610592a5e1fac/variables/variables with resnet_v2_152/block1/unit_3/bottleneck_v2/preact/beta\n",
            "INFO:tensorflow:Initialize variable module/resnet_v2_152/block1/unit_3/bottleneck_v2/preact/gamma:0 from checkpoint /tmp/tfhub_modules/8d0633058d241900a3e5895be9e610592a5e1fac/variables/variables with resnet_v2_152/block1/unit_3/bottleneck_v2/preact/gamma\n",
            "INFO:tensorflow:Initialize variable module/resnet_v2_152/block1/unit_3/bottleneck_v2/preact/moving_mean:0 from checkpoint /tmp/tfhub_modules/8d0633058d241900a3e5895be9e610592a5e1fac/variables/variables with resnet_v2_152/block1/unit_3/bottleneck_v2/preact/moving_mean\n",
            "INFO:tensorflow:Initialize variable module/resnet_v2_152/block1/unit_3/bottleneck_v2/preact/moving_variance:0 from checkpoint /tmp/tfhub_modules/8d0633058d241900a3e5895be9e610592a5e1fac/variables/variables with resnet_v2_152/block1/unit_3/bottleneck_v2/preact/moving_variance\n",
            "INFO:tensorflow:Initialize variable module/resnet_v2_152/block2/unit_1/bottleneck_v2/conv1/BatchNorm/beta:0 from checkpoint /tmp/tfhub_modules/8d0633058d241900a3e5895be9e610592a5e1fac/variables/variables with resnet_v2_152/block2/unit_1/bottleneck_v2/conv1/BatchNorm/beta\n"
          ],
          "name": "stdout"
        },
        {
          "output_type": "stream",
          "text": [
            "INFO:tensorflow:Initialize variable module/resnet_v2_152/block2/unit_1/bottleneck_v2/conv1/BatchNorm/gamma:0 from checkpoint /tmp/tfhub_modules/8d0633058d241900a3e5895be9e610592a5e1fac/variables/variables with resnet_v2_152/block2/unit_1/bottleneck_v2/conv1/BatchNorm/gamma\n",
            "INFO:tensorflow:Initialize variable module/resnet_v2_152/block2/unit_1/bottleneck_v2/conv1/BatchNorm/moving_mean:0 from checkpoint /tmp/tfhub_modules/8d0633058d241900a3e5895be9e610592a5e1fac/variables/variables with resnet_v2_152/block2/unit_1/bottleneck_v2/conv1/BatchNorm/moving_mean\n",
            "INFO:tensorflow:Initialize variable module/resnet_v2_152/block2/unit_1/bottleneck_v2/conv1/BatchNorm/moving_variance:0 from checkpoint /tmp/tfhub_modules/8d0633058d241900a3e5895be9e610592a5e1fac/variables/variables with resnet_v2_152/block2/unit_1/bottleneck_v2/conv1/BatchNorm/moving_variance\n",
            "INFO:tensorflow:Initialize variable module/resnet_v2_152/block2/unit_1/bottleneck_v2/conv1/weights:0 from checkpoint /tmp/tfhub_modules/8d0633058d241900a3e5895be9e610592a5e1fac/variables/variables with resnet_v2_152/block2/unit_1/bottleneck_v2/conv1/weights\n",
            "INFO:tensorflow:Initialize variable module/resnet_v2_152/block2/unit_1/bottleneck_v2/conv2/BatchNorm/beta:0 from checkpoint /tmp/tfhub_modules/8d0633058d241900a3e5895be9e610592a5e1fac/variables/variables with resnet_v2_152/block2/unit_1/bottleneck_v2/conv2/BatchNorm/beta\n",
            "INFO:tensorflow:Initialize variable module/resnet_v2_152/block2/unit_1/bottleneck_v2/conv2/BatchNorm/gamma:0 from checkpoint /tmp/tfhub_modules/8d0633058d241900a3e5895be9e610592a5e1fac/variables/variables with resnet_v2_152/block2/unit_1/bottleneck_v2/conv2/BatchNorm/gamma\n",
            "INFO:tensorflow:Initialize variable module/resnet_v2_152/block2/unit_1/bottleneck_v2/conv2/BatchNorm/moving_mean:0 from checkpoint /tmp/tfhub_modules/8d0633058d241900a3e5895be9e610592a5e1fac/variables/variables with resnet_v2_152/block2/unit_1/bottleneck_v2/conv2/BatchNorm/moving_mean\n",
            "INFO:tensorflow:Initialize variable module/resnet_v2_152/block2/unit_1/bottleneck_v2/conv2/BatchNorm/moving_variance:0 from checkpoint /tmp/tfhub_modules/8d0633058d241900a3e5895be9e610592a5e1fac/variables/variables with resnet_v2_152/block2/unit_1/bottleneck_v2/conv2/BatchNorm/moving_variance\n",
            "INFO:tensorflow:Initialize variable module/resnet_v2_152/block2/unit_1/bottleneck_v2/conv2/weights:0 from checkpoint /tmp/tfhub_modules/8d0633058d241900a3e5895be9e610592a5e1fac/variables/variables with resnet_v2_152/block2/unit_1/bottleneck_v2/conv2/weights\n",
            "INFO:tensorflow:Initialize variable module/resnet_v2_152/block2/unit_1/bottleneck_v2/conv3/biases:0 from checkpoint /tmp/tfhub_modules/8d0633058d241900a3e5895be9e610592a5e1fac/variables/variables with resnet_v2_152/block2/unit_1/bottleneck_v2/conv3/biases\n",
            "INFO:tensorflow:Initialize variable module/resnet_v2_152/block2/unit_1/bottleneck_v2/conv3/weights:0 from checkpoint /tmp/tfhub_modules/8d0633058d241900a3e5895be9e610592a5e1fac/variables/variables with resnet_v2_152/block2/unit_1/bottleneck_v2/conv3/weights\n",
            "INFO:tensorflow:Initialize variable module/resnet_v2_152/block2/unit_1/bottleneck_v2/preact/beta:0 from checkpoint /tmp/tfhub_modules/8d0633058d241900a3e5895be9e610592a5e1fac/variables/variables with resnet_v2_152/block2/unit_1/bottleneck_v2/preact/beta\n",
            "INFO:tensorflow:Initialize variable module/resnet_v2_152/block2/unit_1/bottleneck_v2/preact/gamma:0 from checkpoint /tmp/tfhub_modules/8d0633058d241900a3e5895be9e610592a5e1fac/variables/variables with resnet_v2_152/block2/unit_1/bottleneck_v2/preact/gamma\n",
            "INFO:tensorflow:Initialize variable module/resnet_v2_152/block2/unit_1/bottleneck_v2/preact/moving_mean:0 from checkpoint /tmp/tfhub_modules/8d0633058d241900a3e5895be9e610592a5e1fac/variables/variables with resnet_v2_152/block2/unit_1/bottleneck_v2/preact/moving_mean\n",
            "INFO:tensorflow:Initialize variable module/resnet_v2_152/block2/unit_1/bottleneck_v2/preact/moving_variance:0 from checkpoint /tmp/tfhub_modules/8d0633058d241900a3e5895be9e610592a5e1fac/variables/variables with resnet_v2_152/block2/unit_1/bottleneck_v2/preact/moving_variance\n",
            "INFO:tensorflow:Initialize variable module/resnet_v2_152/block2/unit_1/bottleneck_v2/shortcut/biases:0 from checkpoint /tmp/tfhub_modules/8d0633058d241900a3e5895be9e610592a5e1fac/variables/variables with resnet_v2_152/block2/unit_1/bottleneck_v2/shortcut/biases\n",
            "INFO:tensorflow:Initialize variable module/resnet_v2_152/block2/unit_1/bottleneck_v2/shortcut/weights:0 from checkpoint /tmp/tfhub_modules/8d0633058d241900a3e5895be9e610592a5e1fac/variables/variables with resnet_v2_152/block2/unit_1/bottleneck_v2/shortcut/weights\n",
            "INFO:tensorflow:Initialize variable module/resnet_v2_152/block2/unit_2/bottleneck_v2/conv1/BatchNorm/beta:0 from checkpoint /tmp/tfhub_modules/8d0633058d241900a3e5895be9e610592a5e1fac/variables/variables with resnet_v2_152/block2/unit_2/bottleneck_v2/conv1/BatchNorm/beta\n",
            "INFO:tensorflow:Initialize variable module/resnet_v2_152/block2/unit_2/bottleneck_v2/conv1/BatchNorm/gamma:0 from checkpoint /tmp/tfhub_modules/8d0633058d241900a3e5895be9e610592a5e1fac/variables/variables with resnet_v2_152/block2/unit_2/bottleneck_v2/conv1/BatchNorm/gamma\n",
            "INFO:tensorflow:Initialize variable module/resnet_v2_152/block2/unit_2/bottleneck_v2/conv1/BatchNorm/moving_mean:0 from checkpoint /tmp/tfhub_modules/8d0633058d241900a3e5895be9e610592a5e1fac/variables/variables with resnet_v2_152/block2/unit_2/bottleneck_v2/conv1/BatchNorm/moving_mean\n",
            "INFO:tensorflow:Initialize variable module/resnet_v2_152/block2/unit_2/bottleneck_v2/conv1/BatchNorm/moving_variance:0 from checkpoint /tmp/tfhub_modules/8d0633058d241900a3e5895be9e610592a5e1fac/variables/variables with resnet_v2_152/block2/unit_2/bottleneck_v2/conv1/BatchNorm/moving_variance\n",
            "INFO:tensorflow:Initialize variable module/resnet_v2_152/block2/unit_2/bottleneck_v2/conv1/weights:0 from checkpoint /tmp/tfhub_modules/8d0633058d241900a3e5895be9e610592a5e1fac/variables/variables with resnet_v2_152/block2/unit_2/bottleneck_v2/conv1/weights\n",
            "INFO:tensorflow:Initialize variable module/resnet_v2_152/block2/unit_2/bottleneck_v2/conv2/BatchNorm/beta:0 from checkpoint /tmp/tfhub_modules/8d0633058d241900a3e5895be9e610592a5e1fac/variables/variables with resnet_v2_152/block2/unit_2/bottleneck_v2/conv2/BatchNorm/beta\n",
            "INFO:tensorflow:Initialize variable module/resnet_v2_152/block2/unit_2/bottleneck_v2/conv2/BatchNorm/gamma:0 from checkpoint /tmp/tfhub_modules/8d0633058d241900a3e5895be9e610592a5e1fac/variables/variables with resnet_v2_152/block2/unit_2/bottleneck_v2/conv2/BatchNorm/gamma\n",
            "INFO:tensorflow:Initialize variable module/resnet_v2_152/block2/unit_2/bottleneck_v2/conv2/BatchNorm/moving_mean:0 from checkpoint /tmp/tfhub_modules/8d0633058d241900a3e5895be9e610592a5e1fac/variables/variables with resnet_v2_152/block2/unit_2/bottleneck_v2/conv2/BatchNorm/moving_mean\n",
            "INFO:tensorflow:Initialize variable module/resnet_v2_152/block2/unit_2/bottleneck_v2/conv2/BatchNorm/moving_variance:0 from checkpoint /tmp/tfhub_modules/8d0633058d241900a3e5895be9e610592a5e1fac/variables/variables with resnet_v2_152/block2/unit_2/bottleneck_v2/conv2/BatchNorm/moving_variance\n"
          ],
          "name": "stdout"
        },
        {
          "output_type": "stream",
          "text": [
            "INFO:tensorflow:Initialize variable module/resnet_v2_152/block2/unit_2/bottleneck_v2/conv2/weights:0 from checkpoint /tmp/tfhub_modules/8d0633058d241900a3e5895be9e610592a5e1fac/variables/variables with resnet_v2_152/block2/unit_2/bottleneck_v2/conv2/weights\n",
            "INFO:tensorflow:Initialize variable module/resnet_v2_152/block2/unit_2/bottleneck_v2/conv3/biases:0 from checkpoint /tmp/tfhub_modules/8d0633058d241900a3e5895be9e610592a5e1fac/variables/variables with resnet_v2_152/block2/unit_2/bottleneck_v2/conv3/biases\n",
            "INFO:tensorflow:Initialize variable module/resnet_v2_152/block2/unit_2/bottleneck_v2/conv3/weights:0 from checkpoint /tmp/tfhub_modules/8d0633058d241900a3e5895be9e610592a5e1fac/variables/variables with resnet_v2_152/block2/unit_2/bottleneck_v2/conv3/weights\n",
            "INFO:tensorflow:Initialize variable module/resnet_v2_152/block2/unit_2/bottleneck_v2/preact/beta:0 from checkpoint /tmp/tfhub_modules/8d0633058d241900a3e5895be9e610592a5e1fac/variables/variables with resnet_v2_152/block2/unit_2/bottleneck_v2/preact/beta\n",
            "INFO:tensorflow:Initialize variable module/resnet_v2_152/block2/unit_2/bottleneck_v2/preact/gamma:0 from checkpoint /tmp/tfhub_modules/8d0633058d241900a3e5895be9e610592a5e1fac/variables/variables with resnet_v2_152/block2/unit_2/bottleneck_v2/preact/gamma\n",
            "INFO:tensorflow:Initialize variable module/resnet_v2_152/block2/unit_2/bottleneck_v2/preact/moving_mean:0 from checkpoint /tmp/tfhub_modules/8d0633058d241900a3e5895be9e610592a5e1fac/variables/variables with resnet_v2_152/block2/unit_2/bottleneck_v2/preact/moving_mean\n",
            "INFO:tensorflow:Initialize variable module/resnet_v2_152/block2/unit_2/bottleneck_v2/preact/moving_variance:0 from checkpoint /tmp/tfhub_modules/8d0633058d241900a3e5895be9e610592a5e1fac/variables/variables with resnet_v2_152/block2/unit_2/bottleneck_v2/preact/moving_variance\n",
            "INFO:tensorflow:Initialize variable module/resnet_v2_152/block2/unit_3/bottleneck_v2/conv1/BatchNorm/beta:0 from checkpoint /tmp/tfhub_modules/8d0633058d241900a3e5895be9e610592a5e1fac/variables/variables with resnet_v2_152/block2/unit_3/bottleneck_v2/conv1/BatchNorm/beta\n",
            "INFO:tensorflow:Initialize variable module/resnet_v2_152/block2/unit_3/bottleneck_v2/conv1/BatchNorm/gamma:0 from checkpoint /tmp/tfhub_modules/8d0633058d241900a3e5895be9e610592a5e1fac/variables/variables with resnet_v2_152/block2/unit_3/bottleneck_v2/conv1/BatchNorm/gamma\n",
            "INFO:tensorflow:Initialize variable module/resnet_v2_152/block2/unit_3/bottleneck_v2/conv1/BatchNorm/moving_mean:0 from checkpoint /tmp/tfhub_modules/8d0633058d241900a3e5895be9e610592a5e1fac/variables/variables with resnet_v2_152/block2/unit_3/bottleneck_v2/conv1/BatchNorm/moving_mean\n",
            "INFO:tensorflow:Initialize variable module/resnet_v2_152/block2/unit_3/bottleneck_v2/conv1/BatchNorm/moving_variance:0 from checkpoint /tmp/tfhub_modules/8d0633058d241900a3e5895be9e610592a5e1fac/variables/variables with resnet_v2_152/block2/unit_3/bottleneck_v2/conv1/BatchNorm/moving_variance\n",
            "INFO:tensorflow:Initialize variable module/resnet_v2_152/block2/unit_3/bottleneck_v2/conv1/weights:0 from checkpoint /tmp/tfhub_modules/8d0633058d241900a3e5895be9e610592a5e1fac/variables/variables with resnet_v2_152/block2/unit_3/bottleneck_v2/conv1/weights\n",
            "INFO:tensorflow:Initialize variable module/resnet_v2_152/block2/unit_3/bottleneck_v2/conv2/BatchNorm/beta:0 from checkpoint /tmp/tfhub_modules/8d0633058d241900a3e5895be9e610592a5e1fac/variables/variables with resnet_v2_152/block2/unit_3/bottleneck_v2/conv2/BatchNorm/beta\n",
            "INFO:tensorflow:Initialize variable module/resnet_v2_152/block2/unit_3/bottleneck_v2/conv2/BatchNorm/gamma:0 from checkpoint /tmp/tfhub_modules/8d0633058d241900a3e5895be9e610592a5e1fac/variables/variables with resnet_v2_152/block2/unit_3/bottleneck_v2/conv2/BatchNorm/gamma\n",
            "INFO:tensorflow:Initialize variable module/resnet_v2_152/block2/unit_3/bottleneck_v2/conv2/BatchNorm/moving_mean:0 from checkpoint /tmp/tfhub_modules/8d0633058d241900a3e5895be9e610592a5e1fac/variables/variables with resnet_v2_152/block2/unit_3/bottleneck_v2/conv2/BatchNorm/moving_mean\n",
            "INFO:tensorflow:Initialize variable module/resnet_v2_152/block2/unit_3/bottleneck_v2/conv2/BatchNorm/moving_variance:0 from checkpoint /tmp/tfhub_modules/8d0633058d241900a3e5895be9e610592a5e1fac/variables/variables with resnet_v2_152/block2/unit_3/bottleneck_v2/conv2/BatchNorm/moving_variance\n",
            "INFO:tensorflow:Initialize variable module/resnet_v2_152/block2/unit_3/bottleneck_v2/conv2/weights:0 from checkpoint /tmp/tfhub_modules/8d0633058d241900a3e5895be9e610592a5e1fac/variables/variables with resnet_v2_152/block2/unit_3/bottleneck_v2/conv2/weights\n",
            "INFO:tensorflow:Initialize variable module/resnet_v2_152/block2/unit_3/bottleneck_v2/conv3/biases:0 from checkpoint /tmp/tfhub_modules/8d0633058d241900a3e5895be9e610592a5e1fac/variables/variables with resnet_v2_152/block2/unit_3/bottleneck_v2/conv3/biases\n",
            "INFO:tensorflow:Initialize variable module/resnet_v2_152/block2/unit_3/bottleneck_v2/conv3/weights:0 from checkpoint /tmp/tfhub_modules/8d0633058d241900a3e5895be9e610592a5e1fac/variables/variables with resnet_v2_152/block2/unit_3/bottleneck_v2/conv3/weights\n",
            "INFO:tensorflow:Initialize variable module/resnet_v2_152/block2/unit_3/bottleneck_v2/preact/beta:0 from checkpoint /tmp/tfhub_modules/8d0633058d241900a3e5895be9e610592a5e1fac/variables/variables with resnet_v2_152/block2/unit_3/bottleneck_v2/preact/beta\n",
            "INFO:tensorflow:Initialize variable module/resnet_v2_152/block2/unit_3/bottleneck_v2/preact/gamma:0 from checkpoint /tmp/tfhub_modules/8d0633058d241900a3e5895be9e610592a5e1fac/variables/variables with resnet_v2_152/block2/unit_3/bottleneck_v2/preact/gamma\n",
            "INFO:tensorflow:Initialize variable module/resnet_v2_152/block2/unit_3/bottleneck_v2/preact/moving_mean:0 from checkpoint /tmp/tfhub_modules/8d0633058d241900a3e5895be9e610592a5e1fac/variables/variables with resnet_v2_152/block2/unit_3/bottleneck_v2/preact/moving_mean\n",
            "INFO:tensorflow:Initialize variable module/resnet_v2_152/block2/unit_3/bottleneck_v2/preact/moving_variance:0 from checkpoint /tmp/tfhub_modules/8d0633058d241900a3e5895be9e610592a5e1fac/variables/variables with resnet_v2_152/block2/unit_3/bottleneck_v2/preact/moving_variance\n",
            "INFO:tensorflow:Initialize variable module/resnet_v2_152/block2/unit_4/bottleneck_v2/conv1/BatchNorm/beta:0 from checkpoint /tmp/tfhub_modules/8d0633058d241900a3e5895be9e610592a5e1fac/variables/variables with resnet_v2_152/block2/unit_4/bottleneck_v2/conv1/BatchNorm/beta\n",
            "INFO:tensorflow:Initialize variable module/resnet_v2_152/block2/unit_4/bottleneck_v2/conv1/BatchNorm/gamma:0 from checkpoint /tmp/tfhub_modules/8d0633058d241900a3e5895be9e610592a5e1fac/variables/variables with resnet_v2_152/block2/unit_4/bottleneck_v2/conv1/BatchNorm/gamma\n",
            "INFO:tensorflow:Initialize variable module/resnet_v2_152/block2/unit_4/bottleneck_v2/conv1/BatchNorm/moving_mean:0 from checkpoint /tmp/tfhub_modules/8d0633058d241900a3e5895be9e610592a5e1fac/variables/variables with resnet_v2_152/block2/unit_4/bottleneck_v2/conv1/BatchNorm/moving_mean\n"
          ],
          "name": "stdout"
        },
        {
          "output_type": "stream",
          "text": [
            "INFO:tensorflow:Initialize variable module/resnet_v2_152/block2/unit_4/bottleneck_v2/conv1/BatchNorm/moving_variance:0 from checkpoint /tmp/tfhub_modules/8d0633058d241900a3e5895be9e610592a5e1fac/variables/variables with resnet_v2_152/block2/unit_4/bottleneck_v2/conv1/BatchNorm/moving_variance\n",
            "INFO:tensorflow:Initialize variable module/resnet_v2_152/block2/unit_4/bottleneck_v2/conv1/weights:0 from checkpoint /tmp/tfhub_modules/8d0633058d241900a3e5895be9e610592a5e1fac/variables/variables with resnet_v2_152/block2/unit_4/bottleneck_v2/conv1/weights\n",
            "INFO:tensorflow:Initialize variable module/resnet_v2_152/block2/unit_4/bottleneck_v2/conv2/BatchNorm/beta:0 from checkpoint /tmp/tfhub_modules/8d0633058d241900a3e5895be9e610592a5e1fac/variables/variables with resnet_v2_152/block2/unit_4/bottleneck_v2/conv2/BatchNorm/beta\n",
            "INFO:tensorflow:Initialize variable module/resnet_v2_152/block2/unit_4/bottleneck_v2/conv2/BatchNorm/gamma:0 from checkpoint /tmp/tfhub_modules/8d0633058d241900a3e5895be9e610592a5e1fac/variables/variables with resnet_v2_152/block2/unit_4/bottleneck_v2/conv2/BatchNorm/gamma\n",
            "INFO:tensorflow:Initialize variable module/resnet_v2_152/block2/unit_4/bottleneck_v2/conv2/BatchNorm/moving_mean:0 from checkpoint /tmp/tfhub_modules/8d0633058d241900a3e5895be9e610592a5e1fac/variables/variables with resnet_v2_152/block2/unit_4/bottleneck_v2/conv2/BatchNorm/moving_mean\n",
            "INFO:tensorflow:Initialize variable module/resnet_v2_152/block2/unit_4/bottleneck_v2/conv2/BatchNorm/moving_variance:0 from checkpoint /tmp/tfhub_modules/8d0633058d241900a3e5895be9e610592a5e1fac/variables/variables with resnet_v2_152/block2/unit_4/bottleneck_v2/conv2/BatchNorm/moving_variance\n",
            "INFO:tensorflow:Initialize variable module/resnet_v2_152/block2/unit_4/bottleneck_v2/conv2/weights:0 from checkpoint /tmp/tfhub_modules/8d0633058d241900a3e5895be9e610592a5e1fac/variables/variables with resnet_v2_152/block2/unit_4/bottleneck_v2/conv2/weights\n",
            "INFO:tensorflow:Initialize variable module/resnet_v2_152/block2/unit_4/bottleneck_v2/conv3/biases:0 from checkpoint /tmp/tfhub_modules/8d0633058d241900a3e5895be9e610592a5e1fac/variables/variables with resnet_v2_152/block2/unit_4/bottleneck_v2/conv3/biases\n",
            "INFO:tensorflow:Initialize variable module/resnet_v2_152/block2/unit_4/bottleneck_v2/conv3/weights:0 from checkpoint /tmp/tfhub_modules/8d0633058d241900a3e5895be9e610592a5e1fac/variables/variables with resnet_v2_152/block2/unit_4/bottleneck_v2/conv3/weights\n",
            "INFO:tensorflow:Initialize variable module/resnet_v2_152/block2/unit_4/bottleneck_v2/preact/beta:0 from checkpoint /tmp/tfhub_modules/8d0633058d241900a3e5895be9e610592a5e1fac/variables/variables with resnet_v2_152/block2/unit_4/bottleneck_v2/preact/beta\n",
            "INFO:tensorflow:Initialize variable module/resnet_v2_152/block2/unit_4/bottleneck_v2/preact/gamma:0 from checkpoint /tmp/tfhub_modules/8d0633058d241900a3e5895be9e610592a5e1fac/variables/variables with resnet_v2_152/block2/unit_4/bottleneck_v2/preact/gamma\n",
            "INFO:tensorflow:Initialize variable module/resnet_v2_152/block2/unit_4/bottleneck_v2/preact/moving_mean:0 from checkpoint /tmp/tfhub_modules/8d0633058d241900a3e5895be9e610592a5e1fac/variables/variables with resnet_v2_152/block2/unit_4/bottleneck_v2/preact/moving_mean\n",
            "INFO:tensorflow:Initialize variable module/resnet_v2_152/block2/unit_4/bottleneck_v2/preact/moving_variance:0 from checkpoint /tmp/tfhub_modules/8d0633058d241900a3e5895be9e610592a5e1fac/variables/variables with resnet_v2_152/block2/unit_4/bottleneck_v2/preact/moving_variance\n",
            "INFO:tensorflow:Initialize variable module/resnet_v2_152/block2/unit_5/bottleneck_v2/conv1/BatchNorm/beta:0 from checkpoint /tmp/tfhub_modules/8d0633058d241900a3e5895be9e610592a5e1fac/variables/variables with resnet_v2_152/block2/unit_5/bottleneck_v2/conv1/BatchNorm/beta\n",
            "INFO:tensorflow:Initialize variable module/resnet_v2_152/block2/unit_5/bottleneck_v2/conv1/BatchNorm/gamma:0 from checkpoint /tmp/tfhub_modules/8d0633058d241900a3e5895be9e610592a5e1fac/variables/variables with resnet_v2_152/block2/unit_5/bottleneck_v2/conv1/BatchNorm/gamma\n",
            "INFO:tensorflow:Initialize variable module/resnet_v2_152/block2/unit_5/bottleneck_v2/conv1/BatchNorm/moving_mean:0 from checkpoint /tmp/tfhub_modules/8d0633058d241900a3e5895be9e610592a5e1fac/variables/variables with resnet_v2_152/block2/unit_5/bottleneck_v2/conv1/BatchNorm/moving_mean\n",
            "INFO:tensorflow:Initialize variable module/resnet_v2_152/block2/unit_5/bottleneck_v2/conv1/BatchNorm/moving_variance:0 from checkpoint /tmp/tfhub_modules/8d0633058d241900a3e5895be9e610592a5e1fac/variables/variables with resnet_v2_152/block2/unit_5/bottleneck_v2/conv1/BatchNorm/moving_variance\n",
            "INFO:tensorflow:Initialize variable module/resnet_v2_152/block2/unit_5/bottleneck_v2/conv1/weights:0 from checkpoint /tmp/tfhub_modules/8d0633058d241900a3e5895be9e610592a5e1fac/variables/variables with resnet_v2_152/block2/unit_5/bottleneck_v2/conv1/weights\n",
            "INFO:tensorflow:Initialize variable module/resnet_v2_152/block2/unit_5/bottleneck_v2/conv2/BatchNorm/beta:0 from checkpoint /tmp/tfhub_modules/8d0633058d241900a3e5895be9e610592a5e1fac/variables/variables with resnet_v2_152/block2/unit_5/bottleneck_v2/conv2/BatchNorm/beta\n",
            "INFO:tensorflow:Initialize variable module/resnet_v2_152/block2/unit_5/bottleneck_v2/conv2/BatchNorm/gamma:0 from checkpoint /tmp/tfhub_modules/8d0633058d241900a3e5895be9e610592a5e1fac/variables/variables with resnet_v2_152/block2/unit_5/bottleneck_v2/conv2/BatchNorm/gamma\n",
            "INFO:tensorflow:Initialize variable module/resnet_v2_152/block2/unit_5/bottleneck_v2/conv2/BatchNorm/moving_mean:0 from checkpoint /tmp/tfhub_modules/8d0633058d241900a3e5895be9e610592a5e1fac/variables/variables with resnet_v2_152/block2/unit_5/bottleneck_v2/conv2/BatchNorm/moving_mean\n",
            "INFO:tensorflow:Initialize variable module/resnet_v2_152/block2/unit_5/bottleneck_v2/conv2/BatchNorm/moving_variance:0 from checkpoint /tmp/tfhub_modules/8d0633058d241900a3e5895be9e610592a5e1fac/variables/variables with resnet_v2_152/block2/unit_5/bottleneck_v2/conv2/BatchNorm/moving_variance\n",
            "INFO:tensorflow:Initialize variable module/resnet_v2_152/block2/unit_5/bottleneck_v2/conv2/weights:0 from checkpoint /tmp/tfhub_modules/8d0633058d241900a3e5895be9e610592a5e1fac/variables/variables with resnet_v2_152/block2/unit_5/bottleneck_v2/conv2/weights\n",
            "INFO:tensorflow:Initialize variable module/resnet_v2_152/block2/unit_5/bottleneck_v2/conv3/biases:0 from checkpoint /tmp/tfhub_modules/8d0633058d241900a3e5895be9e610592a5e1fac/variables/variables with resnet_v2_152/block2/unit_5/bottleneck_v2/conv3/biases\n",
            "INFO:tensorflow:Initialize variable module/resnet_v2_152/block2/unit_5/bottleneck_v2/conv3/weights:0 from checkpoint /tmp/tfhub_modules/8d0633058d241900a3e5895be9e610592a5e1fac/variables/variables with resnet_v2_152/block2/unit_5/bottleneck_v2/conv3/weights\n",
            "INFO:tensorflow:Initialize variable module/resnet_v2_152/block2/unit_5/bottleneck_v2/preact/beta:0 from checkpoint /tmp/tfhub_modules/8d0633058d241900a3e5895be9e610592a5e1fac/variables/variables with resnet_v2_152/block2/unit_5/bottleneck_v2/preact/beta\n"
          ],
          "name": "stdout"
        },
        {
          "output_type": "stream",
          "text": [
            "INFO:tensorflow:Initialize variable module/resnet_v2_152/block2/unit_5/bottleneck_v2/preact/gamma:0 from checkpoint /tmp/tfhub_modules/8d0633058d241900a3e5895be9e610592a5e1fac/variables/variables with resnet_v2_152/block2/unit_5/bottleneck_v2/preact/gamma\n",
            "INFO:tensorflow:Initialize variable module/resnet_v2_152/block2/unit_5/bottleneck_v2/preact/moving_mean:0 from checkpoint /tmp/tfhub_modules/8d0633058d241900a3e5895be9e610592a5e1fac/variables/variables with resnet_v2_152/block2/unit_5/bottleneck_v2/preact/moving_mean\n",
            "INFO:tensorflow:Initialize variable module/resnet_v2_152/block2/unit_5/bottleneck_v2/preact/moving_variance:0 from checkpoint /tmp/tfhub_modules/8d0633058d241900a3e5895be9e610592a5e1fac/variables/variables with resnet_v2_152/block2/unit_5/bottleneck_v2/preact/moving_variance\n",
            "INFO:tensorflow:Initialize variable module/resnet_v2_152/block2/unit_6/bottleneck_v2/conv1/BatchNorm/beta:0 from checkpoint /tmp/tfhub_modules/8d0633058d241900a3e5895be9e610592a5e1fac/variables/variables with resnet_v2_152/block2/unit_6/bottleneck_v2/conv1/BatchNorm/beta\n",
            "INFO:tensorflow:Initialize variable module/resnet_v2_152/block2/unit_6/bottleneck_v2/conv1/BatchNorm/gamma:0 from checkpoint /tmp/tfhub_modules/8d0633058d241900a3e5895be9e610592a5e1fac/variables/variables with resnet_v2_152/block2/unit_6/bottleneck_v2/conv1/BatchNorm/gamma\n",
            "INFO:tensorflow:Initialize variable module/resnet_v2_152/block2/unit_6/bottleneck_v2/conv1/BatchNorm/moving_mean:0 from checkpoint /tmp/tfhub_modules/8d0633058d241900a3e5895be9e610592a5e1fac/variables/variables with resnet_v2_152/block2/unit_6/bottleneck_v2/conv1/BatchNorm/moving_mean\n",
            "INFO:tensorflow:Initialize variable module/resnet_v2_152/block2/unit_6/bottleneck_v2/conv1/BatchNorm/moving_variance:0 from checkpoint /tmp/tfhub_modules/8d0633058d241900a3e5895be9e610592a5e1fac/variables/variables with resnet_v2_152/block2/unit_6/bottleneck_v2/conv1/BatchNorm/moving_variance\n",
            "INFO:tensorflow:Initialize variable module/resnet_v2_152/block2/unit_6/bottleneck_v2/conv1/weights:0 from checkpoint /tmp/tfhub_modules/8d0633058d241900a3e5895be9e610592a5e1fac/variables/variables with resnet_v2_152/block2/unit_6/bottleneck_v2/conv1/weights\n",
            "INFO:tensorflow:Initialize variable module/resnet_v2_152/block2/unit_6/bottleneck_v2/conv2/BatchNorm/beta:0 from checkpoint /tmp/tfhub_modules/8d0633058d241900a3e5895be9e610592a5e1fac/variables/variables with resnet_v2_152/block2/unit_6/bottleneck_v2/conv2/BatchNorm/beta\n",
            "INFO:tensorflow:Initialize variable module/resnet_v2_152/block2/unit_6/bottleneck_v2/conv2/BatchNorm/gamma:0 from checkpoint /tmp/tfhub_modules/8d0633058d241900a3e5895be9e610592a5e1fac/variables/variables with resnet_v2_152/block2/unit_6/bottleneck_v2/conv2/BatchNorm/gamma\n",
            "INFO:tensorflow:Initialize variable module/resnet_v2_152/block2/unit_6/bottleneck_v2/conv2/BatchNorm/moving_mean:0 from checkpoint /tmp/tfhub_modules/8d0633058d241900a3e5895be9e610592a5e1fac/variables/variables with resnet_v2_152/block2/unit_6/bottleneck_v2/conv2/BatchNorm/moving_mean\n",
            "INFO:tensorflow:Initialize variable module/resnet_v2_152/block2/unit_6/bottleneck_v2/conv2/BatchNorm/moving_variance:0 from checkpoint /tmp/tfhub_modules/8d0633058d241900a3e5895be9e610592a5e1fac/variables/variables with resnet_v2_152/block2/unit_6/bottleneck_v2/conv2/BatchNorm/moving_variance\n",
            "INFO:tensorflow:Initialize variable module/resnet_v2_152/block2/unit_6/bottleneck_v2/conv2/weights:0 from checkpoint /tmp/tfhub_modules/8d0633058d241900a3e5895be9e610592a5e1fac/variables/variables with resnet_v2_152/block2/unit_6/bottleneck_v2/conv2/weights\n",
            "INFO:tensorflow:Initialize variable module/resnet_v2_152/block2/unit_6/bottleneck_v2/conv3/biases:0 from checkpoint /tmp/tfhub_modules/8d0633058d241900a3e5895be9e610592a5e1fac/variables/variables with resnet_v2_152/block2/unit_6/bottleneck_v2/conv3/biases\n",
            "INFO:tensorflow:Initialize variable module/resnet_v2_152/block2/unit_6/bottleneck_v2/conv3/weights:0 from checkpoint /tmp/tfhub_modules/8d0633058d241900a3e5895be9e610592a5e1fac/variables/variables with resnet_v2_152/block2/unit_6/bottleneck_v2/conv3/weights\n",
            "INFO:tensorflow:Initialize variable module/resnet_v2_152/block2/unit_6/bottleneck_v2/preact/beta:0 from checkpoint /tmp/tfhub_modules/8d0633058d241900a3e5895be9e610592a5e1fac/variables/variables with resnet_v2_152/block2/unit_6/bottleneck_v2/preact/beta\n",
            "INFO:tensorflow:Initialize variable module/resnet_v2_152/block2/unit_6/bottleneck_v2/preact/gamma:0 from checkpoint /tmp/tfhub_modules/8d0633058d241900a3e5895be9e610592a5e1fac/variables/variables with resnet_v2_152/block2/unit_6/bottleneck_v2/preact/gamma\n",
            "INFO:tensorflow:Initialize variable module/resnet_v2_152/block2/unit_6/bottleneck_v2/preact/moving_mean:0 from checkpoint /tmp/tfhub_modules/8d0633058d241900a3e5895be9e610592a5e1fac/variables/variables with resnet_v2_152/block2/unit_6/bottleneck_v2/preact/moving_mean\n",
            "INFO:tensorflow:Initialize variable module/resnet_v2_152/block2/unit_6/bottleneck_v2/preact/moving_variance:0 from checkpoint /tmp/tfhub_modules/8d0633058d241900a3e5895be9e610592a5e1fac/variables/variables with resnet_v2_152/block2/unit_6/bottleneck_v2/preact/moving_variance\n",
            "INFO:tensorflow:Initialize variable module/resnet_v2_152/block2/unit_7/bottleneck_v2/conv1/BatchNorm/beta:0 from checkpoint /tmp/tfhub_modules/8d0633058d241900a3e5895be9e610592a5e1fac/variables/variables with resnet_v2_152/block2/unit_7/bottleneck_v2/conv1/BatchNorm/beta\n",
            "INFO:tensorflow:Initialize variable module/resnet_v2_152/block2/unit_7/bottleneck_v2/conv1/BatchNorm/gamma:0 from checkpoint /tmp/tfhub_modules/8d0633058d241900a3e5895be9e610592a5e1fac/variables/variables with resnet_v2_152/block2/unit_7/bottleneck_v2/conv1/BatchNorm/gamma\n",
            "INFO:tensorflow:Initialize variable module/resnet_v2_152/block2/unit_7/bottleneck_v2/conv1/BatchNorm/moving_mean:0 from checkpoint /tmp/tfhub_modules/8d0633058d241900a3e5895be9e610592a5e1fac/variables/variables with resnet_v2_152/block2/unit_7/bottleneck_v2/conv1/BatchNorm/moving_mean\n",
            "INFO:tensorflow:Initialize variable module/resnet_v2_152/block2/unit_7/bottleneck_v2/conv1/BatchNorm/moving_variance:0 from checkpoint /tmp/tfhub_modules/8d0633058d241900a3e5895be9e610592a5e1fac/variables/variables with resnet_v2_152/block2/unit_7/bottleneck_v2/conv1/BatchNorm/moving_variance\n",
            "INFO:tensorflow:Initialize variable module/resnet_v2_152/block2/unit_7/bottleneck_v2/conv1/weights:0 from checkpoint /tmp/tfhub_modules/8d0633058d241900a3e5895be9e610592a5e1fac/variables/variables with resnet_v2_152/block2/unit_7/bottleneck_v2/conv1/weights\n",
            "INFO:tensorflow:Initialize variable module/resnet_v2_152/block2/unit_7/bottleneck_v2/conv2/BatchNorm/beta:0 from checkpoint /tmp/tfhub_modules/8d0633058d241900a3e5895be9e610592a5e1fac/variables/variables with resnet_v2_152/block2/unit_7/bottleneck_v2/conv2/BatchNorm/beta\n",
            "INFO:tensorflow:Initialize variable module/resnet_v2_152/block2/unit_7/bottleneck_v2/conv2/BatchNorm/gamma:0 from checkpoint /tmp/tfhub_modules/8d0633058d241900a3e5895be9e610592a5e1fac/variables/variables with resnet_v2_152/block2/unit_7/bottleneck_v2/conv2/BatchNorm/gamma\n"
          ],
          "name": "stdout"
        },
        {
          "output_type": "stream",
          "text": [
            "INFO:tensorflow:Initialize variable module/resnet_v2_152/block2/unit_7/bottleneck_v2/conv2/BatchNorm/moving_mean:0 from checkpoint /tmp/tfhub_modules/8d0633058d241900a3e5895be9e610592a5e1fac/variables/variables with resnet_v2_152/block2/unit_7/bottleneck_v2/conv2/BatchNorm/moving_mean\n",
            "INFO:tensorflow:Initialize variable module/resnet_v2_152/block2/unit_7/bottleneck_v2/conv2/BatchNorm/moving_variance:0 from checkpoint /tmp/tfhub_modules/8d0633058d241900a3e5895be9e610592a5e1fac/variables/variables with resnet_v2_152/block2/unit_7/bottleneck_v2/conv2/BatchNorm/moving_variance\n",
            "INFO:tensorflow:Initialize variable module/resnet_v2_152/block2/unit_7/bottleneck_v2/conv2/weights:0 from checkpoint /tmp/tfhub_modules/8d0633058d241900a3e5895be9e610592a5e1fac/variables/variables with resnet_v2_152/block2/unit_7/bottleneck_v2/conv2/weights\n",
            "INFO:tensorflow:Initialize variable module/resnet_v2_152/block2/unit_7/bottleneck_v2/conv3/biases:0 from checkpoint /tmp/tfhub_modules/8d0633058d241900a3e5895be9e610592a5e1fac/variables/variables with resnet_v2_152/block2/unit_7/bottleneck_v2/conv3/biases\n",
            "INFO:tensorflow:Initialize variable module/resnet_v2_152/block2/unit_7/bottleneck_v2/conv3/weights:0 from checkpoint /tmp/tfhub_modules/8d0633058d241900a3e5895be9e610592a5e1fac/variables/variables with resnet_v2_152/block2/unit_7/bottleneck_v2/conv3/weights\n",
            "INFO:tensorflow:Initialize variable module/resnet_v2_152/block2/unit_7/bottleneck_v2/preact/beta:0 from checkpoint /tmp/tfhub_modules/8d0633058d241900a3e5895be9e610592a5e1fac/variables/variables with resnet_v2_152/block2/unit_7/bottleneck_v2/preact/beta\n",
            "INFO:tensorflow:Initialize variable module/resnet_v2_152/block2/unit_7/bottleneck_v2/preact/gamma:0 from checkpoint /tmp/tfhub_modules/8d0633058d241900a3e5895be9e610592a5e1fac/variables/variables with resnet_v2_152/block2/unit_7/bottleneck_v2/preact/gamma\n",
            "INFO:tensorflow:Initialize variable module/resnet_v2_152/block2/unit_7/bottleneck_v2/preact/moving_mean:0 from checkpoint /tmp/tfhub_modules/8d0633058d241900a3e5895be9e610592a5e1fac/variables/variables with resnet_v2_152/block2/unit_7/bottleneck_v2/preact/moving_mean\n",
            "INFO:tensorflow:Initialize variable module/resnet_v2_152/block2/unit_7/bottleneck_v2/preact/moving_variance:0 from checkpoint /tmp/tfhub_modules/8d0633058d241900a3e5895be9e610592a5e1fac/variables/variables with resnet_v2_152/block2/unit_7/bottleneck_v2/preact/moving_variance\n",
            "INFO:tensorflow:Initialize variable module/resnet_v2_152/block2/unit_8/bottleneck_v2/conv1/BatchNorm/beta:0 from checkpoint /tmp/tfhub_modules/8d0633058d241900a3e5895be9e610592a5e1fac/variables/variables with resnet_v2_152/block2/unit_8/bottleneck_v2/conv1/BatchNorm/beta\n",
            "INFO:tensorflow:Initialize variable module/resnet_v2_152/block2/unit_8/bottleneck_v2/conv1/BatchNorm/gamma:0 from checkpoint /tmp/tfhub_modules/8d0633058d241900a3e5895be9e610592a5e1fac/variables/variables with resnet_v2_152/block2/unit_8/bottleneck_v2/conv1/BatchNorm/gamma\n",
            "INFO:tensorflow:Initialize variable module/resnet_v2_152/block2/unit_8/bottleneck_v2/conv1/BatchNorm/moving_mean:0 from checkpoint /tmp/tfhub_modules/8d0633058d241900a3e5895be9e610592a5e1fac/variables/variables with resnet_v2_152/block2/unit_8/bottleneck_v2/conv1/BatchNorm/moving_mean\n",
            "INFO:tensorflow:Initialize variable module/resnet_v2_152/block2/unit_8/bottleneck_v2/conv1/BatchNorm/moving_variance:0 from checkpoint /tmp/tfhub_modules/8d0633058d241900a3e5895be9e610592a5e1fac/variables/variables with resnet_v2_152/block2/unit_8/bottleneck_v2/conv1/BatchNorm/moving_variance\n",
            "INFO:tensorflow:Initialize variable module/resnet_v2_152/block2/unit_8/bottleneck_v2/conv1/weights:0 from checkpoint /tmp/tfhub_modules/8d0633058d241900a3e5895be9e610592a5e1fac/variables/variables with resnet_v2_152/block2/unit_8/bottleneck_v2/conv1/weights\n",
            "INFO:tensorflow:Initialize variable module/resnet_v2_152/block2/unit_8/bottleneck_v2/conv2/BatchNorm/beta:0 from checkpoint /tmp/tfhub_modules/8d0633058d241900a3e5895be9e610592a5e1fac/variables/variables with resnet_v2_152/block2/unit_8/bottleneck_v2/conv2/BatchNorm/beta\n",
            "INFO:tensorflow:Initialize variable module/resnet_v2_152/block2/unit_8/bottleneck_v2/conv2/BatchNorm/gamma:0 from checkpoint /tmp/tfhub_modules/8d0633058d241900a3e5895be9e610592a5e1fac/variables/variables with resnet_v2_152/block2/unit_8/bottleneck_v2/conv2/BatchNorm/gamma\n",
            "INFO:tensorflow:Initialize variable module/resnet_v2_152/block2/unit_8/bottleneck_v2/conv2/BatchNorm/moving_mean:0 from checkpoint /tmp/tfhub_modules/8d0633058d241900a3e5895be9e610592a5e1fac/variables/variables with resnet_v2_152/block2/unit_8/bottleneck_v2/conv2/BatchNorm/moving_mean\n",
            "INFO:tensorflow:Initialize variable module/resnet_v2_152/block2/unit_8/bottleneck_v2/conv2/BatchNorm/moving_variance:0 from checkpoint /tmp/tfhub_modules/8d0633058d241900a3e5895be9e610592a5e1fac/variables/variables with resnet_v2_152/block2/unit_8/bottleneck_v2/conv2/BatchNorm/moving_variance\n",
            "INFO:tensorflow:Initialize variable module/resnet_v2_152/block2/unit_8/bottleneck_v2/conv2/weights:0 from checkpoint /tmp/tfhub_modules/8d0633058d241900a3e5895be9e610592a5e1fac/variables/variables with resnet_v2_152/block2/unit_8/bottleneck_v2/conv2/weights\n",
            "INFO:tensorflow:Initialize variable module/resnet_v2_152/block2/unit_8/bottleneck_v2/conv3/biases:0 from checkpoint /tmp/tfhub_modules/8d0633058d241900a3e5895be9e610592a5e1fac/variables/variables with resnet_v2_152/block2/unit_8/bottleneck_v2/conv3/biases\n",
            "INFO:tensorflow:Initialize variable module/resnet_v2_152/block2/unit_8/bottleneck_v2/conv3/weights:0 from checkpoint /tmp/tfhub_modules/8d0633058d241900a3e5895be9e610592a5e1fac/variables/variables with resnet_v2_152/block2/unit_8/bottleneck_v2/conv3/weights\n",
            "INFO:tensorflow:Initialize variable module/resnet_v2_152/block2/unit_8/bottleneck_v2/preact/beta:0 from checkpoint /tmp/tfhub_modules/8d0633058d241900a3e5895be9e610592a5e1fac/variables/variables with resnet_v2_152/block2/unit_8/bottleneck_v2/preact/beta\n",
            "INFO:tensorflow:Initialize variable module/resnet_v2_152/block2/unit_8/bottleneck_v2/preact/gamma:0 from checkpoint /tmp/tfhub_modules/8d0633058d241900a3e5895be9e610592a5e1fac/variables/variables with resnet_v2_152/block2/unit_8/bottleneck_v2/preact/gamma\n",
            "INFO:tensorflow:Initialize variable module/resnet_v2_152/block2/unit_8/bottleneck_v2/preact/moving_mean:0 from checkpoint /tmp/tfhub_modules/8d0633058d241900a3e5895be9e610592a5e1fac/variables/variables with resnet_v2_152/block2/unit_8/bottleneck_v2/preact/moving_mean\n",
            "INFO:tensorflow:Initialize variable module/resnet_v2_152/block2/unit_8/bottleneck_v2/preact/moving_variance:0 from checkpoint /tmp/tfhub_modules/8d0633058d241900a3e5895be9e610592a5e1fac/variables/variables with resnet_v2_152/block2/unit_8/bottleneck_v2/preact/moving_variance\n",
            "INFO:tensorflow:Initialize variable module/resnet_v2_152/block3/unit_1/bottleneck_v2/conv1/BatchNorm/beta:0 from checkpoint /tmp/tfhub_modules/8d0633058d241900a3e5895be9e610592a5e1fac/variables/variables with resnet_v2_152/block3/unit_1/bottleneck_v2/conv1/BatchNorm/beta\n"
          ],
          "name": "stdout"
        },
        {
          "output_type": "stream",
          "text": [
            "INFO:tensorflow:Initialize variable module/resnet_v2_152/block3/unit_1/bottleneck_v2/conv1/BatchNorm/gamma:0 from checkpoint /tmp/tfhub_modules/8d0633058d241900a3e5895be9e610592a5e1fac/variables/variables with resnet_v2_152/block3/unit_1/bottleneck_v2/conv1/BatchNorm/gamma\n",
            "INFO:tensorflow:Initialize variable module/resnet_v2_152/block3/unit_1/bottleneck_v2/conv1/BatchNorm/moving_mean:0 from checkpoint /tmp/tfhub_modules/8d0633058d241900a3e5895be9e610592a5e1fac/variables/variables with resnet_v2_152/block3/unit_1/bottleneck_v2/conv1/BatchNorm/moving_mean\n",
            "INFO:tensorflow:Initialize variable module/resnet_v2_152/block3/unit_1/bottleneck_v2/conv1/BatchNorm/moving_variance:0 from checkpoint /tmp/tfhub_modules/8d0633058d241900a3e5895be9e610592a5e1fac/variables/variables with resnet_v2_152/block3/unit_1/bottleneck_v2/conv1/BatchNorm/moving_variance\n",
            "INFO:tensorflow:Initialize variable module/resnet_v2_152/block3/unit_1/bottleneck_v2/conv1/weights:0 from checkpoint /tmp/tfhub_modules/8d0633058d241900a3e5895be9e610592a5e1fac/variables/variables with resnet_v2_152/block3/unit_1/bottleneck_v2/conv1/weights\n",
            "INFO:tensorflow:Initialize variable module/resnet_v2_152/block3/unit_1/bottleneck_v2/conv2/BatchNorm/beta:0 from checkpoint /tmp/tfhub_modules/8d0633058d241900a3e5895be9e610592a5e1fac/variables/variables with resnet_v2_152/block3/unit_1/bottleneck_v2/conv2/BatchNorm/beta\n",
            "INFO:tensorflow:Initialize variable module/resnet_v2_152/block3/unit_1/bottleneck_v2/conv2/BatchNorm/gamma:0 from checkpoint /tmp/tfhub_modules/8d0633058d241900a3e5895be9e610592a5e1fac/variables/variables with resnet_v2_152/block3/unit_1/bottleneck_v2/conv2/BatchNorm/gamma\n",
            "INFO:tensorflow:Initialize variable module/resnet_v2_152/block3/unit_1/bottleneck_v2/conv2/BatchNorm/moving_mean:0 from checkpoint /tmp/tfhub_modules/8d0633058d241900a3e5895be9e610592a5e1fac/variables/variables with resnet_v2_152/block3/unit_1/bottleneck_v2/conv2/BatchNorm/moving_mean\n",
            "INFO:tensorflow:Initialize variable module/resnet_v2_152/block3/unit_1/bottleneck_v2/conv2/BatchNorm/moving_variance:0 from checkpoint /tmp/tfhub_modules/8d0633058d241900a3e5895be9e610592a5e1fac/variables/variables with resnet_v2_152/block3/unit_1/bottleneck_v2/conv2/BatchNorm/moving_variance\n",
            "INFO:tensorflow:Initialize variable module/resnet_v2_152/block3/unit_1/bottleneck_v2/conv2/weights:0 from checkpoint /tmp/tfhub_modules/8d0633058d241900a3e5895be9e610592a5e1fac/variables/variables with resnet_v2_152/block3/unit_1/bottleneck_v2/conv2/weights\n",
            "INFO:tensorflow:Initialize variable module/resnet_v2_152/block3/unit_1/bottleneck_v2/conv3/biases:0 from checkpoint /tmp/tfhub_modules/8d0633058d241900a3e5895be9e610592a5e1fac/variables/variables with resnet_v2_152/block3/unit_1/bottleneck_v2/conv3/biases\n",
            "INFO:tensorflow:Initialize variable module/resnet_v2_152/block3/unit_1/bottleneck_v2/conv3/weights:0 from checkpoint /tmp/tfhub_modules/8d0633058d241900a3e5895be9e610592a5e1fac/variables/variables with resnet_v2_152/block3/unit_1/bottleneck_v2/conv3/weights\n",
            "INFO:tensorflow:Initialize variable module/resnet_v2_152/block3/unit_1/bottleneck_v2/preact/beta:0 from checkpoint /tmp/tfhub_modules/8d0633058d241900a3e5895be9e610592a5e1fac/variables/variables with resnet_v2_152/block3/unit_1/bottleneck_v2/preact/beta\n",
            "INFO:tensorflow:Initialize variable module/resnet_v2_152/block3/unit_1/bottleneck_v2/preact/gamma:0 from checkpoint /tmp/tfhub_modules/8d0633058d241900a3e5895be9e610592a5e1fac/variables/variables with resnet_v2_152/block3/unit_1/bottleneck_v2/preact/gamma\n",
            "INFO:tensorflow:Initialize variable module/resnet_v2_152/block3/unit_1/bottleneck_v2/preact/moving_mean:0 from checkpoint /tmp/tfhub_modules/8d0633058d241900a3e5895be9e610592a5e1fac/variables/variables with resnet_v2_152/block3/unit_1/bottleneck_v2/preact/moving_mean\n",
            "INFO:tensorflow:Initialize variable module/resnet_v2_152/block3/unit_1/bottleneck_v2/preact/moving_variance:0 from checkpoint /tmp/tfhub_modules/8d0633058d241900a3e5895be9e610592a5e1fac/variables/variables with resnet_v2_152/block3/unit_1/bottleneck_v2/preact/moving_variance\n",
            "INFO:tensorflow:Initialize variable module/resnet_v2_152/block3/unit_1/bottleneck_v2/shortcut/biases:0 from checkpoint /tmp/tfhub_modules/8d0633058d241900a3e5895be9e610592a5e1fac/variables/variables with resnet_v2_152/block3/unit_1/bottleneck_v2/shortcut/biases\n",
            "INFO:tensorflow:Initialize variable module/resnet_v2_152/block3/unit_1/bottleneck_v2/shortcut/weights:0 from checkpoint /tmp/tfhub_modules/8d0633058d241900a3e5895be9e610592a5e1fac/variables/variables with resnet_v2_152/block3/unit_1/bottleneck_v2/shortcut/weights\n",
            "INFO:tensorflow:Initialize variable module/resnet_v2_152/block3/unit_10/bottleneck_v2/conv1/BatchNorm/beta:0 from checkpoint /tmp/tfhub_modules/8d0633058d241900a3e5895be9e610592a5e1fac/variables/variables with resnet_v2_152/block3/unit_10/bottleneck_v2/conv1/BatchNorm/beta\n",
            "INFO:tensorflow:Initialize variable module/resnet_v2_152/block3/unit_10/bottleneck_v2/conv1/BatchNorm/gamma:0 from checkpoint /tmp/tfhub_modules/8d0633058d241900a3e5895be9e610592a5e1fac/variables/variables with resnet_v2_152/block3/unit_10/bottleneck_v2/conv1/BatchNorm/gamma\n",
            "INFO:tensorflow:Initialize variable module/resnet_v2_152/block3/unit_10/bottleneck_v2/conv1/BatchNorm/moving_mean:0 from checkpoint /tmp/tfhub_modules/8d0633058d241900a3e5895be9e610592a5e1fac/variables/variables with resnet_v2_152/block3/unit_10/bottleneck_v2/conv1/BatchNorm/moving_mean\n",
            "INFO:tensorflow:Initialize variable module/resnet_v2_152/block3/unit_10/bottleneck_v2/conv1/BatchNorm/moving_variance:0 from checkpoint /tmp/tfhub_modules/8d0633058d241900a3e5895be9e610592a5e1fac/variables/variables with resnet_v2_152/block3/unit_10/bottleneck_v2/conv1/BatchNorm/moving_variance\n",
            "INFO:tensorflow:Initialize variable module/resnet_v2_152/block3/unit_10/bottleneck_v2/conv1/weights:0 from checkpoint /tmp/tfhub_modules/8d0633058d241900a3e5895be9e610592a5e1fac/variables/variables with resnet_v2_152/block3/unit_10/bottleneck_v2/conv1/weights\n",
            "INFO:tensorflow:Initialize variable module/resnet_v2_152/block3/unit_10/bottleneck_v2/conv2/BatchNorm/beta:0 from checkpoint /tmp/tfhub_modules/8d0633058d241900a3e5895be9e610592a5e1fac/variables/variables with resnet_v2_152/block3/unit_10/bottleneck_v2/conv2/BatchNorm/beta\n",
            "INFO:tensorflow:Initialize variable module/resnet_v2_152/block3/unit_10/bottleneck_v2/conv2/BatchNorm/gamma:0 from checkpoint /tmp/tfhub_modules/8d0633058d241900a3e5895be9e610592a5e1fac/variables/variables with resnet_v2_152/block3/unit_10/bottleneck_v2/conv2/BatchNorm/gamma\n",
            "INFO:tensorflow:Initialize variable module/resnet_v2_152/block3/unit_10/bottleneck_v2/conv2/BatchNorm/moving_mean:0 from checkpoint /tmp/tfhub_modules/8d0633058d241900a3e5895be9e610592a5e1fac/variables/variables with resnet_v2_152/block3/unit_10/bottleneck_v2/conv2/BatchNorm/moving_mean\n",
            "INFO:tensorflow:Initialize variable module/resnet_v2_152/block3/unit_10/bottleneck_v2/conv2/BatchNorm/moving_variance:0 from checkpoint /tmp/tfhub_modules/8d0633058d241900a3e5895be9e610592a5e1fac/variables/variables with resnet_v2_152/block3/unit_10/bottleneck_v2/conv2/BatchNorm/moving_variance\n"
          ],
          "name": "stdout"
        },
        {
          "output_type": "stream",
          "text": [
            "INFO:tensorflow:Initialize variable module/resnet_v2_152/block3/unit_10/bottleneck_v2/conv2/weights:0 from checkpoint /tmp/tfhub_modules/8d0633058d241900a3e5895be9e610592a5e1fac/variables/variables with resnet_v2_152/block3/unit_10/bottleneck_v2/conv2/weights\n",
            "INFO:tensorflow:Initialize variable module/resnet_v2_152/block3/unit_10/bottleneck_v2/conv3/biases:0 from checkpoint /tmp/tfhub_modules/8d0633058d241900a3e5895be9e610592a5e1fac/variables/variables with resnet_v2_152/block3/unit_10/bottleneck_v2/conv3/biases\n",
            "INFO:tensorflow:Initialize variable module/resnet_v2_152/block3/unit_10/bottleneck_v2/conv3/weights:0 from checkpoint /tmp/tfhub_modules/8d0633058d241900a3e5895be9e610592a5e1fac/variables/variables with resnet_v2_152/block3/unit_10/bottleneck_v2/conv3/weights\n",
            "INFO:tensorflow:Initialize variable module/resnet_v2_152/block3/unit_10/bottleneck_v2/preact/beta:0 from checkpoint /tmp/tfhub_modules/8d0633058d241900a3e5895be9e610592a5e1fac/variables/variables with resnet_v2_152/block3/unit_10/bottleneck_v2/preact/beta\n",
            "INFO:tensorflow:Initialize variable module/resnet_v2_152/block3/unit_10/bottleneck_v2/preact/gamma:0 from checkpoint /tmp/tfhub_modules/8d0633058d241900a3e5895be9e610592a5e1fac/variables/variables with resnet_v2_152/block3/unit_10/bottleneck_v2/preact/gamma\n",
            "INFO:tensorflow:Initialize variable module/resnet_v2_152/block3/unit_10/bottleneck_v2/preact/moving_mean:0 from checkpoint /tmp/tfhub_modules/8d0633058d241900a3e5895be9e610592a5e1fac/variables/variables with resnet_v2_152/block3/unit_10/bottleneck_v2/preact/moving_mean\n",
            "INFO:tensorflow:Initialize variable module/resnet_v2_152/block3/unit_10/bottleneck_v2/preact/moving_variance:0 from checkpoint /tmp/tfhub_modules/8d0633058d241900a3e5895be9e610592a5e1fac/variables/variables with resnet_v2_152/block3/unit_10/bottleneck_v2/preact/moving_variance\n",
            "INFO:tensorflow:Initialize variable module/resnet_v2_152/block3/unit_11/bottleneck_v2/conv1/BatchNorm/beta:0 from checkpoint /tmp/tfhub_modules/8d0633058d241900a3e5895be9e610592a5e1fac/variables/variables with resnet_v2_152/block3/unit_11/bottleneck_v2/conv1/BatchNorm/beta\n",
            "INFO:tensorflow:Initialize variable module/resnet_v2_152/block3/unit_11/bottleneck_v2/conv1/BatchNorm/gamma:0 from checkpoint /tmp/tfhub_modules/8d0633058d241900a3e5895be9e610592a5e1fac/variables/variables with resnet_v2_152/block3/unit_11/bottleneck_v2/conv1/BatchNorm/gamma\n",
            "INFO:tensorflow:Initialize variable module/resnet_v2_152/block3/unit_11/bottleneck_v2/conv1/BatchNorm/moving_mean:0 from checkpoint /tmp/tfhub_modules/8d0633058d241900a3e5895be9e610592a5e1fac/variables/variables with resnet_v2_152/block3/unit_11/bottleneck_v2/conv1/BatchNorm/moving_mean\n",
            "INFO:tensorflow:Initialize variable module/resnet_v2_152/block3/unit_11/bottleneck_v2/conv1/BatchNorm/moving_variance:0 from checkpoint /tmp/tfhub_modules/8d0633058d241900a3e5895be9e610592a5e1fac/variables/variables with resnet_v2_152/block3/unit_11/bottleneck_v2/conv1/BatchNorm/moving_variance\n",
            "INFO:tensorflow:Initialize variable module/resnet_v2_152/block3/unit_11/bottleneck_v2/conv1/weights:0 from checkpoint /tmp/tfhub_modules/8d0633058d241900a3e5895be9e610592a5e1fac/variables/variables with resnet_v2_152/block3/unit_11/bottleneck_v2/conv1/weights\n",
            "INFO:tensorflow:Initialize variable module/resnet_v2_152/block3/unit_11/bottleneck_v2/conv2/BatchNorm/beta:0 from checkpoint /tmp/tfhub_modules/8d0633058d241900a3e5895be9e610592a5e1fac/variables/variables with resnet_v2_152/block3/unit_11/bottleneck_v2/conv2/BatchNorm/beta\n",
            "INFO:tensorflow:Initialize variable module/resnet_v2_152/block3/unit_11/bottleneck_v2/conv2/BatchNorm/gamma:0 from checkpoint /tmp/tfhub_modules/8d0633058d241900a3e5895be9e610592a5e1fac/variables/variables with resnet_v2_152/block3/unit_11/bottleneck_v2/conv2/BatchNorm/gamma\n",
            "INFO:tensorflow:Initialize variable module/resnet_v2_152/block3/unit_11/bottleneck_v2/conv2/BatchNorm/moving_mean:0 from checkpoint /tmp/tfhub_modules/8d0633058d241900a3e5895be9e610592a5e1fac/variables/variables with resnet_v2_152/block3/unit_11/bottleneck_v2/conv2/BatchNorm/moving_mean\n",
            "INFO:tensorflow:Initialize variable module/resnet_v2_152/block3/unit_11/bottleneck_v2/conv2/BatchNorm/moving_variance:0 from checkpoint /tmp/tfhub_modules/8d0633058d241900a3e5895be9e610592a5e1fac/variables/variables with resnet_v2_152/block3/unit_11/bottleneck_v2/conv2/BatchNorm/moving_variance\n",
            "INFO:tensorflow:Initialize variable module/resnet_v2_152/block3/unit_11/bottleneck_v2/conv2/weights:0 from checkpoint /tmp/tfhub_modules/8d0633058d241900a3e5895be9e610592a5e1fac/variables/variables with resnet_v2_152/block3/unit_11/bottleneck_v2/conv2/weights\n",
            "INFO:tensorflow:Initialize variable module/resnet_v2_152/block3/unit_11/bottleneck_v2/conv3/biases:0 from checkpoint /tmp/tfhub_modules/8d0633058d241900a3e5895be9e610592a5e1fac/variables/variables with resnet_v2_152/block3/unit_11/bottleneck_v2/conv3/biases\n",
            "INFO:tensorflow:Initialize variable module/resnet_v2_152/block3/unit_11/bottleneck_v2/conv3/weights:0 from checkpoint /tmp/tfhub_modules/8d0633058d241900a3e5895be9e610592a5e1fac/variables/variables with resnet_v2_152/block3/unit_11/bottleneck_v2/conv3/weights\n",
            "INFO:tensorflow:Initialize variable module/resnet_v2_152/block3/unit_11/bottleneck_v2/preact/beta:0 from checkpoint /tmp/tfhub_modules/8d0633058d241900a3e5895be9e610592a5e1fac/variables/variables with resnet_v2_152/block3/unit_11/bottleneck_v2/preact/beta\n",
            "INFO:tensorflow:Initialize variable module/resnet_v2_152/block3/unit_11/bottleneck_v2/preact/gamma:0 from checkpoint /tmp/tfhub_modules/8d0633058d241900a3e5895be9e610592a5e1fac/variables/variables with resnet_v2_152/block3/unit_11/bottleneck_v2/preact/gamma\n",
            "INFO:tensorflow:Initialize variable module/resnet_v2_152/block3/unit_11/bottleneck_v2/preact/moving_mean:0 from checkpoint /tmp/tfhub_modules/8d0633058d241900a3e5895be9e610592a5e1fac/variables/variables with resnet_v2_152/block3/unit_11/bottleneck_v2/preact/moving_mean\n",
            "INFO:tensorflow:Initialize variable module/resnet_v2_152/block3/unit_11/bottleneck_v2/preact/moving_variance:0 from checkpoint /tmp/tfhub_modules/8d0633058d241900a3e5895be9e610592a5e1fac/variables/variables with resnet_v2_152/block3/unit_11/bottleneck_v2/preact/moving_variance\n",
            "INFO:tensorflow:Initialize variable module/resnet_v2_152/block3/unit_12/bottleneck_v2/conv1/BatchNorm/beta:0 from checkpoint /tmp/tfhub_modules/8d0633058d241900a3e5895be9e610592a5e1fac/variables/variables with resnet_v2_152/block3/unit_12/bottleneck_v2/conv1/BatchNorm/beta\n",
            "INFO:tensorflow:Initialize variable module/resnet_v2_152/block3/unit_12/bottleneck_v2/conv1/BatchNorm/gamma:0 from checkpoint /tmp/tfhub_modules/8d0633058d241900a3e5895be9e610592a5e1fac/variables/variables with resnet_v2_152/block3/unit_12/bottleneck_v2/conv1/BatchNorm/gamma\n",
            "INFO:tensorflow:Initialize variable module/resnet_v2_152/block3/unit_12/bottleneck_v2/conv1/BatchNorm/moving_mean:0 from checkpoint /tmp/tfhub_modules/8d0633058d241900a3e5895be9e610592a5e1fac/variables/variables with resnet_v2_152/block3/unit_12/bottleneck_v2/conv1/BatchNorm/moving_mean\n"
          ],
          "name": "stdout"
        },
        {
          "output_type": "stream",
          "text": [
            "INFO:tensorflow:Initialize variable module/resnet_v2_152/block3/unit_12/bottleneck_v2/conv1/BatchNorm/moving_variance:0 from checkpoint /tmp/tfhub_modules/8d0633058d241900a3e5895be9e610592a5e1fac/variables/variables with resnet_v2_152/block3/unit_12/bottleneck_v2/conv1/BatchNorm/moving_variance\n",
            "INFO:tensorflow:Initialize variable module/resnet_v2_152/block3/unit_12/bottleneck_v2/conv1/weights:0 from checkpoint /tmp/tfhub_modules/8d0633058d241900a3e5895be9e610592a5e1fac/variables/variables with resnet_v2_152/block3/unit_12/bottleneck_v2/conv1/weights\n",
            "INFO:tensorflow:Initialize variable module/resnet_v2_152/block3/unit_12/bottleneck_v2/conv2/BatchNorm/beta:0 from checkpoint /tmp/tfhub_modules/8d0633058d241900a3e5895be9e610592a5e1fac/variables/variables with resnet_v2_152/block3/unit_12/bottleneck_v2/conv2/BatchNorm/beta\n",
            "INFO:tensorflow:Initialize variable module/resnet_v2_152/block3/unit_12/bottleneck_v2/conv2/BatchNorm/gamma:0 from checkpoint /tmp/tfhub_modules/8d0633058d241900a3e5895be9e610592a5e1fac/variables/variables with resnet_v2_152/block3/unit_12/bottleneck_v2/conv2/BatchNorm/gamma\n",
            "INFO:tensorflow:Initialize variable module/resnet_v2_152/block3/unit_12/bottleneck_v2/conv2/BatchNorm/moving_mean:0 from checkpoint /tmp/tfhub_modules/8d0633058d241900a3e5895be9e610592a5e1fac/variables/variables with resnet_v2_152/block3/unit_12/bottleneck_v2/conv2/BatchNorm/moving_mean\n",
            "INFO:tensorflow:Initialize variable module/resnet_v2_152/block3/unit_12/bottleneck_v2/conv2/BatchNorm/moving_variance:0 from checkpoint /tmp/tfhub_modules/8d0633058d241900a3e5895be9e610592a5e1fac/variables/variables with resnet_v2_152/block3/unit_12/bottleneck_v2/conv2/BatchNorm/moving_variance\n",
            "INFO:tensorflow:Initialize variable module/resnet_v2_152/block3/unit_12/bottleneck_v2/conv2/weights:0 from checkpoint /tmp/tfhub_modules/8d0633058d241900a3e5895be9e610592a5e1fac/variables/variables with resnet_v2_152/block3/unit_12/bottleneck_v2/conv2/weights\n",
            "INFO:tensorflow:Initialize variable module/resnet_v2_152/block3/unit_12/bottleneck_v2/conv3/biases:0 from checkpoint /tmp/tfhub_modules/8d0633058d241900a3e5895be9e610592a5e1fac/variables/variables with resnet_v2_152/block3/unit_12/bottleneck_v2/conv3/biases\n",
            "INFO:tensorflow:Initialize variable module/resnet_v2_152/block3/unit_12/bottleneck_v2/conv3/weights:0 from checkpoint /tmp/tfhub_modules/8d0633058d241900a3e5895be9e610592a5e1fac/variables/variables with resnet_v2_152/block3/unit_12/bottleneck_v2/conv3/weights\n",
            "INFO:tensorflow:Initialize variable module/resnet_v2_152/block3/unit_12/bottleneck_v2/preact/beta:0 from checkpoint /tmp/tfhub_modules/8d0633058d241900a3e5895be9e610592a5e1fac/variables/variables with resnet_v2_152/block3/unit_12/bottleneck_v2/preact/beta\n",
            "INFO:tensorflow:Initialize variable module/resnet_v2_152/block3/unit_12/bottleneck_v2/preact/gamma:0 from checkpoint /tmp/tfhub_modules/8d0633058d241900a3e5895be9e610592a5e1fac/variables/variables with resnet_v2_152/block3/unit_12/bottleneck_v2/preact/gamma\n",
            "INFO:tensorflow:Initialize variable module/resnet_v2_152/block3/unit_12/bottleneck_v2/preact/moving_mean:0 from checkpoint /tmp/tfhub_modules/8d0633058d241900a3e5895be9e610592a5e1fac/variables/variables with resnet_v2_152/block3/unit_12/bottleneck_v2/preact/moving_mean\n",
            "INFO:tensorflow:Initialize variable module/resnet_v2_152/block3/unit_12/bottleneck_v2/preact/moving_variance:0 from checkpoint /tmp/tfhub_modules/8d0633058d241900a3e5895be9e610592a5e1fac/variables/variables with resnet_v2_152/block3/unit_12/bottleneck_v2/preact/moving_variance\n",
            "INFO:tensorflow:Initialize variable module/resnet_v2_152/block3/unit_13/bottleneck_v2/conv1/BatchNorm/beta:0 from checkpoint /tmp/tfhub_modules/8d0633058d241900a3e5895be9e610592a5e1fac/variables/variables with resnet_v2_152/block3/unit_13/bottleneck_v2/conv1/BatchNorm/beta\n",
            "INFO:tensorflow:Initialize variable module/resnet_v2_152/block3/unit_13/bottleneck_v2/conv1/BatchNorm/gamma:0 from checkpoint /tmp/tfhub_modules/8d0633058d241900a3e5895be9e610592a5e1fac/variables/variables with resnet_v2_152/block3/unit_13/bottleneck_v2/conv1/BatchNorm/gamma\n",
            "INFO:tensorflow:Initialize variable module/resnet_v2_152/block3/unit_13/bottleneck_v2/conv1/BatchNorm/moving_mean:0 from checkpoint /tmp/tfhub_modules/8d0633058d241900a3e5895be9e610592a5e1fac/variables/variables with resnet_v2_152/block3/unit_13/bottleneck_v2/conv1/BatchNorm/moving_mean\n",
            "INFO:tensorflow:Initialize variable module/resnet_v2_152/block3/unit_13/bottleneck_v2/conv1/BatchNorm/moving_variance:0 from checkpoint /tmp/tfhub_modules/8d0633058d241900a3e5895be9e610592a5e1fac/variables/variables with resnet_v2_152/block3/unit_13/bottleneck_v2/conv1/BatchNorm/moving_variance\n",
            "INFO:tensorflow:Initialize variable module/resnet_v2_152/block3/unit_13/bottleneck_v2/conv1/weights:0 from checkpoint /tmp/tfhub_modules/8d0633058d241900a3e5895be9e610592a5e1fac/variables/variables with resnet_v2_152/block3/unit_13/bottleneck_v2/conv1/weights\n",
            "INFO:tensorflow:Initialize variable module/resnet_v2_152/block3/unit_13/bottleneck_v2/conv2/BatchNorm/beta:0 from checkpoint /tmp/tfhub_modules/8d0633058d241900a3e5895be9e610592a5e1fac/variables/variables with resnet_v2_152/block3/unit_13/bottleneck_v2/conv2/BatchNorm/beta\n",
            "INFO:tensorflow:Initialize variable module/resnet_v2_152/block3/unit_13/bottleneck_v2/conv2/BatchNorm/gamma:0 from checkpoint /tmp/tfhub_modules/8d0633058d241900a3e5895be9e610592a5e1fac/variables/variables with resnet_v2_152/block3/unit_13/bottleneck_v2/conv2/BatchNorm/gamma\n",
            "INFO:tensorflow:Initialize variable module/resnet_v2_152/block3/unit_13/bottleneck_v2/conv2/BatchNorm/moving_mean:0 from checkpoint /tmp/tfhub_modules/8d0633058d241900a3e5895be9e610592a5e1fac/variables/variables with resnet_v2_152/block3/unit_13/bottleneck_v2/conv2/BatchNorm/moving_mean\n",
            "INFO:tensorflow:Initialize variable module/resnet_v2_152/block3/unit_13/bottleneck_v2/conv2/BatchNorm/moving_variance:0 from checkpoint /tmp/tfhub_modules/8d0633058d241900a3e5895be9e610592a5e1fac/variables/variables with resnet_v2_152/block3/unit_13/bottleneck_v2/conv2/BatchNorm/moving_variance\n",
            "INFO:tensorflow:Initialize variable module/resnet_v2_152/block3/unit_13/bottleneck_v2/conv2/weights:0 from checkpoint /tmp/tfhub_modules/8d0633058d241900a3e5895be9e610592a5e1fac/variables/variables with resnet_v2_152/block3/unit_13/bottleneck_v2/conv2/weights\n",
            "INFO:tensorflow:Initialize variable module/resnet_v2_152/block3/unit_13/bottleneck_v2/conv3/biases:0 from checkpoint /tmp/tfhub_modules/8d0633058d241900a3e5895be9e610592a5e1fac/variables/variables with resnet_v2_152/block3/unit_13/bottleneck_v2/conv3/biases\n",
            "INFO:tensorflow:Initialize variable module/resnet_v2_152/block3/unit_13/bottleneck_v2/conv3/weights:0 from checkpoint /tmp/tfhub_modules/8d0633058d241900a3e5895be9e610592a5e1fac/variables/variables with resnet_v2_152/block3/unit_13/bottleneck_v2/conv3/weights\n",
            "INFO:tensorflow:Initialize variable module/resnet_v2_152/block3/unit_13/bottleneck_v2/preact/beta:0 from checkpoint /tmp/tfhub_modules/8d0633058d241900a3e5895be9e610592a5e1fac/variables/variables with resnet_v2_152/block3/unit_13/bottleneck_v2/preact/beta\n"
          ],
          "name": "stdout"
        },
        {
          "output_type": "stream",
          "text": [
            "INFO:tensorflow:Initialize variable module/resnet_v2_152/block3/unit_13/bottleneck_v2/preact/gamma:0 from checkpoint /tmp/tfhub_modules/8d0633058d241900a3e5895be9e610592a5e1fac/variables/variables with resnet_v2_152/block3/unit_13/bottleneck_v2/preact/gamma\n",
            "INFO:tensorflow:Initialize variable module/resnet_v2_152/block3/unit_13/bottleneck_v2/preact/moving_mean:0 from checkpoint /tmp/tfhub_modules/8d0633058d241900a3e5895be9e610592a5e1fac/variables/variables with resnet_v2_152/block3/unit_13/bottleneck_v2/preact/moving_mean\n",
            "INFO:tensorflow:Initialize variable module/resnet_v2_152/block3/unit_13/bottleneck_v2/preact/moving_variance:0 from checkpoint /tmp/tfhub_modules/8d0633058d241900a3e5895be9e610592a5e1fac/variables/variables with resnet_v2_152/block3/unit_13/bottleneck_v2/preact/moving_variance\n",
            "INFO:tensorflow:Initialize variable module/resnet_v2_152/block3/unit_14/bottleneck_v2/conv1/BatchNorm/beta:0 from checkpoint /tmp/tfhub_modules/8d0633058d241900a3e5895be9e610592a5e1fac/variables/variables with resnet_v2_152/block3/unit_14/bottleneck_v2/conv1/BatchNorm/beta\n",
            "INFO:tensorflow:Initialize variable module/resnet_v2_152/block3/unit_14/bottleneck_v2/conv1/BatchNorm/gamma:0 from checkpoint /tmp/tfhub_modules/8d0633058d241900a3e5895be9e610592a5e1fac/variables/variables with resnet_v2_152/block3/unit_14/bottleneck_v2/conv1/BatchNorm/gamma\n",
            "INFO:tensorflow:Initialize variable module/resnet_v2_152/block3/unit_14/bottleneck_v2/conv1/BatchNorm/moving_mean:0 from checkpoint /tmp/tfhub_modules/8d0633058d241900a3e5895be9e610592a5e1fac/variables/variables with resnet_v2_152/block3/unit_14/bottleneck_v2/conv1/BatchNorm/moving_mean\n",
            "INFO:tensorflow:Initialize variable module/resnet_v2_152/block3/unit_14/bottleneck_v2/conv1/BatchNorm/moving_variance:0 from checkpoint /tmp/tfhub_modules/8d0633058d241900a3e5895be9e610592a5e1fac/variables/variables with resnet_v2_152/block3/unit_14/bottleneck_v2/conv1/BatchNorm/moving_variance\n",
            "INFO:tensorflow:Initialize variable module/resnet_v2_152/block3/unit_14/bottleneck_v2/conv1/weights:0 from checkpoint /tmp/tfhub_modules/8d0633058d241900a3e5895be9e610592a5e1fac/variables/variables with resnet_v2_152/block3/unit_14/bottleneck_v2/conv1/weights\n",
            "INFO:tensorflow:Initialize variable module/resnet_v2_152/block3/unit_14/bottleneck_v2/conv2/BatchNorm/beta:0 from checkpoint /tmp/tfhub_modules/8d0633058d241900a3e5895be9e610592a5e1fac/variables/variables with resnet_v2_152/block3/unit_14/bottleneck_v2/conv2/BatchNorm/beta\n",
            "INFO:tensorflow:Initialize variable module/resnet_v2_152/block3/unit_14/bottleneck_v2/conv2/BatchNorm/gamma:0 from checkpoint /tmp/tfhub_modules/8d0633058d241900a3e5895be9e610592a5e1fac/variables/variables with resnet_v2_152/block3/unit_14/bottleneck_v2/conv2/BatchNorm/gamma\n",
            "INFO:tensorflow:Initialize variable module/resnet_v2_152/block3/unit_14/bottleneck_v2/conv2/BatchNorm/moving_mean:0 from checkpoint /tmp/tfhub_modules/8d0633058d241900a3e5895be9e610592a5e1fac/variables/variables with resnet_v2_152/block3/unit_14/bottleneck_v2/conv2/BatchNorm/moving_mean\n",
            "INFO:tensorflow:Initialize variable module/resnet_v2_152/block3/unit_14/bottleneck_v2/conv2/BatchNorm/moving_variance:0 from checkpoint /tmp/tfhub_modules/8d0633058d241900a3e5895be9e610592a5e1fac/variables/variables with resnet_v2_152/block3/unit_14/bottleneck_v2/conv2/BatchNorm/moving_variance\n",
            "INFO:tensorflow:Initialize variable module/resnet_v2_152/block3/unit_14/bottleneck_v2/conv2/weights:0 from checkpoint /tmp/tfhub_modules/8d0633058d241900a3e5895be9e610592a5e1fac/variables/variables with resnet_v2_152/block3/unit_14/bottleneck_v2/conv2/weights\n",
            "INFO:tensorflow:Initialize variable module/resnet_v2_152/block3/unit_14/bottleneck_v2/conv3/biases:0 from checkpoint /tmp/tfhub_modules/8d0633058d241900a3e5895be9e610592a5e1fac/variables/variables with resnet_v2_152/block3/unit_14/bottleneck_v2/conv3/biases\n",
            "INFO:tensorflow:Initialize variable module/resnet_v2_152/block3/unit_14/bottleneck_v2/conv3/weights:0 from checkpoint /tmp/tfhub_modules/8d0633058d241900a3e5895be9e610592a5e1fac/variables/variables with resnet_v2_152/block3/unit_14/bottleneck_v2/conv3/weights\n",
            "INFO:tensorflow:Initialize variable module/resnet_v2_152/block3/unit_14/bottleneck_v2/preact/beta:0 from checkpoint /tmp/tfhub_modules/8d0633058d241900a3e5895be9e610592a5e1fac/variables/variables with resnet_v2_152/block3/unit_14/bottleneck_v2/preact/beta\n",
            "INFO:tensorflow:Initialize variable module/resnet_v2_152/block3/unit_14/bottleneck_v2/preact/gamma:0 from checkpoint /tmp/tfhub_modules/8d0633058d241900a3e5895be9e610592a5e1fac/variables/variables with resnet_v2_152/block3/unit_14/bottleneck_v2/preact/gamma\n",
            "INFO:tensorflow:Initialize variable module/resnet_v2_152/block3/unit_14/bottleneck_v2/preact/moving_mean:0 from checkpoint /tmp/tfhub_modules/8d0633058d241900a3e5895be9e610592a5e1fac/variables/variables with resnet_v2_152/block3/unit_14/bottleneck_v2/preact/moving_mean\n",
            "INFO:tensorflow:Initialize variable module/resnet_v2_152/block3/unit_14/bottleneck_v2/preact/moving_variance:0 from checkpoint /tmp/tfhub_modules/8d0633058d241900a3e5895be9e610592a5e1fac/variables/variables with resnet_v2_152/block3/unit_14/bottleneck_v2/preact/moving_variance\n",
            "INFO:tensorflow:Initialize variable module/resnet_v2_152/block3/unit_15/bottleneck_v2/conv1/BatchNorm/beta:0 from checkpoint /tmp/tfhub_modules/8d0633058d241900a3e5895be9e610592a5e1fac/variables/variables with resnet_v2_152/block3/unit_15/bottleneck_v2/conv1/BatchNorm/beta\n",
            "INFO:tensorflow:Initialize variable module/resnet_v2_152/block3/unit_15/bottleneck_v2/conv1/BatchNorm/gamma:0 from checkpoint /tmp/tfhub_modules/8d0633058d241900a3e5895be9e610592a5e1fac/variables/variables with resnet_v2_152/block3/unit_15/bottleneck_v2/conv1/BatchNorm/gamma\n",
            "INFO:tensorflow:Initialize variable module/resnet_v2_152/block3/unit_15/bottleneck_v2/conv1/BatchNorm/moving_mean:0 from checkpoint /tmp/tfhub_modules/8d0633058d241900a3e5895be9e610592a5e1fac/variables/variables with resnet_v2_152/block3/unit_15/bottleneck_v2/conv1/BatchNorm/moving_mean\n",
            "INFO:tensorflow:Initialize variable module/resnet_v2_152/block3/unit_15/bottleneck_v2/conv1/BatchNorm/moving_variance:0 from checkpoint /tmp/tfhub_modules/8d0633058d241900a3e5895be9e610592a5e1fac/variables/variables with resnet_v2_152/block3/unit_15/bottleneck_v2/conv1/BatchNorm/moving_variance\n",
            "INFO:tensorflow:Initialize variable module/resnet_v2_152/block3/unit_15/bottleneck_v2/conv1/weights:0 from checkpoint /tmp/tfhub_modules/8d0633058d241900a3e5895be9e610592a5e1fac/variables/variables with resnet_v2_152/block3/unit_15/bottleneck_v2/conv1/weights\n",
            "INFO:tensorflow:Initialize variable module/resnet_v2_152/block3/unit_15/bottleneck_v2/conv2/BatchNorm/beta:0 from checkpoint /tmp/tfhub_modules/8d0633058d241900a3e5895be9e610592a5e1fac/variables/variables with resnet_v2_152/block3/unit_15/bottleneck_v2/conv2/BatchNorm/beta\n",
            "INFO:tensorflow:Initialize variable module/resnet_v2_152/block3/unit_15/bottleneck_v2/conv2/BatchNorm/gamma:0 from checkpoint /tmp/tfhub_modules/8d0633058d241900a3e5895be9e610592a5e1fac/variables/variables with resnet_v2_152/block3/unit_15/bottleneck_v2/conv2/BatchNorm/gamma\n"
          ],
          "name": "stdout"
        },
        {
          "output_type": "stream",
          "text": [
            "INFO:tensorflow:Initialize variable module/resnet_v2_152/block3/unit_15/bottleneck_v2/conv2/BatchNorm/moving_mean:0 from checkpoint /tmp/tfhub_modules/8d0633058d241900a3e5895be9e610592a5e1fac/variables/variables with resnet_v2_152/block3/unit_15/bottleneck_v2/conv2/BatchNorm/moving_mean\n",
            "INFO:tensorflow:Initialize variable module/resnet_v2_152/block3/unit_15/bottleneck_v2/conv2/BatchNorm/moving_variance:0 from checkpoint /tmp/tfhub_modules/8d0633058d241900a3e5895be9e610592a5e1fac/variables/variables with resnet_v2_152/block3/unit_15/bottleneck_v2/conv2/BatchNorm/moving_variance\n",
            "INFO:tensorflow:Initialize variable module/resnet_v2_152/block3/unit_15/bottleneck_v2/conv2/weights:0 from checkpoint /tmp/tfhub_modules/8d0633058d241900a3e5895be9e610592a5e1fac/variables/variables with resnet_v2_152/block3/unit_15/bottleneck_v2/conv2/weights\n",
            "INFO:tensorflow:Initialize variable module/resnet_v2_152/block3/unit_15/bottleneck_v2/conv3/biases:0 from checkpoint /tmp/tfhub_modules/8d0633058d241900a3e5895be9e610592a5e1fac/variables/variables with resnet_v2_152/block3/unit_15/bottleneck_v2/conv3/biases\n",
            "INFO:tensorflow:Initialize variable module/resnet_v2_152/block3/unit_15/bottleneck_v2/conv3/weights:0 from checkpoint /tmp/tfhub_modules/8d0633058d241900a3e5895be9e610592a5e1fac/variables/variables with resnet_v2_152/block3/unit_15/bottleneck_v2/conv3/weights\n",
            "INFO:tensorflow:Initialize variable module/resnet_v2_152/block3/unit_15/bottleneck_v2/preact/beta:0 from checkpoint /tmp/tfhub_modules/8d0633058d241900a3e5895be9e610592a5e1fac/variables/variables with resnet_v2_152/block3/unit_15/bottleneck_v2/preact/beta\n",
            "INFO:tensorflow:Initialize variable module/resnet_v2_152/block3/unit_15/bottleneck_v2/preact/gamma:0 from checkpoint /tmp/tfhub_modules/8d0633058d241900a3e5895be9e610592a5e1fac/variables/variables with resnet_v2_152/block3/unit_15/bottleneck_v2/preact/gamma\n",
            "INFO:tensorflow:Initialize variable module/resnet_v2_152/block3/unit_15/bottleneck_v2/preact/moving_mean:0 from checkpoint /tmp/tfhub_modules/8d0633058d241900a3e5895be9e610592a5e1fac/variables/variables with resnet_v2_152/block3/unit_15/bottleneck_v2/preact/moving_mean\n",
            "INFO:tensorflow:Initialize variable module/resnet_v2_152/block3/unit_15/bottleneck_v2/preact/moving_variance:0 from checkpoint /tmp/tfhub_modules/8d0633058d241900a3e5895be9e610592a5e1fac/variables/variables with resnet_v2_152/block3/unit_15/bottleneck_v2/preact/moving_variance\n",
            "INFO:tensorflow:Initialize variable module/resnet_v2_152/block3/unit_16/bottleneck_v2/conv1/BatchNorm/beta:0 from checkpoint /tmp/tfhub_modules/8d0633058d241900a3e5895be9e610592a5e1fac/variables/variables with resnet_v2_152/block3/unit_16/bottleneck_v2/conv1/BatchNorm/beta\n",
            "INFO:tensorflow:Initialize variable module/resnet_v2_152/block3/unit_16/bottleneck_v2/conv1/BatchNorm/gamma:0 from checkpoint /tmp/tfhub_modules/8d0633058d241900a3e5895be9e610592a5e1fac/variables/variables with resnet_v2_152/block3/unit_16/bottleneck_v2/conv1/BatchNorm/gamma\n",
            "INFO:tensorflow:Initialize variable module/resnet_v2_152/block3/unit_16/bottleneck_v2/conv1/BatchNorm/moving_mean:0 from checkpoint /tmp/tfhub_modules/8d0633058d241900a3e5895be9e610592a5e1fac/variables/variables with resnet_v2_152/block3/unit_16/bottleneck_v2/conv1/BatchNorm/moving_mean\n",
            "INFO:tensorflow:Initialize variable module/resnet_v2_152/block3/unit_16/bottleneck_v2/conv1/BatchNorm/moving_variance:0 from checkpoint /tmp/tfhub_modules/8d0633058d241900a3e5895be9e610592a5e1fac/variables/variables with resnet_v2_152/block3/unit_16/bottleneck_v2/conv1/BatchNorm/moving_variance\n",
            "INFO:tensorflow:Initialize variable module/resnet_v2_152/block3/unit_16/bottleneck_v2/conv1/weights:0 from checkpoint /tmp/tfhub_modules/8d0633058d241900a3e5895be9e610592a5e1fac/variables/variables with resnet_v2_152/block3/unit_16/bottleneck_v2/conv1/weights\n",
            "INFO:tensorflow:Initialize variable module/resnet_v2_152/block3/unit_16/bottleneck_v2/conv2/BatchNorm/beta:0 from checkpoint /tmp/tfhub_modules/8d0633058d241900a3e5895be9e610592a5e1fac/variables/variables with resnet_v2_152/block3/unit_16/bottleneck_v2/conv2/BatchNorm/beta\n",
            "INFO:tensorflow:Initialize variable module/resnet_v2_152/block3/unit_16/bottleneck_v2/conv2/BatchNorm/gamma:0 from checkpoint /tmp/tfhub_modules/8d0633058d241900a3e5895be9e610592a5e1fac/variables/variables with resnet_v2_152/block3/unit_16/bottleneck_v2/conv2/BatchNorm/gamma\n",
            "INFO:tensorflow:Initialize variable module/resnet_v2_152/block3/unit_16/bottleneck_v2/conv2/BatchNorm/moving_mean:0 from checkpoint /tmp/tfhub_modules/8d0633058d241900a3e5895be9e610592a5e1fac/variables/variables with resnet_v2_152/block3/unit_16/bottleneck_v2/conv2/BatchNorm/moving_mean\n",
            "INFO:tensorflow:Initialize variable module/resnet_v2_152/block3/unit_16/bottleneck_v2/conv2/BatchNorm/moving_variance:0 from checkpoint /tmp/tfhub_modules/8d0633058d241900a3e5895be9e610592a5e1fac/variables/variables with resnet_v2_152/block3/unit_16/bottleneck_v2/conv2/BatchNorm/moving_variance\n",
            "INFO:tensorflow:Initialize variable module/resnet_v2_152/block3/unit_16/bottleneck_v2/conv2/weights:0 from checkpoint /tmp/tfhub_modules/8d0633058d241900a3e5895be9e610592a5e1fac/variables/variables with resnet_v2_152/block3/unit_16/bottleneck_v2/conv2/weights\n",
            "INFO:tensorflow:Initialize variable module/resnet_v2_152/block3/unit_16/bottleneck_v2/conv3/biases:0 from checkpoint /tmp/tfhub_modules/8d0633058d241900a3e5895be9e610592a5e1fac/variables/variables with resnet_v2_152/block3/unit_16/bottleneck_v2/conv3/biases\n",
            "INFO:tensorflow:Initialize variable module/resnet_v2_152/block3/unit_16/bottleneck_v2/conv3/weights:0 from checkpoint /tmp/tfhub_modules/8d0633058d241900a3e5895be9e610592a5e1fac/variables/variables with resnet_v2_152/block3/unit_16/bottleneck_v2/conv3/weights\n",
            "INFO:tensorflow:Initialize variable module/resnet_v2_152/block3/unit_16/bottleneck_v2/preact/beta:0 from checkpoint /tmp/tfhub_modules/8d0633058d241900a3e5895be9e610592a5e1fac/variables/variables with resnet_v2_152/block3/unit_16/bottleneck_v2/preact/beta\n",
            "INFO:tensorflow:Initialize variable module/resnet_v2_152/block3/unit_16/bottleneck_v2/preact/gamma:0 from checkpoint /tmp/tfhub_modules/8d0633058d241900a3e5895be9e610592a5e1fac/variables/variables with resnet_v2_152/block3/unit_16/bottleneck_v2/preact/gamma\n",
            "INFO:tensorflow:Initialize variable module/resnet_v2_152/block3/unit_16/bottleneck_v2/preact/moving_mean:0 from checkpoint /tmp/tfhub_modules/8d0633058d241900a3e5895be9e610592a5e1fac/variables/variables with resnet_v2_152/block3/unit_16/bottleneck_v2/preact/moving_mean\n",
            "INFO:tensorflow:Initialize variable module/resnet_v2_152/block3/unit_16/bottleneck_v2/preact/moving_variance:0 from checkpoint /tmp/tfhub_modules/8d0633058d241900a3e5895be9e610592a5e1fac/variables/variables with resnet_v2_152/block3/unit_16/bottleneck_v2/preact/moving_variance\n",
            "INFO:tensorflow:Initialize variable module/resnet_v2_152/block3/unit_17/bottleneck_v2/conv1/BatchNorm/beta:0 from checkpoint /tmp/tfhub_modules/8d0633058d241900a3e5895be9e610592a5e1fac/variables/variables with resnet_v2_152/block3/unit_17/bottleneck_v2/conv1/BatchNorm/beta\n"
          ],
          "name": "stdout"
        },
        {
          "output_type": "stream",
          "text": [
            "INFO:tensorflow:Initialize variable module/resnet_v2_152/block3/unit_17/bottleneck_v2/conv1/BatchNorm/gamma:0 from checkpoint /tmp/tfhub_modules/8d0633058d241900a3e5895be9e610592a5e1fac/variables/variables with resnet_v2_152/block3/unit_17/bottleneck_v2/conv1/BatchNorm/gamma\n",
            "INFO:tensorflow:Initialize variable module/resnet_v2_152/block3/unit_17/bottleneck_v2/conv1/BatchNorm/moving_mean:0 from checkpoint /tmp/tfhub_modules/8d0633058d241900a3e5895be9e610592a5e1fac/variables/variables with resnet_v2_152/block3/unit_17/bottleneck_v2/conv1/BatchNorm/moving_mean\n",
            "INFO:tensorflow:Initialize variable module/resnet_v2_152/block3/unit_17/bottleneck_v2/conv1/BatchNorm/moving_variance:0 from checkpoint /tmp/tfhub_modules/8d0633058d241900a3e5895be9e610592a5e1fac/variables/variables with resnet_v2_152/block3/unit_17/bottleneck_v2/conv1/BatchNorm/moving_variance\n",
            "INFO:tensorflow:Initialize variable module/resnet_v2_152/block3/unit_17/bottleneck_v2/conv1/weights:0 from checkpoint /tmp/tfhub_modules/8d0633058d241900a3e5895be9e610592a5e1fac/variables/variables with resnet_v2_152/block3/unit_17/bottleneck_v2/conv1/weights\n",
            "INFO:tensorflow:Initialize variable module/resnet_v2_152/block3/unit_17/bottleneck_v2/conv2/BatchNorm/beta:0 from checkpoint /tmp/tfhub_modules/8d0633058d241900a3e5895be9e610592a5e1fac/variables/variables with resnet_v2_152/block3/unit_17/bottleneck_v2/conv2/BatchNorm/beta\n",
            "INFO:tensorflow:Initialize variable module/resnet_v2_152/block3/unit_17/bottleneck_v2/conv2/BatchNorm/gamma:0 from checkpoint /tmp/tfhub_modules/8d0633058d241900a3e5895be9e610592a5e1fac/variables/variables with resnet_v2_152/block3/unit_17/bottleneck_v2/conv2/BatchNorm/gamma\n",
            "INFO:tensorflow:Initialize variable module/resnet_v2_152/block3/unit_17/bottleneck_v2/conv2/BatchNorm/moving_mean:0 from checkpoint /tmp/tfhub_modules/8d0633058d241900a3e5895be9e610592a5e1fac/variables/variables with resnet_v2_152/block3/unit_17/bottleneck_v2/conv2/BatchNorm/moving_mean\n",
            "INFO:tensorflow:Initialize variable module/resnet_v2_152/block3/unit_17/bottleneck_v2/conv2/BatchNorm/moving_variance:0 from checkpoint /tmp/tfhub_modules/8d0633058d241900a3e5895be9e610592a5e1fac/variables/variables with resnet_v2_152/block3/unit_17/bottleneck_v2/conv2/BatchNorm/moving_variance\n",
            "INFO:tensorflow:Initialize variable module/resnet_v2_152/block3/unit_17/bottleneck_v2/conv2/weights:0 from checkpoint /tmp/tfhub_modules/8d0633058d241900a3e5895be9e610592a5e1fac/variables/variables with resnet_v2_152/block3/unit_17/bottleneck_v2/conv2/weights\n",
            "INFO:tensorflow:Initialize variable module/resnet_v2_152/block3/unit_17/bottleneck_v2/conv3/biases:0 from checkpoint /tmp/tfhub_modules/8d0633058d241900a3e5895be9e610592a5e1fac/variables/variables with resnet_v2_152/block3/unit_17/bottleneck_v2/conv3/biases\n",
            "INFO:tensorflow:Initialize variable module/resnet_v2_152/block3/unit_17/bottleneck_v2/conv3/weights:0 from checkpoint /tmp/tfhub_modules/8d0633058d241900a3e5895be9e610592a5e1fac/variables/variables with resnet_v2_152/block3/unit_17/bottleneck_v2/conv3/weights\n",
            "INFO:tensorflow:Initialize variable module/resnet_v2_152/block3/unit_17/bottleneck_v2/preact/beta:0 from checkpoint /tmp/tfhub_modules/8d0633058d241900a3e5895be9e610592a5e1fac/variables/variables with resnet_v2_152/block3/unit_17/bottleneck_v2/preact/beta\n",
            "INFO:tensorflow:Initialize variable module/resnet_v2_152/block3/unit_17/bottleneck_v2/preact/gamma:0 from checkpoint /tmp/tfhub_modules/8d0633058d241900a3e5895be9e610592a5e1fac/variables/variables with resnet_v2_152/block3/unit_17/bottleneck_v2/preact/gamma\n",
            "INFO:tensorflow:Initialize variable module/resnet_v2_152/block3/unit_17/bottleneck_v2/preact/moving_mean:0 from checkpoint /tmp/tfhub_modules/8d0633058d241900a3e5895be9e610592a5e1fac/variables/variables with resnet_v2_152/block3/unit_17/bottleneck_v2/preact/moving_mean\n",
            "INFO:tensorflow:Initialize variable module/resnet_v2_152/block3/unit_17/bottleneck_v2/preact/moving_variance:0 from checkpoint /tmp/tfhub_modules/8d0633058d241900a3e5895be9e610592a5e1fac/variables/variables with resnet_v2_152/block3/unit_17/bottleneck_v2/preact/moving_variance\n",
            "INFO:tensorflow:Initialize variable module/resnet_v2_152/block3/unit_18/bottleneck_v2/conv1/BatchNorm/beta:0 from checkpoint /tmp/tfhub_modules/8d0633058d241900a3e5895be9e610592a5e1fac/variables/variables with resnet_v2_152/block3/unit_18/bottleneck_v2/conv1/BatchNorm/beta\n",
            "INFO:tensorflow:Initialize variable module/resnet_v2_152/block3/unit_18/bottleneck_v2/conv1/BatchNorm/gamma:0 from checkpoint /tmp/tfhub_modules/8d0633058d241900a3e5895be9e610592a5e1fac/variables/variables with resnet_v2_152/block3/unit_18/bottleneck_v2/conv1/BatchNorm/gamma\n",
            "INFO:tensorflow:Initialize variable module/resnet_v2_152/block3/unit_18/bottleneck_v2/conv1/BatchNorm/moving_mean:0 from checkpoint /tmp/tfhub_modules/8d0633058d241900a3e5895be9e610592a5e1fac/variables/variables with resnet_v2_152/block3/unit_18/bottleneck_v2/conv1/BatchNorm/moving_mean\n",
            "INFO:tensorflow:Initialize variable module/resnet_v2_152/block3/unit_18/bottleneck_v2/conv1/BatchNorm/moving_variance:0 from checkpoint /tmp/tfhub_modules/8d0633058d241900a3e5895be9e610592a5e1fac/variables/variables with resnet_v2_152/block3/unit_18/bottleneck_v2/conv1/BatchNorm/moving_variance\n",
            "INFO:tensorflow:Initialize variable module/resnet_v2_152/block3/unit_18/bottleneck_v2/conv1/weights:0 from checkpoint /tmp/tfhub_modules/8d0633058d241900a3e5895be9e610592a5e1fac/variables/variables with resnet_v2_152/block3/unit_18/bottleneck_v2/conv1/weights\n",
            "INFO:tensorflow:Initialize variable module/resnet_v2_152/block3/unit_18/bottleneck_v2/conv2/BatchNorm/beta:0 from checkpoint /tmp/tfhub_modules/8d0633058d241900a3e5895be9e610592a5e1fac/variables/variables with resnet_v2_152/block3/unit_18/bottleneck_v2/conv2/BatchNorm/beta\n",
            "INFO:tensorflow:Initialize variable module/resnet_v2_152/block3/unit_18/bottleneck_v2/conv2/BatchNorm/gamma:0 from checkpoint /tmp/tfhub_modules/8d0633058d241900a3e5895be9e610592a5e1fac/variables/variables with resnet_v2_152/block3/unit_18/bottleneck_v2/conv2/BatchNorm/gamma\n",
            "INFO:tensorflow:Initialize variable module/resnet_v2_152/block3/unit_18/bottleneck_v2/conv2/BatchNorm/moving_mean:0 from checkpoint /tmp/tfhub_modules/8d0633058d241900a3e5895be9e610592a5e1fac/variables/variables with resnet_v2_152/block3/unit_18/bottleneck_v2/conv2/BatchNorm/moving_mean\n",
            "INFO:tensorflow:Initialize variable module/resnet_v2_152/block3/unit_18/bottleneck_v2/conv2/BatchNorm/moving_variance:0 from checkpoint /tmp/tfhub_modules/8d0633058d241900a3e5895be9e610592a5e1fac/variables/variables with resnet_v2_152/block3/unit_18/bottleneck_v2/conv2/BatchNorm/moving_variance\n",
            "INFO:tensorflow:Initialize variable module/resnet_v2_152/block3/unit_18/bottleneck_v2/conv2/weights:0 from checkpoint /tmp/tfhub_modules/8d0633058d241900a3e5895be9e610592a5e1fac/variables/variables with resnet_v2_152/block3/unit_18/bottleneck_v2/conv2/weights\n",
            "INFO:tensorflow:Initialize variable module/resnet_v2_152/block3/unit_18/bottleneck_v2/conv3/biases:0 from checkpoint /tmp/tfhub_modules/8d0633058d241900a3e5895be9e610592a5e1fac/variables/variables with resnet_v2_152/block3/unit_18/bottleneck_v2/conv3/biases\n"
          ],
          "name": "stdout"
        },
        {
          "output_type": "stream",
          "text": [
            "INFO:tensorflow:Initialize variable module/resnet_v2_152/block3/unit_18/bottleneck_v2/conv3/weights:0 from checkpoint /tmp/tfhub_modules/8d0633058d241900a3e5895be9e610592a5e1fac/variables/variables with resnet_v2_152/block3/unit_18/bottleneck_v2/conv3/weights\n",
            "INFO:tensorflow:Initialize variable module/resnet_v2_152/block3/unit_18/bottleneck_v2/preact/beta:0 from checkpoint /tmp/tfhub_modules/8d0633058d241900a3e5895be9e610592a5e1fac/variables/variables with resnet_v2_152/block3/unit_18/bottleneck_v2/preact/beta\n",
            "INFO:tensorflow:Initialize variable module/resnet_v2_152/block3/unit_18/bottleneck_v2/preact/gamma:0 from checkpoint /tmp/tfhub_modules/8d0633058d241900a3e5895be9e610592a5e1fac/variables/variables with resnet_v2_152/block3/unit_18/bottleneck_v2/preact/gamma\n",
            "INFO:tensorflow:Initialize variable module/resnet_v2_152/block3/unit_18/bottleneck_v2/preact/moving_mean:0 from checkpoint /tmp/tfhub_modules/8d0633058d241900a3e5895be9e610592a5e1fac/variables/variables with resnet_v2_152/block3/unit_18/bottleneck_v2/preact/moving_mean\n",
            "INFO:tensorflow:Initialize variable module/resnet_v2_152/block3/unit_18/bottleneck_v2/preact/moving_variance:0 from checkpoint /tmp/tfhub_modules/8d0633058d241900a3e5895be9e610592a5e1fac/variables/variables with resnet_v2_152/block3/unit_18/bottleneck_v2/preact/moving_variance\n",
            "INFO:tensorflow:Initialize variable module/resnet_v2_152/block3/unit_19/bottleneck_v2/conv1/BatchNorm/beta:0 from checkpoint /tmp/tfhub_modules/8d0633058d241900a3e5895be9e610592a5e1fac/variables/variables with resnet_v2_152/block3/unit_19/bottleneck_v2/conv1/BatchNorm/beta\n",
            "INFO:tensorflow:Initialize variable module/resnet_v2_152/block3/unit_19/bottleneck_v2/conv1/BatchNorm/gamma:0 from checkpoint /tmp/tfhub_modules/8d0633058d241900a3e5895be9e610592a5e1fac/variables/variables with resnet_v2_152/block3/unit_19/bottleneck_v2/conv1/BatchNorm/gamma\n",
            "INFO:tensorflow:Initialize variable module/resnet_v2_152/block3/unit_19/bottleneck_v2/conv1/BatchNorm/moving_mean:0 from checkpoint /tmp/tfhub_modules/8d0633058d241900a3e5895be9e610592a5e1fac/variables/variables with resnet_v2_152/block3/unit_19/bottleneck_v2/conv1/BatchNorm/moving_mean\n",
            "INFO:tensorflow:Initialize variable module/resnet_v2_152/block3/unit_19/bottleneck_v2/conv1/BatchNorm/moving_variance:0 from checkpoint /tmp/tfhub_modules/8d0633058d241900a3e5895be9e610592a5e1fac/variables/variables with resnet_v2_152/block3/unit_19/bottleneck_v2/conv1/BatchNorm/moving_variance\n",
            "INFO:tensorflow:Initialize variable module/resnet_v2_152/block3/unit_19/bottleneck_v2/conv1/weights:0 from checkpoint /tmp/tfhub_modules/8d0633058d241900a3e5895be9e610592a5e1fac/variables/variables with resnet_v2_152/block3/unit_19/bottleneck_v2/conv1/weights\n",
            "INFO:tensorflow:Initialize variable module/resnet_v2_152/block3/unit_19/bottleneck_v2/conv2/BatchNorm/beta:0 from checkpoint /tmp/tfhub_modules/8d0633058d241900a3e5895be9e610592a5e1fac/variables/variables with resnet_v2_152/block3/unit_19/bottleneck_v2/conv2/BatchNorm/beta\n",
            "INFO:tensorflow:Initialize variable module/resnet_v2_152/block3/unit_19/bottleneck_v2/conv2/BatchNorm/gamma:0 from checkpoint /tmp/tfhub_modules/8d0633058d241900a3e5895be9e610592a5e1fac/variables/variables with resnet_v2_152/block3/unit_19/bottleneck_v2/conv2/BatchNorm/gamma\n",
            "INFO:tensorflow:Initialize variable module/resnet_v2_152/block3/unit_19/bottleneck_v2/conv2/BatchNorm/moving_mean:0 from checkpoint /tmp/tfhub_modules/8d0633058d241900a3e5895be9e610592a5e1fac/variables/variables with resnet_v2_152/block3/unit_19/bottleneck_v2/conv2/BatchNorm/moving_mean\n",
            "INFO:tensorflow:Initialize variable module/resnet_v2_152/block3/unit_19/bottleneck_v2/conv2/BatchNorm/moving_variance:0 from checkpoint /tmp/tfhub_modules/8d0633058d241900a3e5895be9e610592a5e1fac/variables/variables with resnet_v2_152/block3/unit_19/bottleneck_v2/conv2/BatchNorm/moving_variance\n",
            "INFO:tensorflow:Initialize variable module/resnet_v2_152/block3/unit_19/bottleneck_v2/conv2/weights:0 from checkpoint /tmp/tfhub_modules/8d0633058d241900a3e5895be9e610592a5e1fac/variables/variables with resnet_v2_152/block3/unit_19/bottleneck_v2/conv2/weights\n",
            "INFO:tensorflow:Initialize variable module/resnet_v2_152/block3/unit_19/bottleneck_v2/conv3/biases:0 from checkpoint /tmp/tfhub_modules/8d0633058d241900a3e5895be9e610592a5e1fac/variables/variables with resnet_v2_152/block3/unit_19/bottleneck_v2/conv3/biases\n",
            "INFO:tensorflow:Initialize variable module/resnet_v2_152/block3/unit_19/bottleneck_v2/conv3/weights:0 from checkpoint /tmp/tfhub_modules/8d0633058d241900a3e5895be9e610592a5e1fac/variables/variables with resnet_v2_152/block3/unit_19/bottleneck_v2/conv3/weights\n",
            "INFO:tensorflow:Initialize variable module/resnet_v2_152/block3/unit_19/bottleneck_v2/preact/beta:0 from checkpoint /tmp/tfhub_modules/8d0633058d241900a3e5895be9e610592a5e1fac/variables/variables with resnet_v2_152/block3/unit_19/bottleneck_v2/preact/beta\n",
            "INFO:tensorflow:Initialize variable module/resnet_v2_152/block3/unit_19/bottleneck_v2/preact/gamma:0 from checkpoint /tmp/tfhub_modules/8d0633058d241900a3e5895be9e610592a5e1fac/variables/variables with resnet_v2_152/block3/unit_19/bottleneck_v2/preact/gamma\n",
            "INFO:tensorflow:Initialize variable module/resnet_v2_152/block3/unit_19/bottleneck_v2/preact/moving_mean:0 from checkpoint /tmp/tfhub_modules/8d0633058d241900a3e5895be9e610592a5e1fac/variables/variables with resnet_v2_152/block3/unit_19/bottleneck_v2/preact/moving_mean\n",
            "INFO:tensorflow:Initialize variable module/resnet_v2_152/block3/unit_19/bottleneck_v2/preact/moving_variance:0 from checkpoint /tmp/tfhub_modules/8d0633058d241900a3e5895be9e610592a5e1fac/variables/variables with resnet_v2_152/block3/unit_19/bottleneck_v2/preact/moving_variance\n",
            "INFO:tensorflow:Initialize variable module/resnet_v2_152/block3/unit_2/bottleneck_v2/conv1/BatchNorm/beta:0 from checkpoint /tmp/tfhub_modules/8d0633058d241900a3e5895be9e610592a5e1fac/variables/variables with resnet_v2_152/block3/unit_2/bottleneck_v2/conv1/BatchNorm/beta\n",
            "INFO:tensorflow:Initialize variable module/resnet_v2_152/block3/unit_2/bottleneck_v2/conv1/BatchNorm/gamma:0 from checkpoint /tmp/tfhub_modules/8d0633058d241900a3e5895be9e610592a5e1fac/variables/variables with resnet_v2_152/block3/unit_2/bottleneck_v2/conv1/BatchNorm/gamma\n",
            "INFO:tensorflow:Initialize variable module/resnet_v2_152/block3/unit_2/bottleneck_v2/conv1/BatchNorm/moving_mean:0 from checkpoint /tmp/tfhub_modules/8d0633058d241900a3e5895be9e610592a5e1fac/variables/variables with resnet_v2_152/block3/unit_2/bottleneck_v2/conv1/BatchNorm/moving_mean\n",
            "INFO:tensorflow:Initialize variable module/resnet_v2_152/block3/unit_2/bottleneck_v2/conv1/BatchNorm/moving_variance:0 from checkpoint /tmp/tfhub_modules/8d0633058d241900a3e5895be9e610592a5e1fac/variables/variables with resnet_v2_152/block3/unit_2/bottleneck_v2/conv1/BatchNorm/moving_variance\n",
            "INFO:tensorflow:Initialize variable module/resnet_v2_152/block3/unit_2/bottleneck_v2/conv1/weights:0 from checkpoint /tmp/tfhub_modules/8d0633058d241900a3e5895be9e610592a5e1fac/variables/variables with resnet_v2_152/block3/unit_2/bottleneck_v2/conv1/weights\n"
          ],
          "name": "stdout"
        },
        {
          "output_type": "stream",
          "text": [
            "INFO:tensorflow:Initialize variable module/resnet_v2_152/block3/unit_2/bottleneck_v2/conv2/BatchNorm/beta:0 from checkpoint /tmp/tfhub_modules/8d0633058d241900a3e5895be9e610592a5e1fac/variables/variables with resnet_v2_152/block3/unit_2/bottleneck_v2/conv2/BatchNorm/beta\n",
            "INFO:tensorflow:Initialize variable module/resnet_v2_152/block3/unit_2/bottleneck_v2/conv2/BatchNorm/gamma:0 from checkpoint /tmp/tfhub_modules/8d0633058d241900a3e5895be9e610592a5e1fac/variables/variables with resnet_v2_152/block3/unit_2/bottleneck_v2/conv2/BatchNorm/gamma\n",
            "INFO:tensorflow:Initialize variable module/resnet_v2_152/block3/unit_2/bottleneck_v2/conv2/BatchNorm/moving_mean:0 from checkpoint /tmp/tfhub_modules/8d0633058d241900a3e5895be9e610592a5e1fac/variables/variables with resnet_v2_152/block3/unit_2/bottleneck_v2/conv2/BatchNorm/moving_mean\n",
            "INFO:tensorflow:Initialize variable module/resnet_v2_152/block3/unit_2/bottleneck_v2/conv2/BatchNorm/moving_variance:0 from checkpoint /tmp/tfhub_modules/8d0633058d241900a3e5895be9e610592a5e1fac/variables/variables with resnet_v2_152/block3/unit_2/bottleneck_v2/conv2/BatchNorm/moving_variance\n",
            "INFO:tensorflow:Initialize variable module/resnet_v2_152/block3/unit_2/bottleneck_v2/conv2/weights:0 from checkpoint /tmp/tfhub_modules/8d0633058d241900a3e5895be9e610592a5e1fac/variables/variables with resnet_v2_152/block3/unit_2/bottleneck_v2/conv2/weights\n",
            "INFO:tensorflow:Initialize variable module/resnet_v2_152/block3/unit_2/bottleneck_v2/conv3/biases:0 from checkpoint /tmp/tfhub_modules/8d0633058d241900a3e5895be9e610592a5e1fac/variables/variables with resnet_v2_152/block3/unit_2/bottleneck_v2/conv3/biases\n",
            "INFO:tensorflow:Initialize variable module/resnet_v2_152/block3/unit_2/bottleneck_v2/conv3/weights:0 from checkpoint /tmp/tfhub_modules/8d0633058d241900a3e5895be9e610592a5e1fac/variables/variables with resnet_v2_152/block3/unit_2/bottleneck_v2/conv3/weights\n",
            "INFO:tensorflow:Initialize variable module/resnet_v2_152/block3/unit_2/bottleneck_v2/preact/beta:0 from checkpoint /tmp/tfhub_modules/8d0633058d241900a3e5895be9e610592a5e1fac/variables/variables with resnet_v2_152/block3/unit_2/bottleneck_v2/preact/beta\n",
            "INFO:tensorflow:Initialize variable module/resnet_v2_152/block3/unit_2/bottleneck_v2/preact/gamma:0 from checkpoint /tmp/tfhub_modules/8d0633058d241900a3e5895be9e610592a5e1fac/variables/variables with resnet_v2_152/block3/unit_2/bottleneck_v2/preact/gamma\n",
            "INFO:tensorflow:Initialize variable module/resnet_v2_152/block3/unit_2/bottleneck_v2/preact/moving_mean:0 from checkpoint /tmp/tfhub_modules/8d0633058d241900a3e5895be9e610592a5e1fac/variables/variables with resnet_v2_152/block3/unit_2/bottleneck_v2/preact/moving_mean\n",
            "INFO:tensorflow:Initialize variable module/resnet_v2_152/block3/unit_2/bottleneck_v2/preact/moving_variance:0 from checkpoint /tmp/tfhub_modules/8d0633058d241900a3e5895be9e610592a5e1fac/variables/variables with resnet_v2_152/block3/unit_2/bottleneck_v2/preact/moving_variance\n",
            "INFO:tensorflow:Initialize variable module/resnet_v2_152/block3/unit_20/bottleneck_v2/conv1/BatchNorm/beta:0 from checkpoint /tmp/tfhub_modules/8d0633058d241900a3e5895be9e610592a5e1fac/variables/variables with resnet_v2_152/block3/unit_20/bottleneck_v2/conv1/BatchNorm/beta\n",
            "INFO:tensorflow:Initialize variable module/resnet_v2_152/block3/unit_20/bottleneck_v2/conv1/BatchNorm/gamma:0 from checkpoint /tmp/tfhub_modules/8d0633058d241900a3e5895be9e610592a5e1fac/variables/variables with resnet_v2_152/block3/unit_20/bottleneck_v2/conv1/BatchNorm/gamma\n",
            "INFO:tensorflow:Initialize variable module/resnet_v2_152/block3/unit_20/bottleneck_v2/conv1/BatchNorm/moving_mean:0 from checkpoint /tmp/tfhub_modules/8d0633058d241900a3e5895be9e610592a5e1fac/variables/variables with resnet_v2_152/block3/unit_20/bottleneck_v2/conv1/BatchNorm/moving_mean\n",
            "INFO:tensorflow:Initialize variable module/resnet_v2_152/block3/unit_20/bottleneck_v2/conv1/BatchNorm/moving_variance:0 from checkpoint /tmp/tfhub_modules/8d0633058d241900a3e5895be9e610592a5e1fac/variables/variables with resnet_v2_152/block3/unit_20/bottleneck_v2/conv1/BatchNorm/moving_variance\n",
            "INFO:tensorflow:Initialize variable module/resnet_v2_152/block3/unit_20/bottleneck_v2/conv1/weights:0 from checkpoint /tmp/tfhub_modules/8d0633058d241900a3e5895be9e610592a5e1fac/variables/variables with resnet_v2_152/block3/unit_20/bottleneck_v2/conv1/weights\n",
            "INFO:tensorflow:Initialize variable module/resnet_v2_152/block3/unit_20/bottleneck_v2/conv2/BatchNorm/beta:0 from checkpoint /tmp/tfhub_modules/8d0633058d241900a3e5895be9e610592a5e1fac/variables/variables with resnet_v2_152/block3/unit_20/bottleneck_v2/conv2/BatchNorm/beta\n",
            "INFO:tensorflow:Initialize variable module/resnet_v2_152/block3/unit_20/bottleneck_v2/conv2/BatchNorm/gamma:0 from checkpoint /tmp/tfhub_modules/8d0633058d241900a3e5895be9e610592a5e1fac/variables/variables with resnet_v2_152/block3/unit_20/bottleneck_v2/conv2/BatchNorm/gamma\n",
            "INFO:tensorflow:Initialize variable module/resnet_v2_152/block3/unit_20/bottleneck_v2/conv2/BatchNorm/moving_mean:0 from checkpoint /tmp/tfhub_modules/8d0633058d241900a3e5895be9e610592a5e1fac/variables/variables with resnet_v2_152/block3/unit_20/bottleneck_v2/conv2/BatchNorm/moving_mean\n",
            "INFO:tensorflow:Initialize variable module/resnet_v2_152/block3/unit_20/bottleneck_v2/conv2/BatchNorm/moving_variance:0 from checkpoint /tmp/tfhub_modules/8d0633058d241900a3e5895be9e610592a5e1fac/variables/variables with resnet_v2_152/block3/unit_20/bottleneck_v2/conv2/BatchNorm/moving_variance\n",
            "INFO:tensorflow:Initialize variable module/resnet_v2_152/block3/unit_20/bottleneck_v2/conv2/weights:0 from checkpoint /tmp/tfhub_modules/8d0633058d241900a3e5895be9e610592a5e1fac/variables/variables with resnet_v2_152/block3/unit_20/bottleneck_v2/conv2/weights\n",
            "INFO:tensorflow:Initialize variable module/resnet_v2_152/block3/unit_20/bottleneck_v2/conv3/biases:0 from checkpoint /tmp/tfhub_modules/8d0633058d241900a3e5895be9e610592a5e1fac/variables/variables with resnet_v2_152/block3/unit_20/bottleneck_v2/conv3/biases\n",
            "INFO:tensorflow:Initialize variable module/resnet_v2_152/block3/unit_20/bottleneck_v2/conv3/weights:0 from checkpoint /tmp/tfhub_modules/8d0633058d241900a3e5895be9e610592a5e1fac/variables/variables with resnet_v2_152/block3/unit_20/bottleneck_v2/conv3/weights\n",
            "INFO:tensorflow:Initialize variable module/resnet_v2_152/block3/unit_20/bottleneck_v2/preact/beta:0 from checkpoint /tmp/tfhub_modules/8d0633058d241900a3e5895be9e610592a5e1fac/variables/variables with resnet_v2_152/block3/unit_20/bottleneck_v2/preact/beta\n",
            "INFO:tensorflow:Initialize variable module/resnet_v2_152/block3/unit_20/bottleneck_v2/preact/gamma:0 from checkpoint /tmp/tfhub_modules/8d0633058d241900a3e5895be9e610592a5e1fac/variables/variables with resnet_v2_152/block3/unit_20/bottleneck_v2/preact/gamma\n",
            "INFO:tensorflow:Initialize variable module/resnet_v2_152/block3/unit_20/bottleneck_v2/preact/moving_mean:0 from checkpoint /tmp/tfhub_modules/8d0633058d241900a3e5895be9e610592a5e1fac/variables/variables with resnet_v2_152/block3/unit_20/bottleneck_v2/preact/moving_mean\n"
          ],
          "name": "stdout"
        },
        {
          "output_type": "stream",
          "text": [
            "INFO:tensorflow:Initialize variable module/resnet_v2_152/block3/unit_20/bottleneck_v2/preact/moving_variance:0 from checkpoint /tmp/tfhub_modules/8d0633058d241900a3e5895be9e610592a5e1fac/variables/variables with resnet_v2_152/block3/unit_20/bottleneck_v2/preact/moving_variance\n",
            "INFO:tensorflow:Initialize variable module/resnet_v2_152/block3/unit_21/bottleneck_v2/conv1/BatchNorm/beta:0 from checkpoint /tmp/tfhub_modules/8d0633058d241900a3e5895be9e610592a5e1fac/variables/variables with resnet_v2_152/block3/unit_21/bottleneck_v2/conv1/BatchNorm/beta\n",
            "INFO:tensorflow:Initialize variable module/resnet_v2_152/block3/unit_21/bottleneck_v2/conv1/BatchNorm/gamma:0 from checkpoint /tmp/tfhub_modules/8d0633058d241900a3e5895be9e610592a5e1fac/variables/variables with resnet_v2_152/block3/unit_21/bottleneck_v2/conv1/BatchNorm/gamma\n",
            "INFO:tensorflow:Initialize variable module/resnet_v2_152/block3/unit_21/bottleneck_v2/conv1/BatchNorm/moving_mean:0 from checkpoint /tmp/tfhub_modules/8d0633058d241900a3e5895be9e610592a5e1fac/variables/variables with resnet_v2_152/block3/unit_21/bottleneck_v2/conv1/BatchNorm/moving_mean\n",
            "INFO:tensorflow:Initialize variable module/resnet_v2_152/block3/unit_21/bottleneck_v2/conv1/BatchNorm/moving_variance:0 from checkpoint /tmp/tfhub_modules/8d0633058d241900a3e5895be9e610592a5e1fac/variables/variables with resnet_v2_152/block3/unit_21/bottleneck_v2/conv1/BatchNorm/moving_variance\n",
            "INFO:tensorflow:Initialize variable module/resnet_v2_152/block3/unit_21/bottleneck_v2/conv1/weights:0 from checkpoint /tmp/tfhub_modules/8d0633058d241900a3e5895be9e610592a5e1fac/variables/variables with resnet_v2_152/block3/unit_21/bottleneck_v2/conv1/weights\n",
            "INFO:tensorflow:Initialize variable module/resnet_v2_152/block3/unit_21/bottleneck_v2/conv2/BatchNorm/beta:0 from checkpoint /tmp/tfhub_modules/8d0633058d241900a3e5895be9e610592a5e1fac/variables/variables with resnet_v2_152/block3/unit_21/bottleneck_v2/conv2/BatchNorm/beta\n",
            "INFO:tensorflow:Initialize variable module/resnet_v2_152/block3/unit_21/bottleneck_v2/conv2/BatchNorm/gamma:0 from checkpoint /tmp/tfhub_modules/8d0633058d241900a3e5895be9e610592a5e1fac/variables/variables with resnet_v2_152/block3/unit_21/bottleneck_v2/conv2/BatchNorm/gamma\n",
            "INFO:tensorflow:Initialize variable module/resnet_v2_152/block3/unit_21/bottleneck_v2/conv2/BatchNorm/moving_mean:0 from checkpoint /tmp/tfhub_modules/8d0633058d241900a3e5895be9e610592a5e1fac/variables/variables with resnet_v2_152/block3/unit_21/bottleneck_v2/conv2/BatchNorm/moving_mean\n",
            "INFO:tensorflow:Initialize variable module/resnet_v2_152/block3/unit_21/bottleneck_v2/conv2/BatchNorm/moving_variance:0 from checkpoint /tmp/tfhub_modules/8d0633058d241900a3e5895be9e610592a5e1fac/variables/variables with resnet_v2_152/block3/unit_21/bottleneck_v2/conv2/BatchNorm/moving_variance\n",
            "INFO:tensorflow:Initialize variable module/resnet_v2_152/block3/unit_21/bottleneck_v2/conv2/weights:0 from checkpoint /tmp/tfhub_modules/8d0633058d241900a3e5895be9e610592a5e1fac/variables/variables with resnet_v2_152/block3/unit_21/bottleneck_v2/conv2/weights\n",
            "INFO:tensorflow:Initialize variable module/resnet_v2_152/block3/unit_21/bottleneck_v2/conv3/biases:0 from checkpoint /tmp/tfhub_modules/8d0633058d241900a3e5895be9e610592a5e1fac/variables/variables with resnet_v2_152/block3/unit_21/bottleneck_v2/conv3/biases\n",
            "INFO:tensorflow:Initialize variable module/resnet_v2_152/block3/unit_21/bottleneck_v2/conv3/weights:0 from checkpoint /tmp/tfhub_modules/8d0633058d241900a3e5895be9e610592a5e1fac/variables/variables with resnet_v2_152/block3/unit_21/bottleneck_v2/conv3/weights\n",
            "INFO:tensorflow:Initialize variable module/resnet_v2_152/block3/unit_21/bottleneck_v2/preact/beta:0 from checkpoint /tmp/tfhub_modules/8d0633058d241900a3e5895be9e610592a5e1fac/variables/variables with resnet_v2_152/block3/unit_21/bottleneck_v2/preact/beta\n",
            "INFO:tensorflow:Initialize variable module/resnet_v2_152/block3/unit_21/bottleneck_v2/preact/gamma:0 from checkpoint /tmp/tfhub_modules/8d0633058d241900a3e5895be9e610592a5e1fac/variables/variables with resnet_v2_152/block3/unit_21/bottleneck_v2/preact/gamma\n",
            "INFO:tensorflow:Initialize variable module/resnet_v2_152/block3/unit_21/bottleneck_v2/preact/moving_mean:0 from checkpoint /tmp/tfhub_modules/8d0633058d241900a3e5895be9e610592a5e1fac/variables/variables with resnet_v2_152/block3/unit_21/bottleneck_v2/preact/moving_mean\n",
            "INFO:tensorflow:Initialize variable module/resnet_v2_152/block3/unit_21/bottleneck_v2/preact/moving_variance:0 from checkpoint /tmp/tfhub_modules/8d0633058d241900a3e5895be9e610592a5e1fac/variables/variables with resnet_v2_152/block3/unit_21/bottleneck_v2/preact/moving_variance\n",
            "INFO:tensorflow:Initialize variable module/resnet_v2_152/block3/unit_22/bottleneck_v2/conv1/BatchNorm/beta:0 from checkpoint /tmp/tfhub_modules/8d0633058d241900a3e5895be9e610592a5e1fac/variables/variables with resnet_v2_152/block3/unit_22/bottleneck_v2/conv1/BatchNorm/beta\n",
            "INFO:tensorflow:Initialize variable module/resnet_v2_152/block3/unit_22/bottleneck_v2/conv1/BatchNorm/gamma:0 from checkpoint /tmp/tfhub_modules/8d0633058d241900a3e5895be9e610592a5e1fac/variables/variables with resnet_v2_152/block3/unit_22/bottleneck_v2/conv1/BatchNorm/gamma\n",
            "INFO:tensorflow:Initialize variable module/resnet_v2_152/block3/unit_22/bottleneck_v2/conv1/BatchNorm/moving_mean:0 from checkpoint /tmp/tfhub_modules/8d0633058d241900a3e5895be9e610592a5e1fac/variables/variables with resnet_v2_152/block3/unit_22/bottleneck_v2/conv1/BatchNorm/moving_mean\n",
            "INFO:tensorflow:Initialize variable module/resnet_v2_152/block3/unit_22/bottleneck_v2/conv1/BatchNorm/moving_variance:0 from checkpoint /tmp/tfhub_modules/8d0633058d241900a3e5895be9e610592a5e1fac/variables/variables with resnet_v2_152/block3/unit_22/bottleneck_v2/conv1/BatchNorm/moving_variance\n",
            "INFO:tensorflow:Initialize variable module/resnet_v2_152/block3/unit_22/bottleneck_v2/conv1/weights:0 from checkpoint /tmp/tfhub_modules/8d0633058d241900a3e5895be9e610592a5e1fac/variables/variables with resnet_v2_152/block3/unit_22/bottleneck_v2/conv1/weights\n",
            "INFO:tensorflow:Initialize variable module/resnet_v2_152/block3/unit_22/bottleneck_v2/conv2/BatchNorm/beta:0 from checkpoint /tmp/tfhub_modules/8d0633058d241900a3e5895be9e610592a5e1fac/variables/variables with resnet_v2_152/block3/unit_22/bottleneck_v2/conv2/BatchNorm/beta\n",
            "INFO:tensorflow:Initialize variable module/resnet_v2_152/block3/unit_22/bottleneck_v2/conv2/BatchNorm/gamma:0 from checkpoint /tmp/tfhub_modules/8d0633058d241900a3e5895be9e610592a5e1fac/variables/variables with resnet_v2_152/block3/unit_22/bottleneck_v2/conv2/BatchNorm/gamma\n",
            "INFO:tensorflow:Initialize variable module/resnet_v2_152/block3/unit_22/bottleneck_v2/conv2/BatchNorm/moving_mean:0 from checkpoint /tmp/tfhub_modules/8d0633058d241900a3e5895be9e610592a5e1fac/variables/variables with resnet_v2_152/block3/unit_22/bottleneck_v2/conv2/BatchNorm/moving_mean\n",
            "INFO:tensorflow:Initialize variable module/resnet_v2_152/block3/unit_22/bottleneck_v2/conv2/BatchNorm/moving_variance:0 from checkpoint /tmp/tfhub_modules/8d0633058d241900a3e5895be9e610592a5e1fac/variables/variables with resnet_v2_152/block3/unit_22/bottleneck_v2/conv2/BatchNorm/moving_variance\n"
          ],
          "name": "stdout"
        },
        {
          "output_type": "stream",
          "text": [
            "INFO:tensorflow:Initialize variable module/resnet_v2_152/block3/unit_22/bottleneck_v2/conv2/weights:0 from checkpoint /tmp/tfhub_modules/8d0633058d241900a3e5895be9e610592a5e1fac/variables/variables with resnet_v2_152/block3/unit_22/bottleneck_v2/conv2/weights\n",
            "INFO:tensorflow:Initialize variable module/resnet_v2_152/block3/unit_22/bottleneck_v2/conv3/biases:0 from checkpoint /tmp/tfhub_modules/8d0633058d241900a3e5895be9e610592a5e1fac/variables/variables with resnet_v2_152/block3/unit_22/bottleneck_v2/conv3/biases\n",
            "INFO:tensorflow:Initialize variable module/resnet_v2_152/block3/unit_22/bottleneck_v2/conv3/weights:0 from checkpoint /tmp/tfhub_modules/8d0633058d241900a3e5895be9e610592a5e1fac/variables/variables with resnet_v2_152/block3/unit_22/bottleneck_v2/conv3/weights\n",
            "INFO:tensorflow:Initialize variable module/resnet_v2_152/block3/unit_22/bottleneck_v2/preact/beta:0 from checkpoint /tmp/tfhub_modules/8d0633058d241900a3e5895be9e610592a5e1fac/variables/variables with resnet_v2_152/block3/unit_22/bottleneck_v2/preact/beta\n",
            "INFO:tensorflow:Initialize variable module/resnet_v2_152/block3/unit_22/bottleneck_v2/preact/gamma:0 from checkpoint /tmp/tfhub_modules/8d0633058d241900a3e5895be9e610592a5e1fac/variables/variables with resnet_v2_152/block3/unit_22/bottleneck_v2/preact/gamma\n",
            "INFO:tensorflow:Initialize variable module/resnet_v2_152/block3/unit_22/bottleneck_v2/preact/moving_mean:0 from checkpoint /tmp/tfhub_modules/8d0633058d241900a3e5895be9e610592a5e1fac/variables/variables with resnet_v2_152/block3/unit_22/bottleneck_v2/preact/moving_mean\n",
            "INFO:tensorflow:Initialize variable module/resnet_v2_152/block3/unit_22/bottleneck_v2/preact/moving_variance:0 from checkpoint /tmp/tfhub_modules/8d0633058d241900a3e5895be9e610592a5e1fac/variables/variables with resnet_v2_152/block3/unit_22/bottleneck_v2/preact/moving_variance\n",
            "INFO:tensorflow:Initialize variable module/resnet_v2_152/block3/unit_23/bottleneck_v2/conv1/BatchNorm/beta:0 from checkpoint /tmp/tfhub_modules/8d0633058d241900a3e5895be9e610592a5e1fac/variables/variables with resnet_v2_152/block3/unit_23/bottleneck_v2/conv1/BatchNorm/beta\n",
            "INFO:tensorflow:Initialize variable module/resnet_v2_152/block3/unit_23/bottleneck_v2/conv1/BatchNorm/gamma:0 from checkpoint /tmp/tfhub_modules/8d0633058d241900a3e5895be9e610592a5e1fac/variables/variables with resnet_v2_152/block3/unit_23/bottleneck_v2/conv1/BatchNorm/gamma\n",
            "INFO:tensorflow:Initialize variable module/resnet_v2_152/block3/unit_23/bottleneck_v2/conv1/BatchNorm/moving_mean:0 from checkpoint /tmp/tfhub_modules/8d0633058d241900a3e5895be9e610592a5e1fac/variables/variables with resnet_v2_152/block3/unit_23/bottleneck_v2/conv1/BatchNorm/moving_mean\n",
            "INFO:tensorflow:Initialize variable module/resnet_v2_152/block3/unit_23/bottleneck_v2/conv1/BatchNorm/moving_variance:0 from checkpoint /tmp/tfhub_modules/8d0633058d241900a3e5895be9e610592a5e1fac/variables/variables with resnet_v2_152/block3/unit_23/bottleneck_v2/conv1/BatchNorm/moving_variance\n",
            "INFO:tensorflow:Initialize variable module/resnet_v2_152/block3/unit_23/bottleneck_v2/conv1/weights:0 from checkpoint /tmp/tfhub_modules/8d0633058d241900a3e5895be9e610592a5e1fac/variables/variables with resnet_v2_152/block3/unit_23/bottleneck_v2/conv1/weights\n",
            "INFO:tensorflow:Initialize variable module/resnet_v2_152/block3/unit_23/bottleneck_v2/conv2/BatchNorm/beta:0 from checkpoint /tmp/tfhub_modules/8d0633058d241900a3e5895be9e610592a5e1fac/variables/variables with resnet_v2_152/block3/unit_23/bottleneck_v2/conv2/BatchNorm/beta\n",
            "INFO:tensorflow:Initialize variable module/resnet_v2_152/block3/unit_23/bottleneck_v2/conv2/BatchNorm/gamma:0 from checkpoint /tmp/tfhub_modules/8d0633058d241900a3e5895be9e610592a5e1fac/variables/variables with resnet_v2_152/block3/unit_23/bottleneck_v2/conv2/BatchNorm/gamma\n",
            "INFO:tensorflow:Initialize variable module/resnet_v2_152/block3/unit_23/bottleneck_v2/conv2/BatchNorm/moving_mean:0 from checkpoint /tmp/tfhub_modules/8d0633058d241900a3e5895be9e610592a5e1fac/variables/variables with resnet_v2_152/block3/unit_23/bottleneck_v2/conv2/BatchNorm/moving_mean\n",
            "INFO:tensorflow:Initialize variable module/resnet_v2_152/block3/unit_23/bottleneck_v2/conv2/BatchNorm/moving_variance:0 from checkpoint /tmp/tfhub_modules/8d0633058d241900a3e5895be9e610592a5e1fac/variables/variables with resnet_v2_152/block3/unit_23/bottleneck_v2/conv2/BatchNorm/moving_variance\n",
            "INFO:tensorflow:Initialize variable module/resnet_v2_152/block3/unit_23/bottleneck_v2/conv2/weights:0 from checkpoint /tmp/tfhub_modules/8d0633058d241900a3e5895be9e610592a5e1fac/variables/variables with resnet_v2_152/block3/unit_23/bottleneck_v2/conv2/weights\n",
            "INFO:tensorflow:Initialize variable module/resnet_v2_152/block3/unit_23/bottleneck_v2/conv3/biases:0 from checkpoint /tmp/tfhub_modules/8d0633058d241900a3e5895be9e610592a5e1fac/variables/variables with resnet_v2_152/block3/unit_23/bottleneck_v2/conv3/biases\n",
            "INFO:tensorflow:Initialize variable module/resnet_v2_152/block3/unit_23/bottleneck_v2/conv3/weights:0 from checkpoint /tmp/tfhub_modules/8d0633058d241900a3e5895be9e610592a5e1fac/variables/variables with resnet_v2_152/block3/unit_23/bottleneck_v2/conv3/weights\n",
            "INFO:tensorflow:Initialize variable module/resnet_v2_152/block3/unit_23/bottleneck_v2/preact/beta:0 from checkpoint /tmp/tfhub_modules/8d0633058d241900a3e5895be9e610592a5e1fac/variables/variables with resnet_v2_152/block3/unit_23/bottleneck_v2/preact/beta\n",
            "INFO:tensorflow:Initialize variable module/resnet_v2_152/block3/unit_23/bottleneck_v2/preact/gamma:0 from checkpoint /tmp/tfhub_modules/8d0633058d241900a3e5895be9e610592a5e1fac/variables/variables with resnet_v2_152/block3/unit_23/bottleneck_v2/preact/gamma\n",
            "INFO:tensorflow:Initialize variable module/resnet_v2_152/block3/unit_23/bottleneck_v2/preact/moving_mean:0 from checkpoint /tmp/tfhub_modules/8d0633058d241900a3e5895be9e610592a5e1fac/variables/variables with resnet_v2_152/block3/unit_23/bottleneck_v2/preact/moving_mean\n",
            "INFO:tensorflow:Initialize variable module/resnet_v2_152/block3/unit_23/bottleneck_v2/preact/moving_variance:0 from checkpoint /tmp/tfhub_modules/8d0633058d241900a3e5895be9e610592a5e1fac/variables/variables with resnet_v2_152/block3/unit_23/bottleneck_v2/preact/moving_variance\n",
            "INFO:tensorflow:Initialize variable module/resnet_v2_152/block3/unit_24/bottleneck_v2/conv1/BatchNorm/beta:0 from checkpoint /tmp/tfhub_modules/8d0633058d241900a3e5895be9e610592a5e1fac/variables/variables with resnet_v2_152/block3/unit_24/bottleneck_v2/conv1/BatchNorm/beta\n",
            "INFO:tensorflow:Initialize variable module/resnet_v2_152/block3/unit_24/bottleneck_v2/conv1/BatchNorm/gamma:0 from checkpoint /tmp/tfhub_modules/8d0633058d241900a3e5895be9e610592a5e1fac/variables/variables with resnet_v2_152/block3/unit_24/bottleneck_v2/conv1/BatchNorm/gamma\n",
            "INFO:tensorflow:Initialize variable module/resnet_v2_152/block3/unit_24/bottleneck_v2/conv1/BatchNorm/moving_mean:0 from checkpoint /tmp/tfhub_modules/8d0633058d241900a3e5895be9e610592a5e1fac/variables/variables with resnet_v2_152/block3/unit_24/bottleneck_v2/conv1/BatchNorm/moving_mean\n"
          ],
          "name": "stdout"
        },
        {
          "output_type": "stream",
          "text": [
            "INFO:tensorflow:Initialize variable module/resnet_v2_152/block3/unit_24/bottleneck_v2/conv1/BatchNorm/moving_variance:0 from checkpoint /tmp/tfhub_modules/8d0633058d241900a3e5895be9e610592a5e1fac/variables/variables with resnet_v2_152/block3/unit_24/bottleneck_v2/conv1/BatchNorm/moving_variance\n",
            "INFO:tensorflow:Initialize variable module/resnet_v2_152/block3/unit_24/bottleneck_v2/conv1/weights:0 from checkpoint /tmp/tfhub_modules/8d0633058d241900a3e5895be9e610592a5e1fac/variables/variables with resnet_v2_152/block3/unit_24/bottleneck_v2/conv1/weights\n",
            "INFO:tensorflow:Initialize variable module/resnet_v2_152/block3/unit_24/bottleneck_v2/conv2/BatchNorm/beta:0 from checkpoint /tmp/tfhub_modules/8d0633058d241900a3e5895be9e610592a5e1fac/variables/variables with resnet_v2_152/block3/unit_24/bottleneck_v2/conv2/BatchNorm/beta\n",
            "INFO:tensorflow:Initialize variable module/resnet_v2_152/block3/unit_24/bottleneck_v2/conv2/BatchNorm/gamma:0 from checkpoint /tmp/tfhub_modules/8d0633058d241900a3e5895be9e610592a5e1fac/variables/variables with resnet_v2_152/block3/unit_24/bottleneck_v2/conv2/BatchNorm/gamma\n",
            "INFO:tensorflow:Initialize variable module/resnet_v2_152/block3/unit_24/bottleneck_v2/conv2/BatchNorm/moving_mean:0 from checkpoint /tmp/tfhub_modules/8d0633058d241900a3e5895be9e610592a5e1fac/variables/variables with resnet_v2_152/block3/unit_24/bottleneck_v2/conv2/BatchNorm/moving_mean\n",
            "INFO:tensorflow:Initialize variable module/resnet_v2_152/block3/unit_24/bottleneck_v2/conv2/BatchNorm/moving_variance:0 from checkpoint /tmp/tfhub_modules/8d0633058d241900a3e5895be9e610592a5e1fac/variables/variables with resnet_v2_152/block3/unit_24/bottleneck_v2/conv2/BatchNorm/moving_variance\n",
            "INFO:tensorflow:Initialize variable module/resnet_v2_152/block3/unit_24/bottleneck_v2/conv2/weights:0 from checkpoint /tmp/tfhub_modules/8d0633058d241900a3e5895be9e610592a5e1fac/variables/variables with resnet_v2_152/block3/unit_24/bottleneck_v2/conv2/weights\n",
            "INFO:tensorflow:Initialize variable module/resnet_v2_152/block3/unit_24/bottleneck_v2/conv3/biases:0 from checkpoint /tmp/tfhub_modules/8d0633058d241900a3e5895be9e610592a5e1fac/variables/variables with resnet_v2_152/block3/unit_24/bottleneck_v2/conv3/biases\n",
            "INFO:tensorflow:Initialize variable module/resnet_v2_152/block3/unit_24/bottleneck_v2/conv3/weights:0 from checkpoint /tmp/tfhub_modules/8d0633058d241900a3e5895be9e610592a5e1fac/variables/variables with resnet_v2_152/block3/unit_24/bottleneck_v2/conv3/weights\n",
            "INFO:tensorflow:Initialize variable module/resnet_v2_152/block3/unit_24/bottleneck_v2/preact/beta:0 from checkpoint /tmp/tfhub_modules/8d0633058d241900a3e5895be9e610592a5e1fac/variables/variables with resnet_v2_152/block3/unit_24/bottleneck_v2/preact/beta\n",
            "INFO:tensorflow:Initialize variable module/resnet_v2_152/block3/unit_24/bottleneck_v2/preact/gamma:0 from checkpoint /tmp/tfhub_modules/8d0633058d241900a3e5895be9e610592a5e1fac/variables/variables with resnet_v2_152/block3/unit_24/bottleneck_v2/preact/gamma\n",
            "INFO:tensorflow:Initialize variable module/resnet_v2_152/block3/unit_24/bottleneck_v2/preact/moving_mean:0 from checkpoint /tmp/tfhub_modules/8d0633058d241900a3e5895be9e610592a5e1fac/variables/variables with resnet_v2_152/block3/unit_24/bottleneck_v2/preact/moving_mean\n",
            "INFO:tensorflow:Initialize variable module/resnet_v2_152/block3/unit_24/bottleneck_v2/preact/moving_variance:0 from checkpoint /tmp/tfhub_modules/8d0633058d241900a3e5895be9e610592a5e1fac/variables/variables with resnet_v2_152/block3/unit_24/bottleneck_v2/preact/moving_variance\n",
            "INFO:tensorflow:Initialize variable module/resnet_v2_152/block3/unit_25/bottleneck_v2/conv1/BatchNorm/beta:0 from checkpoint /tmp/tfhub_modules/8d0633058d241900a3e5895be9e610592a5e1fac/variables/variables with resnet_v2_152/block3/unit_25/bottleneck_v2/conv1/BatchNorm/beta\n",
            "INFO:tensorflow:Initialize variable module/resnet_v2_152/block3/unit_25/bottleneck_v2/conv1/BatchNorm/gamma:0 from checkpoint /tmp/tfhub_modules/8d0633058d241900a3e5895be9e610592a5e1fac/variables/variables with resnet_v2_152/block3/unit_25/bottleneck_v2/conv1/BatchNorm/gamma\n",
            "INFO:tensorflow:Initialize variable module/resnet_v2_152/block3/unit_25/bottleneck_v2/conv1/BatchNorm/moving_mean:0 from checkpoint /tmp/tfhub_modules/8d0633058d241900a3e5895be9e610592a5e1fac/variables/variables with resnet_v2_152/block3/unit_25/bottleneck_v2/conv1/BatchNorm/moving_mean\n",
            "INFO:tensorflow:Initialize variable module/resnet_v2_152/block3/unit_25/bottleneck_v2/conv1/BatchNorm/moving_variance:0 from checkpoint /tmp/tfhub_modules/8d0633058d241900a3e5895be9e610592a5e1fac/variables/variables with resnet_v2_152/block3/unit_25/bottleneck_v2/conv1/BatchNorm/moving_variance\n",
            "INFO:tensorflow:Initialize variable module/resnet_v2_152/block3/unit_25/bottleneck_v2/conv1/weights:0 from checkpoint /tmp/tfhub_modules/8d0633058d241900a3e5895be9e610592a5e1fac/variables/variables with resnet_v2_152/block3/unit_25/bottleneck_v2/conv1/weights\n",
            "INFO:tensorflow:Initialize variable module/resnet_v2_152/block3/unit_25/bottleneck_v2/conv2/BatchNorm/beta:0 from checkpoint /tmp/tfhub_modules/8d0633058d241900a3e5895be9e610592a5e1fac/variables/variables with resnet_v2_152/block3/unit_25/bottleneck_v2/conv2/BatchNorm/beta\n",
            "INFO:tensorflow:Initialize variable module/resnet_v2_152/block3/unit_25/bottleneck_v2/conv2/BatchNorm/gamma:0 from checkpoint /tmp/tfhub_modules/8d0633058d241900a3e5895be9e610592a5e1fac/variables/variables with resnet_v2_152/block3/unit_25/bottleneck_v2/conv2/BatchNorm/gamma\n",
            "INFO:tensorflow:Initialize variable module/resnet_v2_152/block3/unit_25/bottleneck_v2/conv2/BatchNorm/moving_mean:0 from checkpoint /tmp/tfhub_modules/8d0633058d241900a3e5895be9e610592a5e1fac/variables/variables with resnet_v2_152/block3/unit_25/bottleneck_v2/conv2/BatchNorm/moving_mean\n",
            "INFO:tensorflow:Initialize variable module/resnet_v2_152/block3/unit_25/bottleneck_v2/conv2/BatchNorm/moving_variance:0 from checkpoint /tmp/tfhub_modules/8d0633058d241900a3e5895be9e610592a5e1fac/variables/variables with resnet_v2_152/block3/unit_25/bottleneck_v2/conv2/BatchNorm/moving_variance\n",
            "INFO:tensorflow:Initialize variable module/resnet_v2_152/block3/unit_25/bottleneck_v2/conv2/weights:0 from checkpoint /tmp/tfhub_modules/8d0633058d241900a3e5895be9e610592a5e1fac/variables/variables with resnet_v2_152/block3/unit_25/bottleneck_v2/conv2/weights\n",
            "INFO:tensorflow:Initialize variable module/resnet_v2_152/block3/unit_25/bottleneck_v2/conv3/biases:0 from checkpoint /tmp/tfhub_modules/8d0633058d241900a3e5895be9e610592a5e1fac/variables/variables with resnet_v2_152/block3/unit_25/bottleneck_v2/conv3/biases\n",
            "INFO:tensorflow:Initialize variable module/resnet_v2_152/block3/unit_25/bottleneck_v2/conv3/weights:0 from checkpoint /tmp/tfhub_modules/8d0633058d241900a3e5895be9e610592a5e1fac/variables/variables with resnet_v2_152/block3/unit_25/bottleneck_v2/conv3/weights\n",
            "INFO:tensorflow:Initialize variable module/resnet_v2_152/block3/unit_25/bottleneck_v2/preact/beta:0 from checkpoint /tmp/tfhub_modules/8d0633058d241900a3e5895be9e610592a5e1fac/variables/variables with resnet_v2_152/block3/unit_25/bottleneck_v2/preact/beta\n"
          ],
          "name": "stdout"
        },
        {
          "output_type": "stream",
          "text": [
            "INFO:tensorflow:Initialize variable module/resnet_v2_152/block3/unit_25/bottleneck_v2/preact/gamma:0 from checkpoint /tmp/tfhub_modules/8d0633058d241900a3e5895be9e610592a5e1fac/variables/variables with resnet_v2_152/block3/unit_25/bottleneck_v2/preact/gamma\n",
            "INFO:tensorflow:Initialize variable module/resnet_v2_152/block3/unit_25/bottleneck_v2/preact/moving_mean:0 from checkpoint /tmp/tfhub_modules/8d0633058d241900a3e5895be9e610592a5e1fac/variables/variables with resnet_v2_152/block3/unit_25/bottleneck_v2/preact/moving_mean\n",
            "INFO:tensorflow:Initialize variable module/resnet_v2_152/block3/unit_25/bottleneck_v2/preact/moving_variance:0 from checkpoint /tmp/tfhub_modules/8d0633058d241900a3e5895be9e610592a5e1fac/variables/variables with resnet_v2_152/block3/unit_25/bottleneck_v2/preact/moving_variance\n",
            "INFO:tensorflow:Initialize variable module/resnet_v2_152/block3/unit_26/bottleneck_v2/conv1/BatchNorm/beta:0 from checkpoint /tmp/tfhub_modules/8d0633058d241900a3e5895be9e610592a5e1fac/variables/variables with resnet_v2_152/block3/unit_26/bottleneck_v2/conv1/BatchNorm/beta\n",
            "INFO:tensorflow:Initialize variable module/resnet_v2_152/block3/unit_26/bottleneck_v2/conv1/BatchNorm/gamma:0 from checkpoint /tmp/tfhub_modules/8d0633058d241900a3e5895be9e610592a5e1fac/variables/variables with resnet_v2_152/block3/unit_26/bottleneck_v2/conv1/BatchNorm/gamma\n",
            "INFO:tensorflow:Initialize variable module/resnet_v2_152/block3/unit_26/bottleneck_v2/conv1/BatchNorm/moving_mean:0 from checkpoint /tmp/tfhub_modules/8d0633058d241900a3e5895be9e610592a5e1fac/variables/variables with resnet_v2_152/block3/unit_26/bottleneck_v2/conv1/BatchNorm/moving_mean\n",
            "INFO:tensorflow:Initialize variable module/resnet_v2_152/block3/unit_26/bottleneck_v2/conv1/BatchNorm/moving_variance:0 from checkpoint /tmp/tfhub_modules/8d0633058d241900a3e5895be9e610592a5e1fac/variables/variables with resnet_v2_152/block3/unit_26/bottleneck_v2/conv1/BatchNorm/moving_variance\n",
            "INFO:tensorflow:Initialize variable module/resnet_v2_152/block3/unit_26/bottleneck_v2/conv1/weights:0 from checkpoint /tmp/tfhub_modules/8d0633058d241900a3e5895be9e610592a5e1fac/variables/variables with resnet_v2_152/block3/unit_26/bottleneck_v2/conv1/weights\n",
            "INFO:tensorflow:Initialize variable module/resnet_v2_152/block3/unit_26/bottleneck_v2/conv2/BatchNorm/beta:0 from checkpoint /tmp/tfhub_modules/8d0633058d241900a3e5895be9e610592a5e1fac/variables/variables with resnet_v2_152/block3/unit_26/bottleneck_v2/conv2/BatchNorm/beta\n",
            "INFO:tensorflow:Initialize variable module/resnet_v2_152/block3/unit_26/bottleneck_v2/conv2/BatchNorm/gamma:0 from checkpoint /tmp/tfhub_modules/8d0633058d241900a3e5895be9e610592a5e1fac/variables/variables with resnet_v2_152/block3/unit_26/bottleneck_v2/conv2/BatchNorm/gamma\n",
            "INFO:tensorflow:Initialize variable module/resnet_v2_152/block3/unit_26/bottleneck_v2/conv2/BatchNorm/moving_mean:0 from checkpoint /tmp/tfhub_modules/8d0633058d241900a3e5895be9e610592a5e1fac/variables/variables with resnet_v2_152/block3/unit_26/bottleneck_v2/conv2/BatchNorm/moving_mean\n",
            "INFO:tensorflow:Initialize variable module/resnet_v2_152/block3/unit_26/bottleneck_v2/conv2/BatchNorm/moving_variance:0 from checkpoint /tmp/tfhub_modules/8d0633058d241900a3e5895be9e610592a5e1fac/variables/variables with resnet_v2_152/block3/unit_26/bottleneck_v2/conv2/BatchNorm/moving_variance\n",
            "INFO:tensorflow:Initialize variable module/resnet_v2_152/block3/unit_26/bottleneck_v2/conv2/weights:0 from checkpoint /tmp/tfhub_modules/8d0633058d241900a3e5895be9e610592a5e1fac/variables/variables with resnet_v2_152/block3/unit_26/bottleneck_v2/conv2/weights\n",
            "INFO:tensorflow:Initialize variable module/resnet_v2_152/block3/unit_26/bottleneck_v2/conv3/biases:0 from checkpoint /tmp/tfhub_modules/8d0633058d241900a3e5895be9e610592a5e1fac/variables/variables with resnet_v2_152/block3/unit_26/bottleneck_v2/conv3/biases\n",
            "INFO:tensorflow:Initialize variable module/resnet_v2_152/block3/unit_26/bottleneck_v2/conv3/weights:0 from checkpoint /tmp/tfhub_modules/8d0633058d241900a3e5895be9e610592a5e1fac/variables/variables with resnet_v2_152/block3/unit_26/bottleneck_v2/conv3/weights\n",
            "INFO:tensorflow:Initialize variable module/resnet_v2_152/block3/unit_26/bottleneck_v2/preact/beta:0 from checkpoint /tmp/tfhub_modules/8d0633058d241900a3e5895be9e610592a5e1fac/variables/variables with resnet_v2_152/block3/unit_26/bottleneck_v2/preact/beta\n",
            "INFO:tensorflow:Initialize variable module/resnet_v2_152/block3/unit_26/bottleneck_v2/preact/gamma:0 from checkpoint /tmp/tfhub_modules/8d0633058d241900a3e5895be9e610592a5e1fac/variables/variables with resnet_v2_152/block3/unit_26/bottleneck_v2/preact/gamma\n",
            "INFO:tensorflow:Initialize variable module/resnet_v2_152/block3/unit_26/bottleneck_v2/preact/moving_mean:0 from checkpoint /tmp/tfhub_modules/8d0633058d241900a3e5895be9e610592a5e1fac/variables/variables with resnet_v2_152/block3/unit_26/bottleneck_v2/preact/moving_mean\n",
            "INFO:tensorflow:Initialize variable module/resnet_v2_152/block3/unit_26/bottleneck_v2/preact/moving_variance:0 from checkpoint /tmp/tfhub_modules/8d0633058d241900a3e5895be9e610592a5e1fac/variables/variables with resnet_v2_152/block3/unit_26/bottleneck_v2/preact/moving_variance\n",
            "INFO:tensorflow:Initialize variable module/resnet_v2_152/block3/unit_27/bottleneck_v2/conv1/BatchNorm/beta:0 from checkpoint /tmp/tfhub_modules/8d0633058d241900a3e5895be9e610592a5e1fac/variables/variables with resnet_v2_152/block3/unit_27/bottleneck_v2/conv1/BatchNorm/beta\n",
            "INFO:tensorflow:Initialize variable module/resnet_v2_152/block3/unit_27/bottleneck_v2/conv1/BatchNorm/gamma:0 from checkpoint /tmp/tfhub_modules/8d0633058d241900a3e5895be9e610592a5e1fac/variables/variables with resnet_v2_152/block3/unit_27/bottleneck_v2/conv1/BatchNorm/gamma\n",
            "INFO:tensorflow:Initialize variable module/resnet_v2_152/block3/unit_27/bottleneck_v2/conv1/BatchNorm/moving_mean:0 from checkpoint /tmp/tfhub_modules/8d0633058d241900a3e5895be9e610592a5e1fac/variables/variables with resnet_v2_152/block3/unit_27/bottleneck_v2/conv1/BatchNorm/moving_mean\n",
            "INFO:tensorflow:Initialize variable module/resnet_v2_152/block3/unit_27/bottleneck_v2/conv1/BatchNorm/moving_variance:0 from checkpoint /tmp/tfhub_modules/8d0633058d241900a3e5895be9e610592a5e1fac/variables/variables with resnet_v2_152/block3/unit_27/bottleneck_v2/conv1/BatchNorm/moving_variance\n",
            "INFO:tensorflow:Initialize variable module/resnet_v2_152/block3/unit_27/bottleneck_v2/conv1/weights:0 from checkpoint /tmp/tfhub_modules/8d0633058d241900a3e5895be9e610592a5e1fac/variables/variables with resnet_v2_152/block3/unit_27/bottleneck_v2/conv1/weights\n",
            "INFO:tensorflow:Initialize variable module/resnet_v2_152/block3/unit_27/bottleneck_v2/conv2/BatchNorm/beta:0 from checkpoint /tmp/tfhub_modules/8d0633058d241900a3e5895be9e610592a5e1fac/variables/variables with resnet_v2_152/block3/unit_27/bottleneck_v2/conv2/BatchNorm/beta\n",
            "INFO:tensorflow:Initialize variable module/resnet_v2_152/block3/unit_27/bottleneck_v2/conv2/BatchNorm/gamma:0 from checkpoint /tmp/tfhub_modules/8d0633058d241900a3e5895be9e610592a5e1fac/variables/variables with resnet_v2_152/block3/unit_27/bottleneck_v2/conv2/BatchNorm/gamma\n"
          ],
          "name": "stdout"
        },
        {
          "output_type": "stream",
          "text": [
            "INFO:tensorflow:Initialize variable module/resnet_v2_152/block3/unit_27/bottleneck_v2/conv2/BatchNorm/moving_mean:0 from checkpoint /tmp/tfhub_modules/8d0633058d241900a3e5895be9e610592a5e1fac/variables/variables with resnet_v2_152/block3/unit_27/bottleneck_v2/conv2/BatchNorm/moving_mean\n",
            "INFO:tensorflow:Initialize variable module/resnet_v2_152/block3/unit_27/bottleneck_v2/conv2/BatchNorm/moving_variance:0 from checkpoint /tmp/tfhub_modules/8d0633058d241900a3e5895be9e610592a5e1fac/variables/variables with resnet_v2_152/block3/unit_27/bottleneck_v2/conv2/BatchNorm/moving_variance\n",
            "INFO:tensorflow:Initialize variable module/resnet_v2_152/block3/unit_27/bottleneck_v2/conv2/weights:0 from checkpoint /tmp/tfhub_modules/8d0633058d241900a3e5895be9e610592a5e1fac/variables/variables with resnet_v2_152/block3/unit_27/bottleneck_v2/conv2/weights\n",
            "INFO:tensorflow:Initialize variable module/resnet_v2_152/block3/unit_27/bottleneck_v2/conv3/biases:0 from checkpoint /tmp/tfhub_modules/8d0633058d241900a3e5895be9e610592a5e1fac/variables/variables with resnet_v2_152/block3/unit_27/bottleneck_v2/conv3/biases\n",
            "INFO:tensorflow:Initialize variable module/resnet_v2_152/block3/unit_27/bottleneck_v2/conv3/weights:0 from checkpoint /tmp/tfhub_modules/8d0633058d241900a3e5895be9e610592a5e1fac/variables/variables with resnet_v2_152/block3/unit_27/bottleneck_v2/conv3/weights\n",
            "INFO:tensorflow:Initialize variable module/resnet_v2_152/block3/unit_27/bottleneck_v2/preact/beta:0 from checkpoint /tmp/tfhub_modules/8d0633058d241900a3e5895be9e610592a5e1fac/variables/variables with resnet_v2_152/block3/unit_27/bottleneck_v2/preact/beta\n",
            "INFO:tensorflow:Initialize variable module/resnet_v2_152/block3/unit_27/bottleneck_v2/preact/gamma:0 from checkpoint /tmp/tfhub_modules/8d0633058d241900a3e5895be9e610592a5e1fac/variables/variables with resnet_v2_152/block3/unit_27/bottleneck_v2/preact/gamma\n",
            "INFO:tensorflow:Initialize variable module/resnet_v2_152/block3/unit_27/bottleneck_v2/preact/moving_mean:0 from checkpoint /tmp/tfhub_modules/8d0633058d241900a3e5895be9e610592a5e1fac/variables/variables with resnet_v2_152/block3/unit_27/bottleneck_v2/preact/moving_mean\n",
            "INFO:tensorflow:Initialize variable module/resnet_v2_152/block3/unit_27/bottleneck_v2/preact/moving_variance:0 from checkpoint /tmp/tfhub_modules/8d0633058d241900a3e5895be9e610592a5e1fac/variables/variables with resnet_v2_152/block3/unit_27/bottleneck_v2/preact/moving_variance\n",
            "INFO:tensorflow:Initialize variable module/resnet_v2_152/block3/unit_28/bottleneck_v2/conv1/BatchNorm/beta:0 from checkpoint /tmp/tfhub_modules/8d0633058d241900a3e5895be9e610592a5e1fac/variables/variables with resnet_v2_152/block3/unit_28/bottleneck_v2/conv1/BatchNorm/beta\n",
            "INFO:tensorflow:Initialize variable module/resnet_v2_152/block3/unit_28/bottleneck_v2/conv1/BatchNorm/gamma:0 from checkpoint /tmp/tfhub_modules/8d0633058d241900a3e5895be9e610592a5e1fac/variables/variables with resnet_v2_152/block3/unit_28/bottleneck_v2/conv1/BatchNorm/gamma\n",
            "INFO:tensorflow:Initialize variable module/resnet_v2_152/block3/unit_28/bottleneck_v2/conv1/BatchNorm/moving_mean:0 from checkpoint /tmp/tfhub_modules/8d0633058d241900a3e5895be9e610592a5e1fac/variables/variables with resnet_v2_152/block3/unit_28/bottleneck_v2/conv1/BatchNorm/moving_mean\n",
            "INFO:tensorflow:Initialize variable module/resnet_v2_152/block3/unit_28/bottleneck_v2/conv1/BatchNorm/moving_variance:0 from checkpoint /tmp/tfhub_modules/8d0633058d241900a3e5895be9e610592a5e1fac/variables/variables with resnet_v2_152/block3/unit_28/bottleneck_v2/conv1/BatchNorm/moving_variance\n",
            "INFO:tensorflow:Initialize variable module/resnet_v2_152/block3/unit_28/bottleneck_v2/conv1/weights:0 from checkpoint /tmp/tfhub_modules/8d0633058d241900a3e5895be9e610592a5e1fac/variables/variables with resnet_v2_152/block3/unit_28/bottleneck_v2/conv1/weights\n",
            "INFO:tensorflow:Initialize variable module/resnet_v2_152/block3/unit_28/bottleneck_v2/conv2/BatchNorm/beta:0 from checkpoint /tmp/tfhub_modules/8d0633058d241900a3e5895be9e610592a5e1fac/variables/variables with resnet_v2_152/block3/unit_28/bottleneck_v2/conv2/BatchNorm/beta\n",
            "INFO:tensorflow:Initialize variable module/resnet_v2_152/block3/unit_28/bottleneck_v2/conv2/BatchNorm/gamma:0 from checkpoint /tmp/tfhub_modules/8d0633058d241900a3e5895be9e610592a5e1fac/variables/variables with resnet_v2_152/block3/unit_28/bottleneck_v2/conv2/BatchNorm/gamma\n",
            "INFO:tensorflow:Initialize variable module/resnet_v2_152/block3/unit_28/bottleneck_v2/conv2/BatchNorm/moving_mean:0 from checkpoint /tmp/tfhub_modules/8d0633058d241900a3e5895be9e610592a5e1fac/variables/variables with resnet_v2_152/block3/unit_28/bottleneck_v2/conv2/BatchNorm/moving_mean\n",
            "INFO:tensorflow:Initialize variable module/resnet_v2_152/block3/unit_28/bottleneck_v2/conv2/BatchNorm/moving_variance:0 from checkpoint /tmp/tfhub_modules/8d0633058d241900a3e5895be9e610592a5e1fac/variables/variables with resnet_v2_152/block3/unit_28/bottleneck_v2/conv2/BatchNorm/moving_variance\n",
            "INFO:tensorflow:Initialize variable module/resnet_v2_152/block3/unit_28/bottleneck_v2/conv2/weights:0 from checkpoint /tmp/tfhub_modules/8d0633058d241900a3e5895be9e610592a5e1fac/variables/variables with resnet_v2_152/block3/unit_28/bottleneck_v2/conv2/weights\n",
            "INFO:tensorflow:Initialize variable module/resnet_v2_152/block3/unit_28/bottleneck_v2/conv3/biases:0 from checkpoint /tmp/tfhub_modules/8d0633058d241900a3e5895be9e610592a5e1fac/variables/variables with resnet_v2_152/block3/unit_28/bottleneck_v2/conv3/biases\n",
            "INFO:tensorflow:Initialize variable module/resnet_v2_152/block3/unit_28/bottleneck_v2/conv3/weights:0 from checkpoint /tmp/tfhub_modules/8d0633058d241900a3e5895be9e610592a5e1fac/variables/variables with resnet_v2_152/block3/unit_28/bottleneck_v2/conv3/weights\n",
            "INFO:tensorflow:Initialize variable module/resnet_v2_152/block3/unit_28/bottleneck_v2/preact/beta:0 from checkpoint /tmp/tfhub_modules/8d0633058d241900a3e5895be9e610592a5e1fac/variables/variables with resnet_v2_152/block3/unit_28/bottleneck_v2/preact/beta\n",
            "INFO:tensorflow:Initialize variable module/resnet_v2_152/block3/unit_28/bottleneck_v2/preact/gamma:0 from checkpoint /tmp/tfhub_modules/8d0633058d241900a3e5895be9e610592a5e1fac/variables/variables with resnet_v2_152/block3/unit_28/bottleneck_v2/preact/gamma\n",
            "INFO:tensorflow:Initialize variable module/resnet_v2_152/block3/unit_28/bottleneck_v2/preact/moving_mean:0 from checkpoint /tmp/tfhub_modules/8d0633058d241900a3e5895be9e610592a5e1fac/variables/variables with resnet_v2_152/block3/unit_28/bottleneck_v2/preact/moving_mean\n",
            "INFO:tensorflow:Initialize variable module/resnet_v2_152/block3/unit_28/bottleneck_v2/preact/moving_variance:0 from checkpoint /tmp/tfhub_modules/8d0633058d241900a3e5895be9e610592a5e1fac/variables/variables with resnet_v2_152/block3/unit_28/bottleneck_v2/preact/moving_variance\n",
            "INFO:tensorflow:Initialize variable module/resnet_v2_152/block3/unit_29/bottleneck_v2/conv1/BatchNorm/beta:0 from checkpoint /tmp/tfhub_modules/8d0633058d241900a3e5895be9e610592a5e1fac/variables/variables with resnet_v2_152/block3/unit_29/bottleneck_v2/conv1/BatchNorm/beta\n"
          ],
          "name": "stdout"
        },
        {
          "output_type": "stream",
          "text": [
            "INFO:tensorflow:Initialize variable module/resnet_v2_152/block3/unit_29/bottleneck_v2/conv1/BatchNorm/gamma:0 from checkpoint /tmp/tfhub_modules/8d0633058d241900a3e5895be9e610592a5e1fac/variables/variables with resnet_v2_152/block3/unit_29/bottleneck_v2/conv1/BatchNorm/gamma\n",
            "INFO:tensorflow:Initialize variable module/resnet_v2_152/block3/unit_29/bottleneck_v2/conv1/BatchNorm/moving_mean:0 from checkpoint /tmp/tfhub_modules/8d0633058d241900a3e5895be9e610592a5e1fac/variables/variables with resnet_v2_152/block3/unit_29/bottleneck_v2/conv1/BatchNorm/moving_mean\n",
            "INFO:tensorflow:Initialize variable module/resnet_v2_152/block3/unit_29/bottleneck_v2/conv1/BatchNorm/moving_variance:0 from checkpoint /tmp/tfhub_modules/8d0633058d241900a3e5895be9e610592a5e1fac/variables/variables with resnet_v2_152/block3/unit_29/bottleneck_v2/conv1/BatchNorm/moving_variance\n",
            "INFO:tensorflow:Initialize variable module/resnet_v2_152/block3/unit_29/bottleneck_v2/conv1/weights:0 from checkpoint /tmp/tfhub_modules/8d0633058d241900a3e5895be9e610592a5e1fac/variables/variables with resnet_v2_152/block3/unit_29/bottleneck_v2/conv1/weights\n",
            "INFO:tensorflow:Initialize variable module/resnet_v2_152/block3/unit_29/bottleneck_v2/conv2/BatchNorm/beta:0 from checkpoint /tmp/tfhub_modules/8d0633058d241900a3e5895be9e610592a5e1fac/variables/variables with resnet_v2_152/block3/unit_29/bottleneck_v2/conv2/BatchNorm/beta\n",
            "INFO:tensorflow:Initialize variable module/resnet_v2_152/block3/unit_29/bottleneck_v2/conv2/BatchNorm/gamma:0 from checkpoint /tmp/tfhub_modules/8d0633058d241900a3e5895be9e610592a5e1fac/variables/variables with resnet_v2_152/block3/unit_29/bottleneck_v2/conv2/BatchNorm/gamma\n",
            "INFO:tensorflow:Initialize variable module/resnet_v2_152/block3/unit_29/bottleneck_v2/conv2/BatchNorm/moving_mean:0 from checkpoint /tmp/tfhub_modules/8d0633058d241900a3e5895be9e610592a5e1fac/variables/variables with resnet_v2_152/block3/unit_29/bottleneck_v2/conv2/BatchNorm/moving_mean\n",
            "INFO:tensorflow:Initialize variable module/resnet_v2_152/block3/unit_29/bottleneck_v2/conv2/BatchNorm/moving_variance:0 from checkpoint /tmp/tfhub_modules/8d0633058d241900a3e5895be9e610592a5e1fac/variables/variables with resnet_v2_152/block3/unit_29/bottleneck_v2/conv2/BatchNorm/moving_variance\n",
            "INFO:tensorflow:Initialize variable module/resnet_v2_152/block3/unit_29/bottleneck_v2/conv2/weights:0 from checkpoint /tmp/tfhub_modules/8d0633058d241900a3e5895be9e610592a5e1fac/variables/variables with resnet_v2_152/block3/unit_29/bottleneck_v2/conv2/weights\n",
            "INFO:tensorflow:Initialize variable module/resnet_v2_152/block3/unit_29/bottleneck_v2/conv3/biases:0 from checkpoint /tmp/tfhub_modules/8d0633058d241900a3e5895be9e610592a5e1fac/variables/variables with resnet_v2_152/block3/unit_29/bottleneck_v2/conv3/biases\n",
            "INFO:tensorflow:Initialize variable module/resnet_v2_152/block3/unit_29/bottleneck_v2/conv3/weights:0 from checkpoint /tmp/tfhub_modules/8d0633058d241900a3e5895be9e610592a5e1fac/variables/variables with resnet_v2_152/block3/unit_29/bottleneck_v2/conv3/weights\n",
            "INFO:tensorflow:Initialize variable module/resnet_v2_152/block3/unit_29/bottleneck_v2/preact/beta:0 from checkpoint /tmp/tfhub_modules/8d0633058d241900a3e5895be9e610592a5e1fac/variables/variables with resnet_v2_152/block3/unit_29/bottleneck_v2/preact/beta\n",
            "INFO:tensorflow:Initialize variable module/resnet_v2_152/block3/unit_29/bottleneck_v2/preact/gamma:0 from checkpoint /tmp/tfhub_modules/8d0633058d241900a3e5895be9e610592a5e1fac/variables/variables with resnet_v2_152/block3/unit_29/bottleneck_v2/preact/gamma\n",
            "INFO:tensorflow:Initialize variable module/resnet_v2_152/block3/unit_29/bottleneck_v2/preact/moving_mean:0 from checkpoint /tmp/tfhub_modules/8d0633058d241900a3e5895be9e610592a5e1fac/variables/variables with resnet_v2_152/block3/unit_29/bottleneck_v2/preact/moving_mean\n",
            "INFO:tensorflow:Initialize variable module/resnet_v2_152/block3/unit_29/bottleneck_v2/preact/moving_variance:0 from checkpoint /tmp/tfhub_modules/8d0633058d241900a3e5895be9e610592a5e1fac/variables/variables with resnet_v2_152/block3/unit_29/bottleneck_v2/preact/moving_variance\n",
            "INFO:tensorflow:Initialize variable module/resnet_v2_152/block3/unit_3/bottleneck_v2/conv1/BatchNorm/beta:0 from checkpoint /tmp/tfhub_modules/8d0633058d241900a3e5895be9e610592a5e1fac/variables/variables with resnet_v2_152/block3/unit_3/bottleneck_v2/conv1/BatchNorm/beta\n",
            "INFO:tensorflow:Initialize variable module/resnet_v2_152/block3/unit_3/bottleneck_v2/conv1/BatchNorm/gamma:0 from checkpoint /tmp/tfhub_modules/8d0633058d241900a3e5895be9e610592a5e1fac/variables/variables with resnet_v2_152/block3/unit_3/bottleneck_v2/conv1/BatchNorm/gamma\n",
            "INFO:tensorflow:Initialize variable module/resnet_v2_152/block3/unit_3/bottleneck_v2/conv1/BatchNorm/moving_mean:0 from checkpoint /tmp/tfhub_modules/8d0633058d241900a3e5895be9e610592a5e1fac/variables/variables with resnet_v2_152/block3/unit_3/bottleneck_v2/conv1/BatchNorm/moving_mean\n",
            "INFO:tensorflow:Initialize variable module/resnet_v2_152/block3/unit_3/bottleneck_v2/conv1/BatchNorm/moving_variance:0 from checkpoint /tmp/tfhub_modules/8d0633058d241900a3e5895be9e610592a5e1fac/variables/variables with resnet_v2_152/block3/unit_3/bottleneck_v2/conv1/BatchNorm/moving_variance\n",
            "INFO:tensorflow:Initialize variable module/resnet_v2_152/block3/unit_3/bottleneck_v2/conv1/weights:0 from checkpoint /tmp/tfhub_modules/8d0633058d241900a3e5895be9e610592a5e1fac/variables/variables with resnet_v2_152/block3/unit_3/bottleneck_v2/conv1/weights\n",
            "INFO:tensorflow:Initialize variable module/resnet_v2_152/block3/unit_3/bottleneck_v2/conv2/BatchNorm/beta:0 from checkpoint /tmp/tfhub_modules/8d0633058d241900a3e5895be9e610592a5e1fac/variables/variables with resnet_v2_152/block3/unit_3/bottleneck_v2/conv2/BatchNorm/beta\n",
            "INFO:tensorflow:Initialize variable module/resnet_v2_152/block3/unit_3/bottleneck_v2/conv2/BatchNorm/gamma:0 from checkpoint /tmp/tfhub_modules/8d0633058d241900a3e5895be9e610592a5e1fac/variables/variables with resnet_v2_152/block3/unit_3/bottleneck_v2/conv2/BatchNorm/gamma\n",
            "INFO:tensorflow:Initialize variable module/resnet_v2_152/block3/unit_3/bottleneck_v2/conv2/BatchNorm/moving_mean:0 from checkpoint /tmp/tfhub_modules/8d0633058d241900a3e5895be9e610592a5e1fac/variables/variables with resnet_v2_152/block3/unit_3/bottleneck_v2/conv2/BatchNorm/moving_mean\n",
            "INFO:tensorflow:Initialize variable module/resnet_v2_152/block3/unit_3/bottleneck_v2/conv2/BatchNorm/moving_variance:0 from checkpoint /tmp/tfhub_modules/8d0633058d241900a3e5895be9e610592a5e1fac/variables/variables with resnet_v2_152/block3/unit_3/bottleneck_v2/conv2/BatchNorm/moving_variance\n",
            "INFO:tensorflow:Initialize variable module/resnet_v2_152/block3/unit_3/bottleneck_v2/conv2/weights:0 from checkpoint /tmp/tfhub_modules/8d0633058d241900a3e5895be9e610592a5e1fac/variables/variables with resnet_v2_152/block3/unit_3/bottleneck_v2/conv2/weights\n",
            "INFO:tensorflow:Initialize variable module/resnet_v2_152/block3/unit_3/bottleneck_v2/conv3/biases:0 from checkpoint /tmp/tfhub_modules/8d0633058d241900a3e5895be9e610592a5e1fac/variables/variables with resnet_v2_152/block3/unit_3/bottleneck_v2/conv3/biases\n"
          ],
          "name": "stdout"
        },
        {
          "output_type": "stream",
          "text": [
            "INFO:tensorflow:Initialize variable module/resnet_v2_152/block3/unit_3/bottleneck_v2/conv3/weights:0 from checkpoint /tmp/tfhub_modules/8d0633058d241900a3e5895be9e610592a5e1fac/variables/variables with resnet_v2_152/block3/unit_3/bottleneck_v2/conv3/weights\n",
            "INFO:tensorflow:Initialize variable module/resnet_v2_152/block3/unit_3/bottleneck_v2/preact/beta:0 from checkpoint /tmp/tfhub_modules/8d0633058d241900a3e5895be9e610592a5e1fac/variables/variables with resnet_v2_152/block3/unit_3/bottleneck_v2/preact/beta\n",
            "INFO:tensorflow:Initialize variable module/resnet_v2_152/block3/unit_3/bottleneck_v2/preact/gamma:0 from checkpoint /tmp/tfhub_modules/8d0633058d241900a3e5895be9e610592a5e1fac/variables/variables with resnet_v2_152/block3/unit_3/bottleneck_v2/preact/gamma\n",
            "INFO:tensorflow:Initialize variable module/resnet_v2_152/block3/unit_3/bottleneck_v2/preact/moving_mean:0 from checkpoint /tmp/tfhub_modules/8d0633058d241900a3e5895be9e610592a5e1fac/variables/variables with resnet_v2_152/block3/unit_3/bottleneck_v2/preact/moving_mean\n",
            "INFO:tensorflow:Initialize variable module/resnet_v2_152/block3/unit_3/bottleneck_v2/preact/moving_variance:0 from checkpoint /tmp/tfhub_modules/8d0633058d241900a3e5895be9e610592a5e1fac/variables/variables with resnet_v2_152/block3/unit_3/bottleneck_v2/preact/moving_variance\n",
            "INFO:tensorflow:Initialize variable module/resnet_v2_152/block3/unit_30/bottleneck_v2/conv1/BatchNorm/beta:0 from checkpoint /tmp/tfhub_modules/8d0633058d241900a3e5895be9e610592a5e1fac/variables/variables with resnet_v2_152/block3/unit_30/bottleneck_v2/conv1/BatchNorm/beta\n",
            "INFO:tensorflow:Initialize variable module/resnet_v2_152/block3/unit_30/bottleneck_v2/conv1/BatchNorm/gamma:0 from checkpoint /tmp/tfhub_modules/8d0633058d241900a3e5895be9e610592a5e1fac/variables/variables with resnet_v2_152/block3/unit_30/bottleneck_v2/conv1/BatchNorm/gamma\n",
            "INFO:tensorflow:Initialize variable module/resnet_v2_152/block3/unit_30/bottleneck_v2/conv1/BatchNorm/moving_mean:0 from checkpoint /tmp/tfhub_modules/8d0633058d241900a3e5895be9e610592a5e1fac/variables/variables with resnet_v2_152/block3/unit_30/bottleneck_v2/conv1/BatchNorm/moving_mean\n",
            "INFO:tensorflow:Initialize variable module/resnet_v2_152/block3/unit_30/bottleneck_v2/conv1/BatchNorm/moving_variance:0 from checkpoint /tmp/tfhub_modules/8d0633058d241900a3e5895be9e610592a5e1fac/variables/variables with resnet_v2_152/block3/unit_30/bottleneck_v2/conv1/BatchNorm/moving_variance\n",
            "INFO:tensorflow:Initialize variable module/resnet_v2_152/block3/unit_30/bottleneck_v2/conv1/weights:0 from checkpoint /tmp/tfhub_modules/8d0633058d241900a3e5895be9e610592a5e1fac/variables/variables with resnet_v2_152/block3/unit_30/bottleneck_v2/conv1/weights\n",
            "INFO:tensorflow:Initialize variable module/resnet_v2_152/block3/unit_30/bottleneck_v2/conv2/BatchNorm/beta:0 from checkpoint /tmp/tfhub_modules/8d0633058d241900a3e5895be9e610592a5e1fac/variables/variables with resnet_v2_152/block3/unit_30/bottleneck_v2/conv2/BatchNorm/beta\n",
            "INFO:tensorflow:Initialize variable module/resnet_v2_152/block3/unit_30/bottleneck_v2/conv2/BatchNorm/gamma:0 from checkpoint /tmp/tfhub_modules/8d0633058d241900a3e5895be9e610592a5e1fac/variables/variables with resnet_v2_152/block3/unit_30/bottleneck_v2/conv2/BatchNorm/gamma\n",
            "INFO:tensorflow:Initialize variable module/resnet_v2_152/block3/unit_30/bottleneck_v2/conv2/BatchNorm/moving_mean:0 from checkpoint /tmp/tfhub_modules/8d0633058d241900a3e5895be9e610592a5e1fac/variables/variables with resnet_v2_152/block3/unit_30/bottleneck_v2/conv2/BatchNorm/moving_mean\n",
            "INFO:tensorflow:Initialize variable module/resnet_v2_152/block3/unit_30/bottleneck_v2/conv2/BatchNorm/moving_variance:0 from checkpoint /tmp/tfhub_modules/8d0633058d241900a3e5895be9e610592a5e1fac/variables/variables with resnet_v2_152/block3/unit_30/bottleneck_v2/conv2/BatchNorm/moving_variance\n",
            "INFO:tensorflow:Initialize variable module/resnet_v2_152/block3/unit_30/bottleneck_v2/conv2/weights:0 from checkpoint /tmp/tfhub_modules/8d0633058d241900a3e5895be9e610592a5e1fac/variables/variables with resnet_v2_152/block3/unit_30/bottleneck_v2/conv2/weights\n",
            "INFO:tensorflow:Initialize variable module/resnet_v2_152/block3/unit_30/bottleneck_v2/conv3/biases:0 from checkpoint /tmp/tfhub_modules/8d0633058d241900a3e5895be9e610592a5e1fac/variables/variables with resnet_v2_152/block3/unit_30/bottleneck_v2/conv3/biases\n",
            "INFO:tensorflow:Initialize variable module/resnet_v2_152/block3/unit_30/bottleneck_v2/conv3/weights:0 from checkpoint /tmp/tfhub_modules/8d0633058d241900a3e5895be9e610592a5e1fac/variables/variables with resnet_v2_152/block3/unit_30/bottleneck_v2/conv3/weights\n",
            "INFO:tensorflow:Initialize variable module/resnet_v2_152/block3/unit_30/bottleneck_v2/preact/beta:0 from checkpoint /tmp/tfhub_modules/8d0633058d241900a3e5895be9e610592a5e1fac/variables/variables with resnet_v2_152/block3/unit_30/bottleneck_v2/preact/beta\n",
            "INFO:tensorflow:Initialize variable module/resnet_v2_152/block3/unit_30/bottleneck_v2/preact/gamma:0 from checkpoint /tmp/tfhub_modules/8d0633058d241900a3e5895be9e610592a5e1fac/variables/variables with resnet_v2_152/block3/unit_30/bottleneck_v2/preact/gamma\n",
            "INFO:tensorflow:Initialize variable module/resnet_v2_152/block3/unit_30/bottleneck_v2/preact/moving_mean:0 from checkpoint /tmp/tfhub_modules/8d0633058d241900a3e5895be9e610592a5e1fac/variables/variables with resnet_v2_152/block3/unit_30/bottleneck_v2/preact/moving_mean\n",
            "INFO:tensorflow:Initialize variable module/resnet_v2_152/block3/unit_30/bottleneck_v2/preact/moving_variance:0 from checkpoint /tmp/tfhub_modules/8d0633058d241900a3e5895be9e610592a5e1fac/variables/variables with resnet_v2_152/block3/unit_30/bottleneck_v2/preact/moving_variance\n",
            "INFO:tensorflow:Initialize variable module/resnet_v2_152/block3/unit_31/bottleneck_v2/conv1/BatchNorm/beta:0 from checkpoint /tmp/tfhub_modules/8d0633058d241900a3e5895be9e610592a5e1fac/variables/variables with resnet_v2_152/block3/unit_31/bottleneck_v2/conv1/BatchNorm/beta\n",
            "INFO:tensorflow:Initialize variable module/resnet_v2_152/block3/unit_31/bottleneck_v2/conv1/BatchNorm/gamma:0 from checkpoint /tmp/tfhub_modules/8d0633058d241900a3e5895be9e610592a5e1fac/variables/variables with resnet_v2_152/block3/unit_31/bottleneck_v2/conv1/BatchNorm/gamma\n",
            "INFO:tensorflow:Initialize variable module/resnet_v2_152/block3/unit_31/bottleneck_v2/conv1/BatchNorm/moving_mean:0 from checkpoint /tmp/tfhub_modules/8d0633058d241900a3e5895be9e610592a5e1fac/variables/variables with resnet_v2_152/block3/unit_31/bottleneck_v2/conv1/BatchNorm/moving_mean\n",
            "INFO:tensorflow:Initialize variable module/resnet_v2_152/block3/unit_31/bottleneck_v2/conv1/BatchNorm/moving_variance:0 from checkpoint /tmp/tfhub_modules/8d0633058d241900a3e5895be9e610592a5e1fac/variables/variables with resnet_v2_152/block3/unit_31/bottleneck_v2/conv1/BatchNorm/moving_variance\n",
            "INFO:tensorflow:Initialize variable module/resnet_v2_152/block3/unit_31/bottleneck_v2/conv1/weights:0 from checkpoint /tmp/tfhub_modules/8d0633058d241900a3e5895be9e610592a5e1fac/variables/variables with resnet_v2_152/block3/unit_31/bottleneck_v2/conv1/weights\n"
          ],
          "name": "stdout"
        },
        {
          "output_type": "stream",
          "text": [
            "INFO:tensorflow:Initialize variable module/resnet_v2_152/block3/unit_31/bottleneck_v2/conv2/BatchNorm/beta:0 from checkpoint /tmp/tfhub_modules/8d0633058d241900a3e5895be9e610592a5e1fac/variables/variables with resnet_v2_152/block3/unit_31/bottleneck_v2/conv2/BatchNorm/beta\n",
            "INFO:tensorflow:Initialize variable module/resnet_v2_152/block3/unit_31/bottleneck_v2/conv2/BatchNorm/gamma:0 from checkpoint /tmp/tfhub_modules/8d0633058d241900a3e5895be9e610592a5e1fac/variables/variables with resnet_v2_152/block3/unit_31/bottleneck_v2/conv2/BatchNorm/gamma\n",
            "INFO:tensorflow:Initialize variable module/resnet_v2_152/block3/unit_31/bottleneck_v2/conv2/BatchNorm/moving_mean:0 from checkpoint /tmp/tfhub_modules/8d0633058d241900a3e5895be9e610592a5e1fac/variables/variables with resnet_v2_152/block3/unit_31/bottleneck_v2/conv2/BatchNorm/moving_mean\n",
            "INFO:tensorflow:Initialize variable module/resnet_v2_152/block3/unit_31/bottleneck_v2/conv2/BatchNorm/moving_variance:0 from checkpoint /tmp/tfhub_modules/8d0633058d241900a3e5895be9e610592a5e1fac/variables/variables with resnet_v2_152/block3/unit_31/bottleneck_v2/conv2/BatchNorm/moving_variance\n",
            "INFO:tensorflow:Initialize variable module/resnet_v2_152/block3/unit_31/bottleneck_v2/conv2/weights:0 from checkpoint /tmp/tfhub_modules/8d0633058d241900a3e5895be9e610592a5e1fac/variables/variables with resnet_v2_152/block3/unit_31/bottleneck_v2/conv2/weights\n",
            "INFO:tensorflow:Initialize variable module/resnet_v2_152/block3/unit_31/bottleneck_v2/conv3/biases:0 from checkpoint /tmp/tfhub_modules/8d0633058d241900a3e5895be9e610592a5e1fac/variables/variables with resnet_v2_152/block3/unit_31/bottleneck_v2/conv3/biases\n",
            "INFO:tensorflow:Initialize variable module/resnet_v2_152/block3/unit_31/bottleneck_v2/conv3/weights:0 from checkpoint /tmp/tfhub_modules/8d0633058d241900a3e5895be9e610592a5e1fac/variables/variables with resnet_v2_152/block3/unit_31/bottleneck_v2/conv3/weights\n",
            "INFO:tensorflow:Initialize variable module/resnet_v2_152/block3/unit_31/bottleneck_v2/preact/beta:0 from checkpoint /tmp/tfhub_modules/8d0633058d241900a3e5895be9e610592a5e1fac/variables/variables with resnet_v2_152/block3/unit_31/bottleneck_v2/preact/beta\n",
            "INFO:tensorflow:Initialize variable module/resnet_v2_152/block3/unit_31/bottleneck_v2/preact/gamma:0 from checkpoint /tmp/tfhub_modules/8d0633058d241900a3e5895be9e610592a5e1fac/variables/variables with resnet_v2_152/block3/unit_31/bottleneck_v2/preact/gamma\n",
            "INFO:tensorflow:Initialize variable module/resnet_v2_152/block3/unit_31/bottleneck_v2/preact/moving_mean:0 from checkpoint /tmp/tfhub_modules/8d0633058d241900a3e5895be9e610592a5e1fac/variables/variables with resnet_v2_152/block3/unit_31/bottleneck_v2/preact/moving_mean\n",
            "INFO:tensorflow:Initialize variable module/resnet_v2_152/block3/unit_31/bottleneck_v2/preact/moving_variance:0 from checkpoint /tmp/tfhub_modules/8d0633058d241900a3e5895be9e610592a5e1fac/variables/variables with resnet_v2_152/block3/unit_31/bottleneck_v2/preact/moving_variance\n",
            "INFO:tensorflow:Initialize variable module/resnet_v2_152/block3/unit_32/bottleneck_v2/conv1/BatchNorm/beta:0 from checkpoint /tmp/tfhub_modules/8d0633058d241900a3e5895be9e610592a5e1fac/variables/variables with resnet_v2_152/block3/unit_32/bottleneck_v2/conv1/BatchNorm/beta\n",
            "INFO:tensorflow:Initialize variable module/resnet_v2_152/block3/unit_32/bottleneck_v2/conv1/BatchNorm/gamma:0 from checkpoint /tmp/tfhub_modules/8d0633058d241900a3e5895be9e610592a5e1fac/variables/variables with resnet_v2_152/block3/unit_32/bottleneck_v2/conv1/BatchNorm/gamma\n",
            "INFO:tensorflow:Initialize variable module/resnet_v2_152/block3/unit_32/bottleneck_v2/conv1/BatchNorm/moving_mean:0 from checkpoint /tmp/tfhub_modules/8d0633058d241900a3e5895be9e610592a5e1fac/variables/variables with resnet_v2_152/block3/unit_32/bottleneck_v2/conv1/BatchNorm/moving_mean\n",
            "INFO:tensorflow:Initialize variable module/resnet_v2_152/block3/unit_32/bottleneck_v2/conv1/BatchNorm/moving_variance:0 from checkpoint /tmp/tfhub_modules/8d0633058d241900a3e5895be9e610592a5e1fac/variables/variables with resnet_v2_152/block3/unit_32/bottleneck_v2/conv1/BatchNorm/moving_variance\n",
            "INFO:tensorflow:Initialize variable module/resnet_v2_152/block3/unit_32/bottleneck_v2/conv1/weights:0 from checkpoint /tmp/tfhub_modules/8d0633058d241900a3e5895be9e610592a5e1fac/variables/variables with resnet_v2_152/block3/unit_32/bottleneck_v2/conv1/weights\n",
            "INFO:tensorflow:Initialize variable module/resnet_v2_152/block3/unit_32/bottleneck_v2/conv2/BatchNorm/beta:0 from checkpoint /tmp/tfhub_modules/8d0633058d241900a3e5895be9e610592a5e1fac/variables/variables with resnet_v2_152/block3/unit_32/bottleneck_v2/conv2/BatchNorm/beta\n",
            "INFO:tensorflow:Initialize variable module/resnet_v2_152/block3/unit_32/bottleneck_v2/conv2/BatchNorm/gamma:0 from checkpoint /tmp/tfhub_modules/8d0633058d241900a3e5895be9e610592a5e1fac/variables/variables with resnet_v2_152/block3/unit_32/bottleneck_v2/conv2/BatchNorm/gamma\n",
            "INFO:tensorflow:Initialize variable module/resnet_v2_152/block3/unit_32/bottleneck_v2/conv2/BatchNorm/moving_mean:0 from checkpoint /tmp/tfhub_modules/8d0633058d241900a3e5895be9e610592a5e1fac/variables/variables with resnet_v2_152/block3/unit_32/bottleneck_v2/conv2/BatchNorm/moving_mean\n",
            "INFO:tensorflow:Initialize variable module/resnet_v2_152/block3/unit_32/bottleneck_v2/conv2/BatchNorm/moving_variance:0 from checkpoint /tmp/tfhub_modules/8d0633058d241900a3e5895be9e610592a5e1fac/variables/variables with resnet_v2_152/block3/unit_32/bottleneck_v2/conv2/BatchNorm/moving_variance\n",
            "INFO:tensorflow:Initialize variable module/resnet_v2_152/block3/unit_32/bottleneck_v2/conv2/weights:0 from checkpoint /tmp/tfhub_modules/8d0633058d241900a3e5895be9e610592a5e1fac/variables/variables with resnet_v2_152/block3/unit_32/bottleneck_v2/conv2/weights\n",
            "INFO:tensorflow:Initialize variable module/resnet_v2_152/block3/unit_32/bottleneck_v2/conv3/biases:0 from checkpoint /tmp/tfhub_modules/8d0633058d241900a3e5895be9e610592a5e1fac/variables/variables with resnet_v2_152/block3/unit_32/bottleneck_v2/conv3/biases\n",
            "INFO:tensorflow:Initialize variable module/resnet_v2_152/block3/unit_32/bottleneck_v2/conv3/weights:0 from checkpoint /tmp/tfhub_modules/8d0633058d241900a3e5895be9e610592a5e1fac/variables/variables with resnet_v2_152/block3/unit_32/bottleneck_v2/conv3/weights\n",
            "INFO:tensorflow:Initialize variable module/resnet_v2_152/block3/unit_32/bottleneck_v2/preact/beta:0 from checkpoint /tmp/tfhub_modules/8d0633058d241900a3e5895be9e610592a5e1fac/variables/variables with resnet_v2_152/block3/unit_32/bottleneck_v2/preact/beta\n",
            "INFO:tensorflow:Initialize variable module/resnet_v2_152/block3/unit_32/bottleneck_v2/preact/gamma:0 from checkpoint /tmp/tfhub_modules/8d0633058d241900a3e5895be9e610592a5e1fac/variables/variables with resnet_v2_152/block3/unit_32/bottleneck_v2/preact/gamma\n",
            "INFO:tensorflow:Initialize variable module/resnet_v2_152/block3/unit_32/bottleneck_v2/preact/moving_mean:0 from checkpoint /tmp/tfhub_modules/8d0633058d241900a3e5895be9e610592a5e1fac/variables/variables with resnet_v2_152/block3/unit_32/bottleneck_v2/preact/moving_mean\n"
          ],
          "name": "stdout"
        },
        {
          "output_type": "stream",
          "text": [
            "INFO:tensorflow:Initialize variable module/resnet_v2_152/block3/unit_32/bottleneck_v2/preact/moving_variance:0 from checkpoint /tmp/tfhub_modules/8d0633058d241900a3e5895be9e610592a5e1fac/variables/variables with resnet_v2_152/block3/unit_32/bottleneck_v2/preact/moving_variance\n",
            "INFO:tensorflow:Initialize variable module/resnet_v2_152/block3/unit_33/bottleneck_v2/conv1/BatchNorm/beta:0 from checkpoint /tmp/tfhub_modules/8d0633058d241900a3e5895be9e610592a5e1fac/variables/variables with resnet_v2_152/block3/unit_33/bottleneck_v2/conv1/BatchNorm/beta\n",
            "INFO:tensorflow:Initialize variable module/resnet_v2_152/block3/unit_33/bottleneck_v2/conv1/BatchNorm/gamma:0 from checkpoint /tmp/tfhub_modules/8d0633058d241900a3e5895be9e610592a5e1fac/variables/variables with resnet_v2_152/block3/unit_33/bottleneck_v2/conv1/BatchNorm/gamma\n",
            "INFO:tensorflow:Initialize variable module/resnet_v2_152/block3/unit_33/bottleneck_v2/conv1/BatchNorm/moving_mean:0 from checkpoint /tmp/tfhub_modules/8d0633058d241900a3e5895be9e610592a5e1fac/variables/variables with resnet_v2_152/block3/unit_33/bottleneck_v2/conv1/BatchNorm/moving_mean\n",
            "INFO:tensorflow:Initialize variable module/resnet_v2_152/block3/unit_33/bottleneck_v2/conv1/BatchNorm/moving_variance:0 from checkpoint /tmp/tfhub_modules/8d0633058d241900a3e5895be9e610592a5e1fac/variables/variables with resnet_v2_152/block3/unit_33/bottleneck_v2/conv1/BatchNorm/moving_variance\n",
            "INFO:tensorflow:Initialize variable module/resnet_v2_152/block3/unit_33/bottleneck_v2/conv1/weights:0 from checkpoint /tmp/tfhub_modules/8d0633058d241900a3e5895be9e610592a5e1fac/variables/variables with resnet_v2_152/block3/unit_33/bottleneck_v2/conv1/weights\n",
            "INFO:tensorflow:Initialize variable module/resnet_v2_152/block3/unit_33/bottleneck_v2/conv2/BatchNorm/beta:0 from checkpoint /tmp/tfhub_modules/8d0633058d241900a3e5895be9e610592a5e1fac/variables/variables with resnet_v2_152/block3/unit_33/bottleneck_v2/conv2/BatchNorm/beta\n",
            "INFO:tensorflow:Initialize variable module/resnet_v2_152/block3/unit_33/bottleneck_v2/conv2/BatchNorm/gamma:0 from checkpoint /tmp/tfhub_modules/8d0633058d241900a3e5895be9e610592a5e1fac/variables/variables with resnet_v2_152/block3/unit_33/bottleneck_v2/conv2/BatchNorm/gamma\n",
            "INFO:tensorflow:Initialize variable module/resnet_v2_152/block3/unit_33/bottleneck_v2/conv2/BatchNorm/moving_mean:0 from checkpoint /tmp/tfhub_modules/8d0633058d241900a3e5895be9e610592a5e1fac/variables/variables with resnet_v2_152/block3/unit_33/bottleneck_v2/conv2/BatchNorm/moving_mean\n",
            "INFO:tensorflow:Initialize variable module/resnet_v2_152/block3/unit_33/bottleneck_v2/conv2/BatchNorm/moving_variance:0 from checkpoint /tmp/tfhub_modules/8d0633058d241900a3e5895be9e610592a5e1fac/variables/variables with resnet_v2_152/block3/unit_33/bottleneck_v2/conv2/BatchNorm/moving_variance\n",
            "INFO:tensorflow:Initialize variable module/resnet_v2_152/block3/unit_33/bottleneck_v2/conv2/weights:0 from checkpoint /tmp/tfhub_modules/8d0633058d241900a3e5895be9e610592a5e1fac/variables/variables with resnet_v2_152/block3/unit_33/bottleneck_v2/conv2/weights\n",
            "INFO:tensorflow:Initialize variable module/resnet_v2_152/block3/unit_33/bottleneck_v2/conv3/biases:0 from checkpoint /tmp/tfhub_modules/8d0633058d241900a3e5895be9e610592a5e1fac/variables/variables with resnet_v2_152/block3/unit_33/bottleneck_v2/conv3/biases\n",
            "INFO:tensorflow:Initialize variable module/resnet_v2_152/block3/unit_33/bottleneck_v2/conv3/weights:0 from checkpoint /tmp/tfhub_modules/8d0633058d241900a3e5895be9e610592a5e1fac/variables/variables with resnet_v2_152/block3/unit_33/bottleneck_v2/conv3/weights\n",
            "INFO:tensorflow:Initialize variable module/resnet_v2_152/block3/unit_33/bottleneck_v2/preact/beta:0 from checkpoint /tmp/tfhub_modules/8d0633058d241900a3e5895be9e610592a5e1fac/variables/variables with resnet_v2_152/block3/unit_33/bottleneck_v2/preact/beta\n",
            "INFO:tensorflow:Initialize variable module/resnet_v2_152/block3/unit_33/bottleneck_v2/preact/gamma:0 from checkpoint /tmp/tfhub_modules/8d0633058d241900a3e5895be9e610592a5e1fac/variables/variables with resnet_v2_152/block3/unit_33/bottleneck_v2/preact/gamma\n",
            "INFO:tensorflow:Initialize variable module/resnet_v2_152/block3/unit_33/bottleneck_v2/preact/moving_mean:0 from checkpoint /tmp/tfhub_modules/8d0633058d241900a3e5895be9e610592a5e1fac/variables/variables with resnet_v2_152/block3/unit_33/bottleneck_v2/preact/moving_mean\n",
            "INFO:tensorflow:Initialize variable module/resnet_v2_152/block3/unit_33/bottleneck_v2/preact/moving_variance:0 from checkpoint /tmp/tfhub_modules/8d0633058d241900a3e5895be9e610592a5e1fac/variables/variables with resnet_v2_152/block3/unit_33/bottleneck_v2/preact/moving_variance\n",
            "INFO:tensorflow:Initialize variable module/resnet_v2_152/block3/unit_34/bottleneck_v2/conv1/BatchNorm/beta:0 from checkpoint /tmp/tfhub_modules/8d0633058d241900a3e5895be9e610592a5e1fac/variables/variables with resnet_v2_152/block3/unit_34/bottleneck_v2/conv1/BatchNorm/beta\n",
            "INFO:tensorflow:Initialize variable module/resnet_v2_152/block3/unit_34/bottleneck_v2/conv1/BatchNorm/gamma:0 from checkpoint /tmp/tfhub_modules/8d0633058d241900a3e5895be9e610592a5e1fac/variables/variables with resnet_v2_152/block3/unit_34/bottleneck_v2/conv1/BatchNorm/gamma\n",
            "INFO:tensorflow:Initialize variable module/resnet_v2_152/block3/unit_34/bottleneck_v2/conv1/BatchNorm/moving_mean:0 from checkpoint /tmp/tfhub_modules/8d0633058d241900a3e5895be9e610592a5e1fac/variables/variables with resnet_v2_152/block3/unit_34/bottleneck_v2/conv1/BatchNorm/moving_mean\n",
            "INFO:tensorflow:Initialize variable module/resnet_v2_152/block3/unit_34/bottleneck_v2/conv1/BatchNorm/moving_variance:0 from checkpoint /tmp/tfhub_modules/8d0633058d241900a3e5895be9e610592a5e1fac/variables/variables with resnet_v2_152/block3/unit_34/bottleneck_v2/conv1/BatchNorm/moving_variance\n",
            "INFO:tensorflow:Initialize variable module/resnet_v2_152/block3/unit_34/bottleneck_v2/conv1/weights:0 from checkpoint /tmp/tfhub_modules/8d0633058d241900a3e5895be9e610592a5e1fac/variables/variables with resnet_v2_152/block3/unit_34/bottleneck_v2/conv1/weights\n",
            "INFO:tensorflow:Initialize variable module/resnet_v2_152/block3/unit_34/bottleneck_v2/conv2/BatchNorm/beta:0 from checkpoint /tmp/tfhub_modules/8d0633058d241900a3e5895be9e610592a5e1fac/variables/variables with resnet_v2_152/block3/unit_34/bottleneck_v2/conv2/BatchNorm/beta\n",
            "INFO:tensorflow:Initialize variable module/resnet_v2_152/block3/unit_34/bottleneck_v2/conv2/BatchNorm/gamma:0 from checkpoint /tmp/tfhub_modules/8d0633058d241900a3e5895be9e610592a5e1fac/variables/variables with resnet_v2_152/block3/unit_34/bottleneck_v2/conv2/BatchNorm/gamma\n",
            "INFO:tensorflow:Initialize variable module/resnet_v2_152/block3/unit_34/bottleneck_v2/conv2/BatchNorm/moving_mean:0 from checkpoint /tmp/tfhub_modules/8d0633058d241900a3e5895be9e610592a5e1fac/variables/variables with resnet_v2_152/block3/unit_34/bottleneck_v2/conv2/BatchNorm/moving_mean\n",
            "INFO:tensorflow:Initialize variable module/resnet_v2_152/block3/unit_34/bottleneck_v2/conv2/BatchNorm/moving_variance:0 from checkpoint /tmp/tfhub_modules/8d0633058d241900a3e5895be9e610592a5e1fac/variables/variables with resnet_v2_152/block3/unit_34/bottleneck_v2/conv2/BatchNorm/moving_variance\n"
          ],
          "name": "stdout"
        },
        {
          "output_type": "stream",
          "text": [
            "INFO:tensorflow:Initialize variable module/resnet_v2_152/block3/unit_34/bottleneck_v2/conv2/weights:0 from checkpoint /tmp/tfhub_modules/8d0633058d241900a3e5895be9e610592a5e1fac/variables/variables with resnet_v2_152/block3/unit_34/bottleneck_v2/conv2/weights\n",
            "INFO:tensorflow:Initialize variable module/resnet_v2_152/block3/unit_34/bottleneck_v2/conv3/biases:0 from checkpoint /tmp/tfhub_modules/8d0633058d241900a3e5895be9e610592a5e1fac/variables/variables with resnet_v2_152/block3/unit_34/bottleneck_v2/conv3/biases\n",
            "INFO:tensorflow:Initialize variable module/resnet_v2_152/block3/unit_34/bottleneck_v2/conv3/weights:0 from checkpoint /tmp/tfhub_modules/8d0633058d241900a3e5895be9e610592a5e1fac/variables/variables with resnet_v2_152/block3/unit_34/bottleneck_v2/conv3/weights\n",
            "INFO:tensorflow:Initialize variable module/resnet_v2_152/block3/unit_34/bottleneck_v2/preact/beta:0 from checkpoint /tmp/tfhub_modules/8d0633058d241900a3e5895be9e610592a5e1fac/variables/variables with resnet_v2_152/block3/unit_34/bottleneck_v2/preact/beta\n",
            "INFO:tensorflow:Initialize variable module/resnet_v2_152/block3/unit_34/bottleneck_v2/preact/gamma:0 from checkpoint /tmp/tfhub_modules/8d0633058d241900a3e5895be9e610592a5e1fac/variables/variables with resnet_v2_152/block3/unit_34/bottleneck_v2/preact/gamma\n",
            "INFO:tensorflow:Initialize variable module/resnet_v2_152/block3/unit_34/bottleneck_v2/preact/moving_mean:0 from checkpoint /tmp/tfhub_modules/8d0633058d241900a3e5895be9e610592a5e1fac/variables/variables with resnet_v2_152/block3/unit_34/bottleneck_v2/preact/moving_mean\n",
            "INFO:tensorflow:Initialize variable module/resnet_v2_152/block3/unit_34/bottleneck_v2/preact/moving_variance:0 from checkpoint /tmp/tfhub_modules/8d0633058d241900a3e5895be9e610592a5e1fac/variables/variables with resnet_v2_152/block3/unit_34/bottleneck_v2/preact/moving_variance\n",
            "INFO:tensorflow:Initialize variable module/resnet_v2_152/block3/unit_35/bottleneck_v2/conv1/BatchNorm/beta:0 from checkpoint /tmp/tfhub_modules/8d0633058d241900a3e5895be9e610592a5e1fac/variables/variables with resnet_v2_152/block3/unit_35/bottleneck_v2/conv1/BatchNorm/beta\n",
            "INFO:tensorflow:Initialize variable module/resnet_v2_152/block3/unit_35/bottleneck_v2/conv1/BatchNorm/gamma:0 from checkpoint /tmp/tfhub_modules/8d0633058d241900a3e5895be9e610592a5e1fac/variables/variables with resnet_v2_152/block3/unit_35/bottleneck_v2/conv1/BatchNorm/gamma\n",
            "INFO:tensorflow:Initialize variable module/resnet_v2_152/block3/unit_35/bottleneck_v2/conv1/BatchNorm/moving_mean:0 from checkpoint /tmp/tfhub_modules/8d0633058d241900a3e5895be9e610592a5e1fac/variables/variables with resnet_v2_152/block3/unit_35/bottleneck_v2/conv1/BatchNorm/moving_mean\n",
            "INFO:tensorflow:Initialize variable module/resnet_v2_152/block3/unit_35/bottleneck_v2/conv1/BatchNorm/moving_variance:0 from checkpoint /tmp/tfhub_modules/8d0633058d241900a3e5895be9e610592a5e1fac/variables/variables with resnet_v2_152/block3/unit_35/bottleneck_v2/conv1/BatchNorm/moving_variance\n",
            "INFO:tensorflow:Initialize variable module/resnet_v2_152/block3/unit_35/bottleneck_v2/conv1/weights:0 from checkpoint /tmp/tfhub_modules/8d0633058d241900a3e5895be9e610592a5e1fac/variables/variables with resnet_v2_152/block3/unit_35/bottleneck_v2/conv1/weights\n",
            "INFO:tensorflow:Initialize variable module/resnet_v2_152/block3/unit_35/bottleneck_v2/conv2/BatchNorm/beta:0 from checkpoint /tmp/tfhub_modules/8d0633058d241900a3e5895be9e610592a5e1fac/variables/variables with resnet_v2_152/block3/unit_35/bottleneck_v2/conv2/BatchNorm/beta\n",
            "INFO:tensorflow:Initialize variable module/resnet_v2_152/block3/unit_35/bottleneck_v2/conv2/BatchNorm/gamma:0 from checkpoint /tmp/tfhub_modules/8d0633058d241900a3e5895be9e610592a5e1fac/variables/variables with resnet_v2_152/block3/unit_35/bottleneck_v2/conv2/BatchNorm/gamma\n",
            "INFO:tensorflow:Initialize variable module/resnet_v2_152/block3/unit_35/bottleneck_v2/conv2/BatchNorm/moving_mean:0 from checkpoint /tmp/tfhub_modules/8d0633058d241900a3e5895be9e610592a5e1fac/variables/variables with resnet_v2_152/block3/unit_35/bottleneck_v2/conv2/BatchNorm/moving_mean\n",
            "INFO:tensorflow:Initialize variable module/resnet_v2_152/block3/unit_35/bottleneck_v2/conv2/BatchNorm/moving_variance:0 from checkpoint /tmp/tfhub_modules/8d0633058d241900a3e5895be9e610592a5e1fac/variables/variables with resnet_v2_152/block3/unit_35/bottleneck_v2/conv2/BatchNorm/moving_variance\n",
            "INFO:tensorflow:Initialize variable module/resnet_v2_152/block3/unit_35/bottleneck_v2/conv2/weights:0 from checkpoint /tmp/tfhub_modules/8d0633058d241900a3e5895be9e610592a5e1fac/variables/variables with resnet_v2_152/block3/unit_35/bottleneck_v2/conv2/weights\n",
            "INFO:tensorflow:Initialize variable module/resnet_v2_152/block3/unit_35/bottleneck_v2/conv3/biases:0 from checkpoint /tmp/tfhub_modules/8d0633058d241900a3e5895be9e610592a5e1fac/variables/variables with resnet_v2_152/block3/unit_35/bottleneck_v2/conv3/biases\n",
            "INFO:tensorflow:Initialize variable module/resnet_v2_152/block3/unit_35/bottleneck_v2/conv3/weights:0 from checkpoint /tmp/tfhub_modules/8d0633058d241900a3e5895be9e610592a5e1fac/variables/variables with resnet_v2_152/block3/unit_35/bottleneck_v2/conv3/weights\n",
            "INFO:tensorflow:Initialize variable module/resnet_v2_152/block3/unit_35/bottleneck_v2/preact/beta:0 from checkpoint /tmp/tfhub_modules/8d0633058d241900a3e5895be9e610592a5e1fac/variables/variables with resnet_v2_152/block3/unit_35/bottleneck_v2/preact/beta\n",
            "INFO:tensorflow:Initialize variable module/resnet_v2_152/block3/unit_35/bottleneck_v2/preact/gamma:0 from checkpoint /tmp/tfhub_modules/8d0633058d241900a3e5895be9e610592a5e1fac/variables/variables with resnet_v2_152/block3/unit_35/bottleneck_v2/preact/gamma\n",
            "INFO:tensorflow:Initialize variable module/resnet_v2_152/block3/unit_35/bottleneck_v2/preact/moving_mean:0 from checkpoint /tmp/tfhub_modules/8d0633058d241900a3e5895be9e610592a5e1fac/variables/variables with resnet_v2_152/block3/unit_35/bottleneck_v2/preact/moving_mean\n",
            "INFO:tensorflow:Initialize variable module/resnet_v2_152/block3/unit_35/bottleneck_v2/preact/moving_variance:0 from checkpoint /tmp/tfhub_modules/8d0633058d241900a3e5895be9e610592a5e1fac/variables/variables with resnet_v2_152/block3/unit_35/bottleneck_v2/preact/moving_variance\n",
            "INFO:tensorflow:Initialize variable module/resnet_v2_152/block3/unit_36/bottleneck_v2/conv1/BatchNorm/beta:0 from checkpoint /tmp/tfhub_modules/8d0633058d241900a3e5895be9e610592a5e1fac/variables/variables with resnet_v2_152/block3/unit_36/bottleneck_v2/conv1/BatchNorm/beta\n",
            "INFO:tensorflow:Initialize variable module/resnet_v2_152/block3/unit_36/bottleneck_v2/conv1/BatchNorm/gamma:0 from checkpoint /tmp/tfhub_modules/8d0633058d241900a3e5895be9e610592a5e1fac/variables/variables with resnet_v2_152/block3/unit_36/bottleneck_v2/conv1/BatchNorm/gamma\n",
            "INFO:tensorflow:Initialize variable module/resnet_v2_152/block3/unit_36/bottleneck_v2/conv1/BatchNorm/moving_mean:0 from checkpoint /tmp/tfhub_modules/8d0633058d241900a3e5895be9e610592a5e1fac/variables/variables with resnet_v2_152/block3/unit_36/bottleneck_v2/conv1/BatchNorm/moving_mean\n"
          ],
          "name": "stdout"
        },
        {
          "output_type": "stream",
          "text": [
            "INFO:tensorflow:Initialize variable module/resnet_v2_152/block3/unit_36/bottleneck_v2/conv1/BatchNorm/moving_variance:0 from checkpoint /tmp/tfhub_modules/8d0633058d241900a3e5895be9e610592a5e1fac/variables/variables with resnet_v2_152/block3/unit_36/bottleneck_v2/conv1/BatchNorm/moving_variance\n",
            "INFO:tensorflow:Initialize variable module/resnet_v2_152/block3/unit_36/bottleneck_v2/conv1/weights:0 from checkpoint /tmp/tfhub_modules/8d0633058d241900a3e5895be9e610592a5e1fac/variables/variables with resnet_v2_152/block3/unit_36/bottleneck_v2/conv1/weights\n",
            "INFO:tensorflow:Initialize variable module/resnet_v2_152/block3/unit_36/bottleneck_v2/conv2/BatchNorm/beta:0 from checkpoint /tmp/tfhub_modules/8d0633058d241900a3e5895be9e610592a5e1fac/variables/variables with resnet_v2_152/block3/unit_36/bottleneck_v2/conv2/BatchNorm/beta\n",
            "INFO:tensorflow:Initialize variable module/resnet_v2_152/block3/unit_36/bottleneck_v2/conv2/BatchNorm/gamma:0 from checkpoint /tmp/tfhub_modules/8d0633058d241900a3e5895be9e610592a5e1fac/variables/variables with resnet_v2_152/block3/unit_36/bottleneck_v2/conv2/BatchNorm/gamma\n",
            "INFO:tensorflow:Initialize variable module/resnet_v2_152/block3/unit_36/bottleneck_v2/conv2/BatchNorm/moving_mean:0 from checkpoint /tmp/tfhub_modules/8d0633058d241900a3e5895be9e610592a5e1fac/variables/variables with resnet_v2_152/block3/unit_36/bottleneck_v2/conv2/BatchNorm/moving_mean\n",
            "INFO:tensorflow:Initialize variable module/resnet_v2_152/block3/unit_36/bottleneck_v2/conv2/BatchNorm/moving_variance:0 from checkpoint /tmp/tfhub_modules/8d0633058d241900a3e5895be9e610592a5e1fac/variables/variables with resnet_v2_152/block3/unit_36/bottleneck_v2/conv2/BatchNorm/moving_variance\n",
            "INFO:tensorflow:Initialize variable module/resnet_v2_152/block3/unit_36/bottleneck_v2/conv2/weights:0 from checkpoint /tmp/tfhub_modules/8d0633058d241900a3e5895be9e610592a5e1fac/variables/variables with resnet_v2_152/block3/unit_36/bottleneck_v2/conv2/weights\n",
            "INFO:tensorflow:Initialize variable module/resnet_v2_152/block3/unit_36/bottleneck_v2/conv3/biases:0 from checkpoint /tmp/tfhub_modules/8d0633058d241900a3e5895be9e610592a5e1fac/variables/variables with resnet_v2_152/block3/unit_36/bottleneck_v2/conv3/biases\n",
            "INFO:tensorflow:Initialize variable module/resnet_v2_152/block3/unit_36/bottleneck_v2/conv3/weights:0 from checkpoint /tmp/tfhub_modules/8d0633058d241900a3e5895be9e610592a5e1fac/variables/variables with resnet_v2_152/block3/unit_36/bottleneck_v2/conv3/weights\n",
            "INFO:tensorflow:Initialize variable module/resnet_v2_152/block3/unit_36/bottleneck_v2/preact/beta:0 from checkpoint /tmp/tfhub_modules/8d0633058d241900a3e5895be9e610592a5e1fac/variables/variables with resnet_v2_152/block3/unit_36/bottleneck_v2/preact/beta\n",
            "INFO:tensorflow:Initialize variable module/resnet_v2_152/block3/unit_36/bottleneck_v2/preact/gamma:0 from checkpoint /tmp/tfhub_modules/8d0633058d241900a3e5895be9e610592a5e1fac/variables/variables with resnet_v2_152/block3/unit_36/bottleneck_v2/preact/gamma\n",
            "INFO:tensorflow:Initialize variable module/resnet_v2_152/block3/unit_36/bottleneck_v2/preact/moving_mean:0 from checkpoint /tmp/tfhub_modules/8d0633058d241900a3e5895be9e610592a5e1fac/variables/variables with resnet_v2_152/block3/unit_36/bottleneck_v2/preact/moving_mean\n",
            "INFO:tensorflow:Initialize variable module/resnet_v2_152/block3/unit_36/bottleneck_v2/preact/moving_variance:0 from checkpoint /tmp/tfhub_modules/8d0633058d241900a3e5895be9e610592a5e1fac/variables/variables with resnet_v2_152/block3/unit_36/bottleneck_v2/preact/moving_variance\n",
            "INFO:tensorflow:Initialize variable module/resnet_v2_152/block3/unit_4/bottleneck_v2/conv1/BatchNorm/beta:0 from checkpoint /tmp/tfhub_modules/8d0633058d241900a3e5895be9e610592a5e1fac/variables/variables with resnet_v2_152/block3/unit_4/bottleneck_v2/conv1/BatchNorm/beta\n",
            "INFO:tensorflow:Initialize variable module/resnet_v2_152/block3/unit_4/bottleneck_v2/conv1/BatchNorm/gamma:0 from checkpoint /tmp/tfhub_modules/8d0633058d241900a3e5895be9e610592a5e1fac/variables/variables with resnet_v2_152/block3/unit_4/bottleneck_v2/conv1/BatchNorm/gamma\n",
            "INFO:tensorflow:Initialize variable module/resnet_v2_152/block3/unit_4/bottleneck_v2/conv1/BatchNorm/moving_mean:0 from checkpoint /tmp/tfhub_modules/8d0633058d241900a3e5895be9e610592a5e1fac/variables/variables with resnet_v2_152/block3/unit_4/bottleneck_v2/conv1/BatchNorm/moving_mean\n",
            "INFO:tensorflow:Initialize variable module/resnet_v2_152/block3/unit_4/bottleneck_v2/conv1/BatchNorm/moving_variance:0 from checkpoint /tmp/tfhub_modules/8d0633058d241900a3e5895be9e610592a5e1fac/variables/variables with resnet_v2_152/block3/unit_4/bottleneck_v2/conv1/BatchNorm/moving_variance\n",
            "INFO:tensorflow:Initialize variable module/resnet_v2_152/block3/unit_4/bottleneck_v2/conv1/weights:0 from checkpoint /tmp/tfhub_modules/8d0633058d241900a3e5895be9e610592a5e1fac/variables/variables with resnet_v2_152/block3/unit_4/bottleneck_v2/conv1/weights\n",
            "INFO:tensorflow:Initialize variable module/resnet_v2_152/block3/unit_4/bottleneck_v2/conv2/BatchNorm/beta:0 from checkpoint /tmp/tfhub_modules/8d0633058d241900a3e5895be9e610592a5e1fac/variables/variables with resnet_v2_152/block3/unit_4/bottleneck_v2/conv2/BatchNorm/beta\n",
            "INFO:tensorflow:Initialize variable module/resnet_v2_152/block3/unit_4/bottleneck_v2/conv2/BatchNorm/gamma:0 from checkpoint /tmp/tfhub_modules/8d0633058d241900a3e5895be9e610592a5e1fac/variables/variables with resnet_v2_152/block3/unit_4/bottleneck_v2/conv2/BatchNorm/gamma\n",
            "INFO:tensorflow:Initialize variable module/resnet_v2_152/block3/unit_4/bottleneck_v2/conv2/BatchNorm/moving_mean:0 from checkpoint /tmp/tfhub_modules/8d0633058d241900a3e5895be9e610592a5e1fac/variables/variables with resnet_v2_152/block3/unit_4/bottleneck_v2/conv2/BatchNorm/moving_mean\n",
            "INFO:tensorflow:Initialize variable module/resnet_v2_152/block3/unit_4/bottleneck_v2/conv2/BatchNorm/moving_variance:0 from checkpoint /tmp/tfhub_modules/8d0633058d241900a3e5895be9e610592a5e1fac/variables/variables with resnet_v2_152/block3/unit_4/bottleneck_v2/conv2/BatchNorm/moving_variance\n",
            "INFO:tensorflow:Initialize variable module/resnet_v2_152/block3/unit_4/bottleneck_v2/conv2/weights:0 from checkpoint /tmp/tfhub_modules/8d0633058d241900a3e5895be9e610592a5e1fac/variables/variables with resnet_v2_152/block3/unit_4/bottleneck_v2/conv2/weights\n",
            "INFO:tensorflow:Initialize variable module/resnet_v2_152/block3/unit_4/bottleneck_v2/conv3/biases:0 from checkpoint /tmp/tfhub_modules/8d0633058d241900a3e5895be9e610592a5e1fac/variables/variables with resnet_v2_152/block3/unit_4/bottleneck_v2/conv3/biases\n",
            "INFO:tensorflow:Initialize variable module/resnet_v2_152/block3/unit_4/bottleneck_v2/conv3/weights:0 from checkpoint /tmp/tfhub_modules/8d0633058d241900a3e5895be9e610592a5e1fac/variables/variables with resnet_v2_152/block3/unit_4/bottleneck_v2/conv3/weights\n",
            "INFO:tensorflow:Initialize variable module/resnet_v2_152/block3/unit_4/bottleneck_v2/preact/beta:0 from checkpoint /tmp/tfhub_modules/8d0633058d241900a3e5895be9e610592a5e1fac/variables/variables with resnet_v2_152/block3/unit_4/bottleneck_v2/preact/beta\n"
          ],
          "name": "stdout"
        },
        {
          "output_type": "stream",
          "text": [
            "INFO:tensorflow:Initialize variable module/resnet_v2_152/block3/unit_4/bottleneck_v2/preact/gamma:0 from checkpoint /tmp/tfhub_modules/8d0633058d241900a3e5895be9e610592a5e1fac/variables/variables with resnet_v2_152/block3/unit_4/bottleneck_v2/preact/gamma\n",
            "INFO:tensorflow:Initialize variable module/resnet_v2_152/block3/unit_4/bottleneck_v2/preact/moving_mean:0 from checkpoint /tmp/tfhub_modules/8d0633058d241900a3e5895be9e610592a5e1fac/variables/variables with resnet_v2_152/block3/unit_4/bottleneck_v2/preact/moving_mean\n",
            "INFO:tensorflow:Initialize variable module/resnet_v2_152/block3/unit_4/bottleneck_v2/preact/moving_variance:0 from checkpoint /tmp/tfhub_modules/8d0633058d241900a3e5895be9e610592a5e1fac/variables/variables with resnet_v2_152/block3/unit_4/bottleneck_v2/preact/moving_variance\n",
            "INFO:tensorflow:Initialize variable module/resnet_v2_152/block3/unit_5/bottleneck_v2/conv1/BatchNorm/beta:0 from checkpoint /tmp/tfhub_modules/8d0633058d241900a3e5895be9e610592a5e1fac/variables/variables with resnet_v2_152/block3/unit_5/bottleneck_v2/conv1/BatchNorm/beta\n",
            "INFO:tensorflow:Initialize variable module/resnet_v2_152/block3/unit_5/bottleneck_v2/conv1/BatchNorm/gamma:0 from checkpoint /tmp/tfhub_modules/8d0633058d241900a3e5895be9e610592a5e1fac/variables/variables with resnet_v2_152/block3/unit_5/bottleneck_v2/conv1/BatchNorm/gamma\n",
            "INFO:tensorflow:Initialize variable module/resnet_v2_152/block3/unit_5/bottleneck_v2/conv1/BatchNorm/moving_mean:0 from checkpoint /tmp/tfhub_modules/8d0633058d241900a3e5895be9e610592a5e1fac/variables/variables with resnet_v2_152/block3/unit_5/bottleneck_v2/conv1/BatchNorm/moving_mean\n",
            "INFO:tensorflow:Initialize variable module/resnet_v2_152/block3/unit_5/bottleneck_v2/conv1/BatchNorm/moving_variance:0 from checkpoint /tmp/tfhub_modules/8d0633058d241900a3e5895be9e610592a5e1fac/variables/variables with resnet_v2_152/block3/unit_5/bottleneck_v2/conv1/BatchNorm/moving_variance\n",
            "INFO:tensorflow:Initialize variable module/resnet_v2_152/block3/unit_5/bottleneck_v2/conv1/weights:0 from checkpoint /tmp/tfhub_modules/8d0633058d241900a3e5895be9e610592a5e1fac/variables/variables with resnet_v2_152/block3/unit_5/bottleneck_v2/conv1/weights\n",
            "INFO:tensorflow:Initialize variable module/resnet_v2_152/block3/unit_5/bottleneck_v2/conv2/BatchNorm/beta:0 from checkpoint /tmp/tfhub_modules/8d0633058d241900a3e5895be9e610592a5e1fac/variables/variables with resnet_v2_152/block3/unit_5/bottleneck_v2/conv2/BatchNorm/beta\n",
            "INFO:tensorflow:Initialize variable module/resnet_v2_152/block3/unit_5/bottleneck_v2/conv2/BatchNorm/gamma:0 from checkpoint /tmp/tfhub_modules/8d0633058d241900a3e5895be9e610592a5e1fac/variables/variables with resnet_v2_152/block3/unit_5/bottleneck_v2/conv2/BatchNorm/gamma\n",
            "INFO:tensorflow:Initialize variable module/resnet_v2_152/block3/unit_5/bottleneck_v2/conv2/BatchNorm/moving_mean:0 from checkpoint /tmp/tfhub_modules/8d0633058d241900a3e5895be9e610592a5e1fac/variables/variables with resnet_v2_152/block3/unit_5/bottleneck_v2/conv2/BatchNorm/moving_mean\n",
            "INFO:tensorflow:Initialize variable module/resnet_v2_152/block3/unit_5/bottleneck_v2/conv2/BatchNorm/moving_variance:0 from checkpoint /tmp/tfhub_modules/8d0633058d241900a3e5895be9e610592a5e1fac/variables/variables with resnet_v2_152/block3/unit_5/bottleneck_v2/conv2/BatchNorm/moving_variance\n",
            "INFO:tensorflow:Initialize variable module/resnet_v2_152/block3/unit_5/bottleneck_v2/conv2/weights:0 from checkpoint /tmp/tfhub_modules/8d0633058d241900a3e5895be9e610592a5e1fac/variables/variables with resnet_v2_152/block3/unit_5/bottleneck_v2/conv2/weights\n",
            "INFO:tensorflow:Initialize variable module/resnet_v2_152/block3/unit_5/bottleneck_v2/conv3/biases:0 from checkpoint /tmp/tfhub_modules/8d0633058d241900a3e5895be9e610592a5e1fac/variables/variables with resnet_v2_152/block3/unit_5/bottleneck_v2/conv3/biases\n",
            "INFO:tensorflow:Initialize variable module/resnet_v2_152/block3/unit_5/bottleneck_v2/conv3/weights:0 from checkpoint /tmp/tfhub_modules/8d0633058d241900a3e5895be9e610592a5e1fac/variables/variables with resnet_v2_152/block3/unit_5/bottleneck_v2/conv3/weights\n",
            "INFO:tensorflow:Initialize variable module/resnet_v2_152/block3/unit_5/bottleneck_v2/preact/beta:0 from checkpoint /tmp/tfhub_modules/8d0633058d241900a3e5895be9e610592a5e1fac/variables/variables with resnet_v2_152/block3/unit_5/bottleneck_v2/preact/beta\n",
            "INFO:tensorflow:Initialize variable module/resnet_v2_152/block3/unit_5/bottleneck_v2/preact/gamma:0 from checkpoint /tmp/tfhub_modules/8d0633058d241900a3e5895be9e610592a5e1fac/variables/variables with resnet_v2_152/block3/unit_5/bottleneck_v2/preact/gamma\n",
            "INFO:tensorflow:Initialize variable module/resnet_v2_152/block3/unit_5/bottleneck_v2/preact/moving_mean:0 from checkpoint /tmp/tfhub_modules/8d0633058d241900a3e5895be9e610592a5e1fac/variables/variables with resnet_v2_152/block3/unit_5/bottleneck_v2/preact/moving_mean\n",
            "INFO:tensorflow:Initialize variable module/resnet_v2_152/block3/unit_5/bottleneck_v2/preact/moving_variance:0 from checkpoint /tmp/tfhub_modules/8d0633058d241900a3e5895be9e610592a5e1fac/variables/variables with resnet_v2_152/block3/unit_5/bottleneck_v2/preact/moving_variance\n",
            "INFO:tensorflow:Initialize variable module/resnet_v2_152/block3/unit_6/bottleneck_v2/conv1/BatchNorm/beta:0 from checkpoint /tmp/tfhub_modules/8d0633058d241900a3e5895be9e610592a5e1fac/variables/variables with resnet_v2_152/block3/unit_6/bottleneck_v2/conv1/BatchNorm/beta\n",
            "INFO:tensorflow:Initialize variable module/resnet_v2_152/block3/unit_6/bottleneck_v2/conv1/BatchNorm/gamma:0 from checkpoint /tmp/tfhub_modules/8d0633058d241900a3e5895be9e610592a5e1fac/variables/variables with resnet_v2_152/block3/unit_6/bottleneck_v2/conv1/BatchNorm/gamma\n",
            "INFO:tensorflow:Initialize variable module/resnet_v2_152/block3/unit_6/bottleneck_v2/conv1/BatchNorm/moving_mean:0 from checkpoint /tmp/tfhub_modules/8d0633058d241900a3e5895be9e610592a5e1fac/variables/variables with resnet_v2_152/block3/unit_6/bottleneck_v2/conv1/BatchNorm/moving_mean\n",
            "INFO:tensorflow:Initialize variable module/resnet_v2_152/block3/unit_6/bottleneck_v2/conv1/BatchNorm/moving_variance:0 from checkpoint /tmp/tfhub_modules/8d0633058d241900a3e5895be9e610592a5e1fac/variables/variables with resnet_v2_152/block3/unit_6/bottleneck_v2/conv1/BatchNorm/moving_variance\n",
            "INFO:tensorflow:Initialize variable module/resnet_v2_152/block3/unit_6/bottleneck_v2/conv1/weights:0 from checkpoint /tmp/tfhub_modules/8d0633058d241900a3e5895be9e610592a5e1fac/variables/variables with resnet_v2_152/block3/unit_6/bottleneck_v2/conv1/weights\n",
            "INFO:tensorflow:Initialize variable module/resnet_v2_152/block3/unit_6/bottleneck_v2/conv2/BatchNorm/beta:0 from checkpoint /tmp/tfhub_modules/8d0633058d241900a3e5895be9e610592a5e1fac/variables/variables with resnet_v2_152/block3/unit_6/bottleneck_v2/conv2/BatchNorm/beta\n",
            "INFO:tensorflow:Initialize variable module/resnet_v2_152/block3/unit_6/bottleneck_v2/conv2/BatchNorm/gamma:0 from checkpoint /tmp/tfhub_modules/8d0633058d241900a3e5895be9e610592a5e1fac/variables/variables with resnet_v2_152/block3/unit_6/bottleneck_v2/conv2/BatchNorm/gamma\n"
          ],
          "name": "stdout"
        },
        {
          "output_type": "stream",
          "text": [
            "INFO:tensorflow:Initialize variable module/resnet_v2_152/block3/unit_6/bottleneck_v2/conv2/BatchNorm/moving_mean:0 from checkpoint /tmp/tfhub_modules/8d0633058d241900a3e5895be9e610592a5e1fac/variables/variables with resnet_v2_152/block3/unit_6/bottleneck_v2/conv2/BatchNorm/moving_mean\n",
            "INFO:tensorflow:Initialize variable module/resnet_v2_152/block3/unit_6/bottleneck_v2/conv2/BatchNorm/moving_variance:0 from checkpoint /tmp/tfhub_modules/8d0633058d241900a3e5895be9e610592a5e1fac/variables/variables with resnet_v2_152/block3/unit_6/bottleneck_v2/conv2/BatchNorm/moving_variance\n",
            "INFO:tensorflow:Initialize variable module/resnet_v2_152/block3/unit_6/bottleneck_v2/conv2/weights:0 from checkpoint /tmp/tfhub_modules/8d0633058d241900a3e5895be9e610592a5e1fac/variables/variables with resnet_v2_152/block3/unit_6/bottleneck_v2/conv2/weights\n",
            "INFO:tensorflow:Initialize variable module/resnet_v2_152/block3/unit_6/bottleneck_v2/conv3/biases:0 from checkpoint /tmp/tfhub_modules/8d0633058d241900a3e5895be9e610592a5e1fac/variables/variables with resnet_v2_152/block3/unit_6/bottleneck_v2/conv3/biases\n",
            "INFO:tensorflow:Initialize variable module/resnet_v2_152/block3/unit_6/bottleneck_v2/conv3/weights:0 from checkpoint /tmp/tfhub_modules/8d0633058d241900a3e5895be9e610592a5e1fac/variables/variables with resnet_v2_152/block3/unit_6/bottleneck_v2/conv3/weights\n",
            "INFO:tensorflow:Initialize variable module/resnet_v2_152/block3/unit_6/bottleneck_v2/preact/beta:0 from checkpoint /tmp/tfhub_modules/8d0633058d241900a3e5895be9e610592a5e1fac/variables/variables with resnet_v2_152/block3/unit_6/bottleneck_v2/preact/beta\n",
            "INFO:tensorflow:Initialize variable module/resnet_v2_152/block3/unit_6/bottleneck_v2/preact/gamma:0 from checkpoint /tmp/tfhub_modules/8d0633058d241900a3e5895be9e610592a5e1fac/variables/variables with resnet_v2_152/block3/unit_6/bottleneck_v2/preact/gamma\n",
            "INFO:tensorflow:Initialize variable module/resnet_v2_152/block3/unit_6/bottleneck_v2/preact/moving_mean:0 from checkpoint /tmp/tfhub_modules/8d0633058d241900a3e5895be9e610592a5e1fac/variables/variables with resnet_v2_152/block3/unit_6/bottleneck_v2/preact/moving_mean\n",
            "INFO:tensorflow:Initialize variable module/resnet_v2_152/block3/unit_6/bottleneck_v2/preact/moving_variance:0 from checkpoint /tmp/tfhub_modules/8d0633058d241900a3e5895be9e610592a5e1fac/variables/variables with resnet_v2_152/block3/unit_6/bottleneck_v2/preact/moving_variance\n",
            "INFO:tensorflow:Initialize variable module/resnet_v2_152/block3/unit_7/bottleneck_v2/conv1/BatchNorm/beta:0 from checkpoint /tmp/tfhub_modules/8d0633058d241900a3e5895be9e610592a5e1fac/variables/variables with resnet_v2_152/block3/unit_7/bottleneck_v2/conv1/BatchNorm/beta\n",
            "INFO:tensorflow:Initialize variable module/resnet_v2_152/block3/unit_7/bottleneck_v2/conv1/BatchNorm/gamma:0 from checkpoint /tmp/tfhub_modules/8d0633058d241900a3e5895be9e610592a5e1fac/variables/variables with resnet_v2_152/block3/unit_7/bottleneck_v2/conv1/BatchNorm/gamma\n",
            "INFO:tensorflow:Initialize variable module/resnet_v2_152/block3/unit_7/bottleneck_v2/conv1/BatchNorm/moving_mean:0 from checkpoint /tmp/tfhub_modules/8d0633058d241900a3e5895be9e610592a5e1fac/variables/variables with resnet_v2_152/block3/unit_7/bottleneck_v2/conv1/BatchNorm/moving_mean\n",
            "INFO:tensorflow:Initialize variable module/resnet_v2_152/block3/unit_7/bottleneck_v2/conv1/BatchNorm/moving_variance:0 from checkpoint /tmp/tfhub_modules/8d0633058d241900a3e5895be9e610592a5e1fac/variables/variables with resnet_v2_152/block3/unit_7/bottleneck_v2/conv1/BatchNorm/moving_variance\n",
            "INFO:tensorflow:Initialize variable module/resnet_v2_152/block3/unit_7/bottleneck_v2/conv1/weights:0 from checkpoint /tmp/tfhub_modules/8d0633058d241900a3e5895be9e610592a5e1fac/variables/variables with resnet_v2_152/block3/unit_7/bottleneck_v2/conv1/weights\n",
            "INFO:tensorflow:Initialize variable module/resnet_v2_152/block3/unit_7/bottleneck_v2/conv2/BatchNorm/beta:0 from checkpoint /tmp/tfhub_modules/8d0633058d241900a3e5895be9e610592a5e1fac/variables/variables with resnet_v2_152/block3/unit_7/bottleneck_v2/conv2/BatchNorm/beta\n",
            "INFO:tensorflow:Initialize variable module/resnet_v2_152/block3/unit_7/bottleneck_v2/conv2/BatchNorm/gamma:0 from checkpoint /tmp/tfhub_modules/8d0633058d241900a3e5895be9e610592a5e1fac/variables/variables with resnet_v2_152/block3/unit_7/bottleneck_v2/conv2/BatchNorm/gamma\n",
            "INFO:tensorflow:Initialize variable module/resnet_v2_152/block3/unit_7/bottleneck_v2/conv2/BatchNorm/moving_mean:0 from checkpoint /tmp/tfhub_modules/8d0633058d241900a3e5895be9e610592a5e1fac/variables/variables with resnet_v2_152/block3/unit_7/bottleneck_v2/conv2/BatchNorm/moving_mean\n",
            "INFO:tensorflow:Initialize variable module/resnet_v2_152/block3/unit_7/bottleneck_v2/conv2/BatchNorm/moving_variance:0 from checkpoint /tmp/tfhub_modules/8d0633058d241900a3e5895be9e610592a5e1fac/variables/variables with resnet_v2_152/block3/unit_7/bottleneck_v2/conv2/BatchNorm/moving_variance\n",
            "INFO:tensorflow:Initialize variable module/resnet_v2_152/block3/unit_7/bottleneck_v2/conv2/weights:0 from checkpoint /tmp/tfhub_modules/8d0633058d241900a3e5895be9e610592a5e1fac/variables/variables with resnet_v2_152/block3/unit_7/bottleneck_v2/conv2/weights\n",
            "INFO:tensorflow:Initialize variable module/resnet_v2_152/block3/unit_7/bottleneck_v2/conv3/biases:0 from checkpoint /tmp/tfhub_modules/8d0633058d241900a3e5895be9e610592a5e1fac/variables/variables with resnet_v2_152/block3/unit_7/bottleneck_v2/conv3/biases\n",
            "INFO:tensorflow:Initialize variable module/resnet_v2_152/block3/unit_7/bottleneck_v2/conv3/weights:0 from checkpoint /tmp/tfhub_modules/8d0633058d241900a3e5895be9e610592a5e1fac/variables/variables with resnet_v2_152/block3/unit_7/bottleneck_v2/conv3/weights\n",
            "INFO:tensorflow:Initialize variable module/resnet_v2_152/block3/unit_7/bottleneck_v2/preact/beta:0 from checkpoint /tmp/tfhub_modules/8d0633058d241900a3e5895be9e610592a5e1fac/variables/variables with resnet_v2_152/block3/unit_7/bottleneck_v2/preact/beta\n",
            "INFO:tensorflow:Initialize variable module/resnet_v2_152/block3/unit_7/bottleneck_v2/preact/gamma:0 from checkpoint /tmp/tfhub_modules/8d0633058d241900a3e5895be9e610592a5e1fac/variables/variables with resnet_v2_152/block3/unit_7/bottleneck_v2/preact/gamma\n",
            "INFO:tensorflow:Initialize variable module/resnet_v2_152/block3/unit_7/bottleneck_v2/preact/moving_mean:0 from checkpoint /tmp/tfhub_modules/8d0633058d241900a3e5895be9e610592a5e1fac/variables/variables with resnet_v2_152/block3/unit_7/bottleneck_v2/preact/moving_mean\n",
            "INFO:tensorflow:Initialize variable module/resnet_v2_152/block3/unit_7/bottleneck_v2/preact/moving_variance:0 from checkpoint /tmp/tfhub_modules/8d0633058d241900a3e5895be9e610592a5e1fac/variables/variables with resnet_v2_152/block3/unit_7/bottleneck_v2/preact/moving_variance\n",
            "INFO:tensorflow:Initialize variable module/resnet_v2_152/block3/unit_8/bottleneck_v2/conv1/BatchNorm/beta:0 from checkpoint /tmp/tfhub_modules/8d0633058d241900a3e5895be9e610592a5e1fac/variables/variables with resnet_v2_152/block3/unit_8/bottleneck_v2/conv1/BatchNorm/beta\n"
          ],
          "name": "stdout"
        },
        {
          "output_type": "stream",
          "text": [
            "INFO:tensorflow:Initialize variable module/resnet_v2_152/block3/unit_8/bottleneck_v2/conv1/BatchNorm/gamma:0 from checkpoint /tmp/tfhub_modules/8d0633058d241900a3e5895be9e610592a5e1fac/variables/variables with resnet_v2_152/block3/unit_8/bottleneck_v2/conv1/BatchNorm/gamma\n",
            "INFO:tensorflow:Initialize variable module/resnet_v2_152/block3/unit_8/bottleneck_v2/conv1/BatchNorm/moving_mean:0 from checkpoint /tmp/tfhub_modules/8d0633058d241900a3e5895be9e610592a5e1fac/variables/variables with resnet_v2_152/block3/unit_8/bottleneck_v2/conv1/BatchNorm/moving_mean\n",
            "INFO:tensorflow:Initialize variable module/resnet_v2_152/block3/unit_8/bottleneck_v2/conv1/BatchNorm/moving_variance:0 from checkpoint /tmp/tfhub_modules/8d0633058d241900a3e5895be9e610592a5e1fac/variables/variables with resnet_v2_152/block3/unit_8/bottleneck_v2/conv1/BatchNorm/moving_variance\n",
            "INFO:tensorflow:Initialize variable module/resnet_v2_152/block3/unit_8/bottleneck_v2/conv1/weights:0 from checkpoint /tmp/tfhub_modules/8d0633058d241900a3e5895be9e610592a5e1fac/variables/variables with resnet_v2_152/block3/unit_8/bottleneck_v2/conv1/weights\n",
            "INFO:tensorflow:Initialize variable module/resnet_v2_152/block3/unit_8/bottleneck_v2/conv2/BatchNorm/beta:0 from checkpoint /tmp/tfhub_modules/8d0633058d241900a3e5895be9e610592a5e1fac/variables/variables with resnet_v2_152/block3/unit_8/bottleneck_v2/conv2/BatchNorm/beta\n",
            "INFO:tensorflow:Initialize variable module/resnet_v2_152/block3/unit_8/bottleneck_v2/conv2/BatchNorm/gamma:0 from checkpoint /tmp/tfhub_modules/8d0633058d241900a3e5895be9e610592a5e1fac/variables/variables with resnet_v2_152/block3/unit_8/bottleneck_v2/conv2/BatchNorm/gamma\n",
            "INFO:tensorflow:Initialize variable module/resnet_v2_152/block3/unit_8/bottleneck_v2/conv2/BatchNorm/moving_mean:0 from checkpoint /tmp/tfhub_modules/8d0633058d241900a3e5895be9e610592a5e1fac/variables/variables with resnet_v2_152/block3/unit_8/bottleneck_v2/conv2/BatchNorm/moving_mean\n",
            "INFO:tensorflow:Initialize variable module/resnet_v2_152/block3/unit_8/bottleneck_v2/conv2/BatchNorm/moving_variance:0 from checkpoint /tmp/tfhub_modules/8d0633058d241900a3e5895be9e610592a5e1fac/variables/variables with resnet_v2_152/block3/unit_8/bottleneck_v2/conv2/BatchNorm/moving_variance\n",
            "INFO:tensorflow:Initialize variable module/resnet_v2_152/block3/unit_8/bottleneck_v2/conv2/weights:0 from checkpoint /tmp/tfhub_modules/8d0633058d241900a3e5895be9e610592a5e1fac/variables/variables with resnet_v2_152/block3/unit_8/bottleneck_v2/conv2/weights\n",
            "INFO:tensorflow:Initialize variable module/resnet_v2_152/block3/unit_8/bottleneck_v2/conv3/biases:0 from checkpoint /tmp/tfhub_modules/8d0633058d241900a3e5895be9e610592a5e1fac/variables/variables with resnet_v2_152/block3/unit_8/bottleneck_v2/conv3/biases\n",
            "INFO:tensorflow:Initialize variable module/resnet_v2_152/block3/unit_8/bottleneck_v2/conv3/weights:0 from checkpoint /tmp/tfhub_modules/8d0633058d241900a3e5895be9e610592a5e1fac/variables/variables with resnet_v2_152/block3/unit_8/bottleneck_v2/conv3/weights\n",
            "INFO:tensorflow:Initialize variable module/resnet_v2_152/block3/unit_8/bottleneck_v2/preact/beta:0 from checkpoint /tmp/tfhub_modules/8d0633058d241900a3e5895be9e610592a5e1fac/variables/variables with resnet_v2_152/block3/unit_8/bottleneck_v2/preact/beta\n",
            "INFO:tensorflow:Initialize variable module/resnet_v2_152/block3/unit_8/bottleneck_v2/preact/gamma:0 from checkpoint /tmp/tfhub_modules/8d0633058d241900a3e5895be9e610592a5e1fac/variables/variables with resnet_v2_152/block3/unit_8/bottleneck_v2/preact/gamma\n",
            "INFO:tensorflow:Initialize variable module/resnet_v2_152/block3/unit_8/bottleneck_v2/preact/moving_mean:0 from checkpoint /tmp/tfhub_modules/8d0633058d241900a3e5895be9e610592a5e1fac/variables/variables with resnet_v2_152/block3/unit_8/bottleneck_v2/preact/moving_mean\n",
            "INFO:tensorflow:Initialize variable module/resnet_v2_152/block3/unit_8/bottleneck_v2/preact/moving_variance:0 from checkpoint /tmp/tfhub_modules/8d0633058d241900a3e5895be9e610592a5e1fac/variables/variables with resnet_v2_152/block3/unit_8/bottleneck_v2/preact/moving_variance\n",
            "INFO:tensorflow:Initialize variable module/resnet_v2_152/block3/unit_9/bottleneck_v2/conv1/BatchNorm/beta:0 from checkpoint /tmp/tfhub_modules/8d0633058d241900a3e5895be9e610592a5e1fac/variables/variables with resnet_v2_152/block3/unit_9/bottleneck_v2/conv1/BatchNorm/beta\n",
            "INFO:tensorflow:Initialize variable module/resnet_v2_152/block3/unit_9/bottleneck_v2/conv1/BatchNorm/gamma:0 from checkpoint /tmp/tfhub_modules/8d0633058d241900a3e5895be9e610592a5e1fac/variables/variables with resnet_v2_152/block3/unit_9/bottleneck_v2/conv1/BatchNorm/gamma\n",
            "INFO:tensorflow:Initialize variable module/resnet_v2_152/block3/unit_9/bottleneck_v2/conv1/BatchNorm/moving_mean:0 from checkpoint /tmp/tfhub_modules/8d0633058d241900a3e5895be9e610592a5e1fac/variables/variables with resnet_v2_152/block3/unit_9/bottleneck_v2/conv1/BatchNorm/moving_mean\n",
            "INFO:tensorflow:Initialize variable module/resnet_v2_152/block3/unit_9/bottleneck_v2/conv1/BatchNorm/moving_variance:0 from checkpoint /tmp/tfhub_modules/8d0633058d241900a3e5895be9e610592a5e1fac/variables/variables with resnet_v2_152/block3/unit_9/bottleneck_v2/conv1/BatchNorm/moving_variance\n",
            "INFO:tensorflow:Initialize variable module/resnet_v2_152/block3/unit_9/bottleneck_v2/conv1/weights:0 from checkpoint /tmp/tfhub_modules/8d0633058d241900a3e5895be9e610592a5e1fac/variables/variables with resnet_v2_152/block3/unit_9/bottleneck_v2/conv1/weights\n",
            "INFO:tensorflow:Initialize variable module/resnet_v2_152/block3/unit_9/bottleneck_v2/conv2/BatchNorm/beta:0 from checkpoint /tmp/tfhub_modules/8d0633058d241900a3e5895be9e610592a5e1fac/variables/variables with resnet_v2_152/block3/unit_9/bottleneck_v2/conv2/BatchNorm/beta\n",
            "INFO:tensorflow:Initialize variable module/resnet_v2_152/block3/unit_9/bottleneck_v2/conv2/BatchNorm/gamma:0 from checkpoint /tmp/tfhub_modules/8d0633058d241900a3e5895be9e610592a5e1fac/variables/variables with resnet_v2_152/block3/unit_9/bottleneck_v2/conv2/BatchNorm/gamma\n",
            "INFO:tensorflow:Initialize variable module/resnet_v2_152/block3/unit_9/bottleneck_v2/conv2/BatchNorm/moving_mean:0 from checkpoint /tmp/tfhub_modules/8d0633058d241900a3e5895be9e610592a5e1fac/variables/variables with resnet_v2_152/block3/unit_9/bottleneck_v2/conv2/BatchNorm/moving_mean\n",
            "INFO:tensorflow:Initialize variable module/resnet_v2_152/block3/unit_9/bottleneck_v2/conv2/BatchNorm/moving_variance:0 from checkpoint /tmp/tfhub_modules/8d0633058d241900a3e5895be9e610592a5e1fac/variables/variables with resnet_v2_152/block3/unit_9/bottleneck_v2/conv2/BatchNorm/moving_variance\n",
            "INFO:tensorflow:Initialize variable module/resnet_v2_152/block3/unit_9/bottleneck_v2/conv2/weights:0 from checkpoint /tmp/tfhub_modules/8d0633058d241900a3e5895be9e610592a5e1fac/variables/variables with resnet_v2_152/block3/unit_9/bottleneck_v2/conv2/weights\n",
            "INFO:tensorflow:Initialize variable module/resnet_v2_152/block3/unit_9/bottleneck_v2/conv3/biases:0 from checkpoint /tmp/tfhub_modules/8d0633058d241900a3e5895be9e610592a5e1fac/variables/variables with resnet_v2_152/block3/unit_9/bottleneck_v2/conv3/biases\n"
          ],
          "name": "stdout"
        },
        {
          "output_type": "stream",
          "text": [
            "INFO:tensorflow:Initialize variable module/resnet_v2_152/block3/unit_9/bottleneck_v2/conv3/weights:0 from checkpoint /tmp/tfhub_modules/8d0633058d241900a3e5895be9e610592a5e1fac/variables/variables with resnet_v2_152/block3/unit_9/bottleneck_v2/conv3/weights\n",
            "INFO:tensorflow:Initialize variable module/resnet_v2_152/block3/unit_9/bottleneck_v2/preact/beta:0 from checkpoint /tmp/tfhub_modules/8d0633058d241900a3e5895be9e610592a5e1fac/variables/variables with resnet_v2_152/block3/unit_9/bottleneck_v2/preact/beta\n",
            "INFO:tensorflow:Initialize variable module/resnet_v2_152/block3/unit_9/bottleneck_v2/preact/gamma:0 from checkpoint /tmp/tfhub_modules/8d0633058d241900a3e5895be9e610592a5e1fac/variables/variables with resnet_v2_152/block3/unit_9/bottleneck_v2/preact/gamma\n",
            "INFO:tensorflow:Initialize variable module/resnet_v2_152/block3/unit_9/bottleneck_v2/preact/moving_mean:0 from checkpoint /tmp/tfhub_modules/8d0633058d241900a3e5895be9e610592a5e1fac/variables/variables with resnet_v2_152/block3/unit_9/bottleneck_v2/preact/moving_mean\n",
            "INFO:tensorflow:Initialize variable module/resnet_v2_152/block3/unit_9/bottleneck_v2/preact/moving_variance:0 from checkpoint /tmp/tfhub_modules/8d0633058d241900a3e5895be9e610592a5e1fac/variables/variables with resnet_v2_152/block3/unit_9/bottleneck_v2/preact/moving_variance\n",
            "INFO:tensorflow:Initialize variable module/resnet_v2_152/block4/unit_1/bottleneck_v2/conv1/BatchNorm/beta:0 from checkpoint /tmp/tfhub_modules/8d0633058d241900a3e5895be9e610592a5e1fac/variables/variables with resnet_v2_152/block4/unit_1/bottleneck_v2/conv1/BatchNorm/beta\n",
            "INFO:tensorflow:Initialize variable module/resnet_v2_152/block4/unit_1/bottleneck_v2/conv1/BatchNorm/gamma:0 from checkpoint /tmp/tfhub_modules/8d0633058d241900a3e5895be9e610592a5e1fac/variables/variables with resnet_v2_152/block4/unit_1/bottleneck_v2/conv1/BatchNorm/gamma\n",
            "INFO:tensorflow:Initialize variable module/resnet_v2_152/block4/unit_1/bottleneck_v2/conv1/BatchNorm/moving_mean:0 from checkpoint /tmp/tfhub_modules/8d0633058d241900a3e5895be9e610592a5e1fac/variables/variables with resnet_v2_152/block4/unit_1/bottleneck_v2/conv1/BatchNorm/moving_mean\n",
            "INFO:tensorflow:Initialize variable module/resnet_v2_152/block4/unit_1/bottleneck_v2/conv1/BatchNorm/moving_variance:0 from checkpoint /tmp/tfhub_modules/8d0633058d241900a3e5895be9e610592a5e1fac/variables/variables with resnet_v2_152/block4/unit_1/bottleneck_v2/conv1/BatchNorm/moving_variance\n",
            "INFO:tensorflow:Initialize variable module/resnet_v2_152/block4/unit_1/bottleneck_v2/conv1/weights:0 from checkpoint /tmp/tfhub_modules/8d0633058d241900a3e5895be9e610592a5e1fac/variables/variables with resnet_v2_152/block4/unit_1/bottleneck_v2/conv1/weights\n",
            "INFO:tensorflow:Initialize variable module/resnet_v2_152/block4/unit_1/bottleneck_v2/conv2/BatchNorm/beta:0 from checkpoint /tmp/tfhub_modules/8d0633058d241900a3e5895be9e610592a5e1fac/variables/variables with resnet_v2_152/block4/unit_1/bottleneck_v2/conv2/BatchNorm/beta\n",
            "INFO:tensorflow:Initialize variable module/resnet_v2_152/block4/unit_1/bottleneck_v2/conv2/BatchNorm/gamma:0 from checkpoint /tmp/tfhub_modules/8d0633058d241900a3e5895be9e610592a5e1fac/variables/variables with resnet_v2_152/block4/unit_1/bottleneck_v2/conv2/BatchNorm/gamma\n",
            "INFO:tensorflow:Initialize variable module/resnet_v2_152/block4/unit_1/bottleneck_v2/conv2/BatchNorm/moving_mean:0 from checkpoint /tmp/tfhub_modules/8d0633058d241900a3e5895be9e610592a5e1fac/variables/variables with resnet_v2_152/block4/unit_1/bottleneck_v2/conv2/BatchNorm/moving_mean\n",
            "INFO:tensorflow:Initialize variable module/resnet_v2_152/block4/unit_1/bottleneck_v2/conv2/BatchNorm/moving_variance:0 from checkpoint /tmp/tfhub_modules/8d0633058d241900a3e5895be9e610592a5e1fac/variables/variables with resnet_v2_152/block4/unit_1/bottleneck_v2/conv2/BatchNorm/moving_variance\n",
            "INFO:tensorflow:Initialize variable module/resnet_v2_152/block4/unit_1/bottleneck_v2/conv2/weights:0 from checkpoint /tmp/tfhub_modules/8d0633058d241900a3e5895be9e610592a5e1fac/variables/variables with resnet_v2_152/block4/unit_1/bottleneck_v2/conv2/weights\n",
            "INFO:tensorflow:Initialize variable module/resnet_v2_152/block4/unit_1/bottleneck_v2/conv3/biases:0 from checkpoint /tmp/tfhub_modules/8d0633058d241900a3e5895be9e610592a5e1fac/variables/variables with resnet_v2_152/block4/unit_1/bottleneck_v2/conv3/biases\n",
            "INFO:tensorflow:Initialize variable module/resnet_v2_152/block4/unit_1/bottleneck_v2/conv3/weights:0 from checkpoint /tmp/tfhub_modules/8d0633058d241900a3e5895be9e610592a5e1fac/variables/variables with resnet_v2_152/block4/unit_1/bottleneck_v2/conv3/weights\n",
            "INFO:tensorflow:Initialize variable module/resnet_v2_152/block4/unit_1/bottleneck_v2/preact/beta:0 from checkpoint /tmp/tfhub_modules/8d0633058d241900a3e5895be9e610592a5e1fac/variables/variables with resnet_v2_152/block4/unit_1/bottleneck_v2/preact/beta\n",
            "INFO:tensorflow:Initialize variable module/resnet_v2_152/block4/unit_1/bottleneck_v2/preact/gamma:0 from checkpoint /tmp/tfhub_modules/8d0633058d241900a3e5895be9e610592a5e1fac/variables/variables with resnet_v2_152/block4/unit_1/bottleneck_v2/preact/gamma\n",
            "INFO:tensorflow:Initialize variable module/resnet_v2_152/block4/unit_1/bottleneck_v2/preact/moving_mean:0 from checkpoint /tmp/tfhub_modules/8d0633058d241900a3e5895be9e610592a5e1fac/variables/variables with resnet_v2_152/block4/unit_1/bottleneck_v2/preact/moving_mean\n",
            "INFO:tensorflow:Initialize variable module/resnet_v2_152/block4/unit_1/bottleneck_v2/preact/moving_variance:0 from checkpoint /tmp/tfhub_modules/8d0633058d241900a3e5895be9e610592a5e1fac/variables/variables with resnet_v2_152/block4/unit_1/bottleneck_v2/preact/moving_variance\n",
            "INFO:tensorflow:Initialize variable module/resnet_v2_152/block4/unit_1/bottleneck_v2/shortcut/biases:0 from checkpoint /tmp/tfhub_modules/8d0633058d241900a3e5895be9e610592a5e1fac/variables/variables with resnet_v2_152/block4/unit_1/bottleneck_v2/shortcut/biases\n",
            "INFO:tensorflow:Initialize variable module/resnet_v2_152/block4/unit_1/bottleneck_v2/shortcut/weights:0 from checkpoint /tmp/tfhub_modules/8d0633058d241900a3e5895be9e610592a5e1fac/variables/variables with resnet_v2_152/block4/unit_1/bottleneck_v2/shortcut/weights\n",
            "INFO:tensorflow:Initialize variable module/resnet_v2_152/block4/unit_2/bottleneck_v2/conv1/BatchNorm/beta:0 from checkpoint /tmp/tfhub_modules/8d0633058d241900a3e5895be9e610592a5e1fac/variables/variables with resnet_v2_152/block4/unit_2/bottleneck_v2/conv1/BatchNorm/beta\n",
            "INFO:tensorflow:Initialize variable module/resnet_v2_152/block4/unit_2/bottleneck_v2/conv1/BatchNorm/gamma:0 from checkpoint /tmp/tfhub_modules/8d0633058d241900a3e5895be9e610592a5e1fac/variables/variables with resnet_v2_152/block4/unit_2/bottleneck_v2/conv1/BatchNorm/gamma\n",
            "INFO:tensorflow:Initialize variable module/resnet_v2_152/block4/unit_2/bottleneck_v2/conv1/BatchNorm/moving_mean:0 from checkpoint /tmp/tfhub_modules/8d0633058d241900a3e5895be9e610592a5e1fac/variables/variables with resnet_v2_152/block4/unit_2/bottleneck_v2/conv1/BatchNorm/moving_mean\n"
          ],
          "name": "stdout"
        },
        {
          "output_type": "stream",
          "text": [
            "INFO:tensorflow:Initialize variable module/resnet_v2_152/block4/unit_2/bottleneck_v2/conv1/BatchNorm/moving_variance:0 from checkpoint /tmp/tfhub_modules/8d0633058d241900a3e5895be9e610592a5e1fac/variables/variables with resnet_v2_152/block4/unit_2/bottleneck_v2/conv1/BatchNorm/moving_variance\n",
            "INFO:tensorflow:Initialize variable module/resnet_v2_152/block4/unit_2/bottleneck_v2/conv1/weights:0 from checkpoint /tmp/tfhub_modules/8d0633058d241900a3e5895be9e610592a5e1fac/variables/variables with resnet_v2_152/block4/unit_2/bottleneck_v2/conv1/weights\n",
            "INFO:tensorflow:Initialize variable module/resnet_v2_152/block4/unit_2/bottleneck_v2/conv2/BatchNorm/beta:0 from checkpoint /tmp/tfhub_modules/8d0633058d241900a3e5895be9e610592a5e1fac/variables/variables with resnet_v2_152/block4/unit_2/bottleneck_v2/conv2/BatchNorm/beta\n",
            "INFO:tensorflow:Initialize variable module/resnet_v2_152/block4/unit_2/bottleneck_v2/conv2/BatchNorm/gamma:0 from checkpoint /tmp/tfhub_modules/8d0633058d241900a3e5895be9e610592a5e1fac/variables/variables with resnet_v2_152/block4/unit_2/bottleneck_v2/conv2/BatchNorm/gamma\n",
            "INFO:tensorflow:Initialize variable module/resnet_v2_152/block4/unit_2/bottleneck_v2/conv2/BatchNorm/moving_mean:0 from checkpoint /tmp/tfhub_modules/8d0633058d241900a3e5895be9e610592a5e1fac/variables/variables with resnet_v2_152/block4/unit_2/bottleneck_v2/conv2/BatchNorm/moving_mean\n",
            "INFO:tensorflow:Initialize variable module/resnet_v2_152/block4/unit_2/bottleneck_v2/conv2/BatchNorm/moving_variance:0 from checkpoint /tmp/tfhub_modules/8d0633058d241900a3e5895be9e610592a5e1fac/variables/variables with resnet_v2_152/block4/unit_2/bottleneck_v2/conv2/BatchNorm/moving_variance\n",
            "INFO:tensorflow:Initialize variable module/resnet_v2_152/block4/unit_2/bottleneck_v2/conv2/weights:0 from checkpoint /tmp/tfhub_modules/8d0633058d241900a3e5895be9e610592a5e1fac/variables/variables with resnet_v2_152/block4/unit_2/bottleneck_v2/conv2/weights\n",
            "INFO:tensorflow:Initialize variable module/resnet_v2_152/block4/unit_2/bottleneck_v2/conv3/biases:0 from checkpoint /tmp/tfhub_modules/8d0633058d241900a3e5895be9e610592a5e1fac/variables/variables with resnet_v2_152/block4/unit_2/bottleneck_v2/conv3/biases\n",
            "INFO:tensorflow:Initialize variable module/resnet_v2_152/block4/unit_2/bottleneck_v2/conv3/weights:0 from checkpoint /tmp/tfhub_modules/8d0633058d241900a3e5895be9e610592a5e1fac/variables/variables with resnet_v2_152/block4/unit_2/bottleneck_v2/conv3/weights\n",
            "INFO:tensorflow:Initialize variable module/resnet_v2_152/block4/unit_2/bottleneck_v2/preact/beta:0 from checkpoint /tmp/tfhub_modules/8d0633058d241900a3e5895be9e610592a5e1fac/variables/variables with resnet_v2_152/block4/unit_2/bottleneck_v2/preact/beta\n",
            "INFO:tensorflow:Initialize variable module/resnet_v2_152/block4/unit_2/bottleneck_v2/preact/gamma:0 from checkpoint /tmp/tfhub_modules/8d0633058d241900a3e5895be9e610592a5e1fac/variables/variables with resnet_v2_152/block4/unit_2/bottleneck_v2/preact/gamma\n",
            "INFO:tensorflow:Initialize variable module/resnet_v2_152/block4/unit_2/bottleneck_v2/preact/moving_mean:0 from checkpoint /tmp/tfhub_modules/8d0633058d241900a3e5895be9e610592a5e1fac/variables/variables with resnet_v2_152/block4/unit_2/bottleneck_v2/preact/moving_mean\n",
            "INFO:tensorflow:Initialize variable module/resnet_v2_152/block4/unit_2/bottleneck_v2/preact/moving_variance:0 from checkpoint /tmp/tfhub_modules/8d0633058d241900a3e5895be9e610592a5e1fac/variables/variables with resnet_v2_152/block4/unit_2/bottleneck_v2/preact/moving_variance\n",
            "INFO:tensorflow:Initialize variable module/resnet_v2_152/block4/unit_3/bottleneck_v2/conv1/BatchNorm/beta:0 from checkpoint /tmp/tfhub_modules/8d0633058d241900a3e5895be9e610592a5e1fac/variables/variables with resnet_v2_152/block4/unit_3/bottleneck_v2/conv1/BatchNorm/beta\n",
            "INFO:tensorflow:Initialize variable module/resnet_v2_152/block4/unit_3/bottleneck_v2/conv1/BatchNorm/gamma:0 from checkpoint /tmp/tfhub_modules/8d0633058d241900a3e5895be9e610592a5e1fac/variables/variables with resnet_v2_152/block4/unit_3/bottleneck_v2/conv1/BatchNorm/gamma\n",
            "INFO:tensorflow:Initialize variable module/resnet_v2_152/block4/unit_3/bottleneck_v2/conv1/BatchNorm/moving_mean:0 from checkpoint /tmp/tfhub_modules/8d0633058d241900a3e5895be9e610592a5e1fac/variables/variables with resnet_v2_152/block4/unit_3/bottleneck_v2/conv1/BatchNorm/moving_mean\n",
            "INFO:tensorflow:Initialize variable module/resnet_v2_152/block4/unit_3/bottleneck_v2/conv1/BatchNorm/moving_variance:0 from checkpoint /tmp/tfhub_modules/8d0633058d241900a3e5895be9e610592a5e1fac/variables/variables with resnet_v2_152/block4/unit_3/bottleneck_v2/conv1/BatchNorm/moving_variance\n",
            "INFO:tensorflow:Initialize variable module/resnet_v2_152/block4/unit_3/bottleneck_v2/conv1/weights:0 from checkpoint /tmp/tfhub_modules/8d0633058d241900a3e5895be9e610592a5e1fac/variables/variables with resnet_v2_152/block4/unit_3/bottleneck_v2/conv1/weights\n",
            "INFO:tensorflow:Initialize variable module/resnet_v2_152/block4/unit_3/bottleneck_v2/conv2/BatchNorm/beta:0 from checkpoint /tmp/tfhub_modules/8d0633058d241900a3e5895be9e610592a5e1fac/variables/variables with resnet_v2_152/block4/unit_3/bottleneck_v2/conv2/BatchNorm/beta\n",
            "INFO:tensorflow:Initialize variable module/resnet_v2_152/block4/unit_3/bottleneck_v2/conv2/BatchNorm/gamma:0 from checkpoint /tmp/tfhub_modules/8d0633058d241900a3e5895be9e610592a5e1fac/variables/variables with resnet_v2_152/block4/unit_3/bottleneck_v2/conv2/BatchNorm/gamma\n",
            "INFO:tensorflow:Initialize variable module/resnet_v2_152/block4/unit_3/bottleneck_v2/conv2/BatchNorm/moving_mean:0 from checkpoint /tmp/tfhub_modules/8d0633058d241900a3e5895be9e610592a5e1fac/variables/variables with resnet_v2_152/block4/unit_3/bottleneck_v2/conv2/BatchNorm/moving_mean\n",
            "INFO:tensorflow:Initialize variable module/resnet_v2_152/block4/unit_3/bottleneck_v2/conv2/BatchNorm/moving_variance:0 from checkpoint /tmp/tfhub_modules/8d0633058d241900a3e5895be9e610592a5e1fac/variables/variables with resnet_v2_152/block4/unit_3/bottleneck_v2/conv2/BatchNorm/moving_variance\n",
            "INFO:tensorflow:Initialize variable module/resnet_v2_152/block4/unit_3/bottleneck_v2/conv2/weights:0 from checkpoint /tmp/tfhub_modules/8d0633058d241900a3e5895be9e610592a5e1fac/variables/variables with resnet_v2_152/block4/unit_3/bottleneck_v2/conv2/weights\n",
            "INFO:tensorflow:Initialize variable module/resnet_v2_152/block4/unit_3/bottleneck_v2/conv3/biases:0 from checkpoint /tmp/tfhub_modules/8d0633058d241900a3e5895be9e610592a5e1fac/variables/variables with resnet_v2_152/block4/unit_3/bottleneck_v2/conv3/biases\n",
            "INFO:tensorflow:Initialize variable module/resnet_v2_152/block4/unit_3/bottleneck_v2/conv3/weights:0 from checkpoint /tmp/tfhub_modules/8d0633058d241900a3e5895be9e610592a5e1fac/variables/variables with resnet_v2_152/block4/unit_3/bottleneck_v2/conv3/weights\n",
            "INFO:tensorflow:Initialize variable module/resnet_v2_152/block4/unit_3/bottleneck_v2/preact/beta:0 from checkpoint /tmp/tfhub_modules/8d0633058d241900a3e5895be9e610592a5e1fac/variables/variables with resnet_v2_152/block4/unit_3/bottleneck_v2/preact/beta\n"
          ],
          "name": "stdout"
        },
        {
          "output_type": "stream",
          "text": [
            "INFO:tensorflow:Initialize variable module/resnet_v2_152/block4/unit_3/bottleneck_v2/preact/gamma:0 from checkpoint /tmp/tfhub_modules/8d0633058d241900a3e5895be9e610592a5e1fac/variables/variables with resnet_v2_152/block4/unit_3/bottleneck_v2/preact/gamma\n",
            "INFO:tensorflow:Initialize variable module/resnet_v2_152/block4/unit_3/bottleneck_v2/preact/moving_mean:0 from checkpoint /tmp/tfhub_modules/8d0633058d241900a3e5895be9e610592a5e1fac/variables/variables with resnet_v2_152/block4/unit_3/bottleneck_v2/preact/moving_mean\n",
            "INFO:tensorflow:Initialize variable module/resnet_v2_152/block4/unit_3/bottleneck_v2/preact/moving_variance:0 from checkpoint /tmp/tfhub_modules/8d0633058d241900a3e5895be9e610592a5e1fac/variables/variables with resnet_v2_152/block4/unit_3/bottleneck_v2/preact/moving_variance\n",
            "INFO:tensorflow:Initialize variable module/resnet_v2_152/conv1/biases:0 from checkpoint /tmp/tfhub_modules/8d0633058d241900a3e5895be9e610592a5e1fac/variables/variables with resnet_v2_152/conv1/biases\n",
            "INFO:tensorflow:Initialize variable module/resnet_v2_152/conv1/weights:0 from checkpoint /tmp/tfhub_modules/8d0633058d241900a3e5895be9e610592a5e1fac/variables/variables with resnet_v2_152/conv1/weights\n",
            "INFO:tensorflow:Initialize variable module/resnet_v2_152/postnorm/beta:0 from checkpoint /tmp/tfhub_modules/8d0633058d241900a3e5895be9e610592a5e1fac/variables/variables with resnet_v2_152/postnorm/beta\n",
            "INFO:tensorflow:Initialize variable module/resnet_v2_152/postnorm/gamma:0 from checkpoint /tmp/tfhub_modules/8d0633058d241900a3e5895be9e610592a5e1fac/variables/variables with resnet_v2_152/postnorm/gamma\n",
            "INFO:tensorflow:Initialize variable module/resnet_v2_152/postnorm/moving_mean:0 from checkpoint /tmp/tfhub_modules/8d0633058d241900a3e5895be9e610592a5e1fac/variables/variables with resnet_v2_152/postnorm/moving_mean\n",
            "INFO:tensorflow:Initialize variable module/resnet_v2_152/postnorm/moving_variance:0 from checkpoint /tmp/tfhub_modules/8d0633058d241900a3e5895be9e610592a5e1fac/variables/variables with resnet_v2_152/postnorm/moving_variance\n"
          ],
          "name": "stdout"
        }
      ]
    },
    {
      "metadata": {
        "id": "St8FWWiq0B0z",
        "colab_type": "code",
        "colab": {
          "base_uri": "https://localhost:8080/",
          "height": 33
        },
        "outputId": "d10fdc7d-e2eb-413e-c937-7dd4fea43605"
      },
      "cell_type": "code",
      "source": [
        "print(\"Height:\", height, \"Width:\", width)"
      ],
      "execution_count": 12,
      "outputs": [
        {
          "output_type": "stream",
          "text": [
            "Height: 299 Width: 299\n"
          ],
          "name": "stdout"
        }
      ]
    },
    {
      "metadata": {
        "id": "7Uj9kNomysfs",
        "colab_type": "code",
        "colab": {}
      },
      "cell_type": "code",
      "source": [
        "train_files = os.path.join(DATA_DIR, 'train', '**/*9.jpg')\n",
        "test_files = os.path.join(DATA_DIR, 'valid', '**/*.jpg')"
      ],
      "execution_count": 0,
      "outputs": []
    },
    {
      "metadata": {
        "id": "GbeRiPv70dGw",
        "colab_type": "code",
        "colab": {}
      },
      "cell_type": "code",
      "source": [
        "num_epochs = 1\n",
        "train_ds = get_dataset(train_files, batch_size=BATCH_SIZE, shuffle=True, image_size=(height, width), num_epochs=num_epochs)\n",
        "test_ds = get_dataset(test_files, batch_size=BATCH_SIZE, image_size=(height, width), num_epochs=1, shuffle=False)"
      ],
      "execution_count": 0,
      "outputs": []
    },
    {
      "metadata": {
        "id": "8hCLbqDA20Qm",
        "colab_type": "code",
        "colab": {}
      },
      "cell_type": "code",
      "source": [
        "# create a iterator of the correct shape and type\n",
        "iter = tf.data.Iterator.from_structure(train_ds.output_types, train_ds.output_shapes)\n",
        "x, y = iter.get_next()\n",
        "\n",
        "\n",
        "# create the initialisation operations\n",
        "train_init_op = iter.make_initializer(train_ds)\n",
        "test_init_op = iter.make_initializer(test_ds)"
      ],
      "execution_count": 0,
      "outputs": []
    },
    {
      "metadata": {
        "id": "x5HhThGj0D0F",
        "colab_type": "code",
        "colab": {}
      },
      "cell_type": "code",
      "source": [
        "logits = nasnet(x)"
      ],
      "execution_count": 0,
      "outputs": []
    },
    {
      "metadata": {
        "id": "mcyj-zrb0IaR",
        "colab_type": "code",
        "colab": {}
      },
      "cell_type": "code",
      "source": [
        "dense = tf.layers.dense(logits, 64, activation=tf.tanh)\n",
        "y_ = tf.layers.dense(dense, 2)\n",
        "\n",
        "mapping_string = tf.constant([\"cats\", \"dogs\"])\n",
        "table = tf.contrib.lookup.index_table_from_tensor(\n",
        "    mapping=mapping_string, num_oov_buckets=1, default_value=-1)\n",
        "\n",
        "ids = table.lookup(y)\n",
        "loss = tf.losses.sparse_softmax_cross_entropy(labels=ids, logits=y_)\n",
        "train_op = tf.train.AdamOptimizer().minimize(loss)\n",
        "\n",
        "prediction = tf.argmax(y_, axis=1, output_type=tf.int32)\n",
        "accuracy, accuracy_op = tf.metrics.accuracy(labels=ids, predictions=prediction)"
      ],
      "execution_count": 0,
      "outputs": []
    },
    {
      "metadata": {
        "id": "Rm0YT7Q15tnO",
        "colab_type": "code",
        "colab": {
          "base_uri": "https://localhost:8080/",
          "height": 134
        },
        "outputId": "4c4f6859-1903-495b-8f09-2203f2042d60"
      },
      "cell_type": "code",
      "source": [
        "with tf.Session() as sess:\n",
        "    sess.run(train_init_op) # switch to train dataset\n",
        "    sess.run(tf.global_variables_initializer())\n",
        "    sess.run(tf.local_variables_initializer())\n",
        "    sess.run(tf.tables_initializer())\n",
        "    \n",
        "    while True:\n",
        "      try:\n",
        "        _, loss_value = sess.run([train_op, loss])\n",
        "        print(sess.run(accuracy_op), loss_value)\n",
        "      except:\n",
        "        break\n",
        "    \n",
        "    sess.run(test_init_op) # switch to val dataset\n",
        "    while True:\n",
        "      try:\n",
        "        print(sess.run([accuracy_op, prediction, ids]))\n",
        "      except:\n",
        "        break"
      ],
      "execution_count": 0,
      "outputs": [
        {
          "output_type": "stream",
          "text": [
            "0.9375 0.47709927\n",
            "0.9375 0.16609213\n",
            "0.9479167 0.14691544\n",
            "0.9609375 0.14278047\n",
            "0.9625 0.04407204\n",
            "0.9635417 0.072999604\n",
            "0.96428573 0.11890416\n"
          ],
          "name": "stdout"
        }
      ]
    }
  ]
}